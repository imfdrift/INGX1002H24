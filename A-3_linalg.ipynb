{
 "cells": [
  {
   "cell_type": "markdown",
   "id": "67ce6eff-f5a4-49c2-9a91-b4a79c3343cb",
   "metadata": {},
   "source": [
    "# Appendiks: Lineær algebra\n",
    "\n",
    "## Lineære systemer\n",
    "Når vi løser problemer numerisk ... lineær algebra\n",
    "\n",
    "$$ \\begin{aligned} x + 2y + 3z &= 1 \\\\ 4x + 5y + 6z &= 1 \\\\ 7x + 8y + 10z &= 1 \\end{aligned} \\tag{A3.1} $$\n",
    "\n",
    "$$ \\begin{aligned} x + 2y + 3z &= 1 \\\\ 4x + 5y + 6z &= 1 \\\\ 7x + 8y + 10z &= 1 \\end{aligned} \\qquad \\stackrel{{\\rm (II)} \\implies {\\rm(II)} -4\\cdot{\\rm (I)} \\\\ {\\rm (III)} \\implies {\\rm (III) -7\\cdot{\\rm (I)}} }{\\Longrightarrow} \\qquad \\begin{aligned} x + 2y + 3z &= 1 \\\\ -3y - 6z &= -3 \\\\ -6y - 11z &= -6 \\end{aligned} \\qquad \\stackrel{{\\rm (III)} \\implies {\\rm (III)} -2\\cdot{\\rm (II)} }{\\Longrightarrow} \\qquad \\begin{aligned} x + 2y + 3z &= 1 \\\\ -3y - 6z &= -3 \\\\ z &= 0 \\end{aligned} $$\n",
    "\n",
    "Herfra kan vi gå nedenfra og opp, sette inn for de kjente verdiene i ligningene \n",
    "\n",
    "Dersom vi i stedet hadde erstattet 10 med 9 i den siste ligningen ville man i andre overgang fått $0z = 0$ og vi kunne valgt denne verdien fritt så lenge de andre ligningene er oppfylt.\n"
   ]
  },
  {
   "cell_type": "markdown",
   "id": "bc6f6641-24a1-41ae-a269-abd9493a55c5",
   "metadata": {},
   "source": [
    "### Matriseform\n",
    "Mer generelt, for $n$ ligninger og $n$ ukjente kan vi følge samme prosedyre\n",
    "\n",
    "$A\\boldsymbol{x} = \\boldsymbol{b}$\n",
    "$$ A = \\begin{bmatrix} a_{11} & a_{12} & \\dots & a_{1n} \\\\ a_{21} & a_{22} &  & a_{2n} \\\\ \\vdots & & \\ddots & \\vdots \\\\ a_{n1} & a_{n2} & \\dots & a_{nn} \\end{bmatrix}, \\qquad \\boldsymbol{x} = \\begin{bmatrix} x_1 \\\\ x_2 \\\\ \\vdots \\\\ x_n \\end{bmatrix}, \\qquad \\boldsymbol{b} = \\begin{bmatrix} b_1 \\\\ b_2 \\\\ \\vdots \\\\ b_n \\end{bmatrix} $$\n",
    "\n",
    "Produktet $A\\boldsymbol{x}$ av en $n\\times n$-matrise $A$ og kolonnevektoren $\\boldsymbol{x}$ (en $n\\times 1$-matrise) gir en ny kolonnevektor $\\boldsymbol{y}$,\n",
    "$$ \\boldsymbol{y} = A\\boldsymbol{x}, \\qquad \\boldsymbol{y} = \\begin{bmatrix} y_1 \\\\ y_2 \\\\ \\vdots \\\\ y_n \\end{bmatrix}, \\qquad y_{i} = a_{i1}x_1 + a_{i2} x_2 + \\dots + a_{in} x_n = \\sum_{j=1}^n a_{ij} x_j $$\n",
    "\n",
    "\n",
    "Eksempelet ovenfor\n",
    "\n",
    "$$ A = \\begin{bmatrix} 1 & 2 & 3 \\\\ 4 & 5 & 6 \\\\ 7 & 8 & 10 \\end{bmatrix}, \\qquad \\boldsymbol{b} = \\begin{bmatrix} 1 \\\\ 1 \\\\ 1 \\end{bmatrix} $$"
   ]
  },
  {
   "cell_type": "markdown",
   "id": "6ac05bf4-b2b8-435f-a640-3d8d8b1f4863",
   "metadata": {},
   "source": [
    "## Lineær algebra i Python\n",
    "I Python kan vi bruke pakken linalg ...\n",
    "\n",
    "For å definere en vektor ... float/heltall, spesifisere type ..."
   ]
  },
  {
   "cell_type": "code",
   "execution_count": 12,
   "id": "88066e7a-7f9a-4654-9ac2-9dd782fc0f1b",
   "metadata": {},
   "outputs": [
    {
     "name": "stdout",
     "output_type": "stream",
     "text": [
      "88.44827992069864\n",
      "[-1.00000000e+00  1.00000000e+00  3.80647894e-16]\n"
     ]
    },
    {
     "data": {
      "text/plain": [
       "array([1., 1., 1.])"
      ]
     },
     "execution_count": 12,
     "metadata": {},
     "output_type": "execute_result"
    }
   ],
   "source": [
    "import numpy as np\n",
    "\n",
    "b = np.array([1,1,1],dtype=float)\n",
    "A = np.array([[1,2,3],[4,5,6],[7,8,10]])\n",
    "\n",
    "print(np.linalg.cond(A))\n",
    "x = np.linalg.solve(A,b)\n",
    "print(x)\n",
    "\n",
    "A@x"
   ]
  },
  {
   "cell_type": "code",
   "execution_count": null,
   "id": "be827697-4af8-4611-8c4c-17eb8e1c24ac",
   "metadata": {},
   "outputs": [],
   "source": []
  }
 ],
 "metadata": {
  "kernelspec": {
   "display_name": "Python 3",
   "language": "python",
   "name": "python3"
  },
  "language_info": {
   "codemirror_mode": {
    "name": "ipython",
    "version": 3
   },
   "file_extension": ".py",
   "mimetype": "text/x-python",
   "name": "python",
   "nbconvert_exporter": "python",
   "pygments_lexer": "ipython3",
   "version": "3.8.8"
  }
 },
 "nbformat": 4,
 "nbformat_minor": 5
}
