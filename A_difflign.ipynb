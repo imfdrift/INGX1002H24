{
 "cells": [
  {
   "cell_type": "markdown",
   "id": "39008e65-c469-491c-a217-8b3ae2cb700d",
   "metadata": {},
   "source": [
    "# Appendiks 4: Differensialligninger\n",
    "\n",
    "Differensialligninger er ligninger som beskriver endringer av størrelser, og er ligninger som involverer en ukjent funksjon $x(t)$ av en variabel $t$ og dens deriverte $x'(t)$ med hensyn på denne variabelen.\n",
    "Slike ligninger brukes i nær sagt all modellering: vær, aksjekurser, ...\n",
    "\n",
    "## Startverdiproblemer\n",
    "Vi begynner med å se på differensialligninger for en skalar funksjon $x(t)$ av den skalare variabelen $t$.\n",
    "Generelt vil disse være på formen\n",
    "$$ x' = f(t,x) \\tag{A4.1} $$\n",
    "Problemet der vi vil løse (A4.1) for en gitt startverdi (initialverdi) $x(s)$ for et gitt argument $s$ kalles for et startverdiproblem (initialverdiproblem), og det er vanlig å sette $s=0$.\n",
    "Navnet kommer av at vi kan tenke på den uavhengige variabelen $t$ som en tid, og $x(t)$ er \"tilstanden\" til systemet ved tid $t$.\n",
    "Differensialligningen uttrykker da hvordan størrelsen $x(t)$ endrer seg over tid fra starttilstanden $x(0)$.\n",
    "\n",
    "### Løsninger\n",
    "For at vi skal være i stand til å skrive ned et generelt uttrykk for løsningen av (A4.1), altså eksplisitt skrive $x(t)$ som en funksjon av $t$, må høyresiden $f = f(t,x)$ typisk være på en spesiell form.\n",
    "Et tilfelle hvor dette kan være mulig er dersom differensialligningen er separabel, altså når $f$ er på formen $f(t,x) = g(t) h(x)$ for funksjoner $g$ og $h$.\n",
    "\n",
    "> #### Eksempel (separabel differensialligning):\n",
    "Vi er gitt startverdiproblemet\n",
    "$$ x' = -2tx^2, \\qquad x(0) = 1. $$\n",
    "Denne differensialligningen er separabel, og vi kan derfor formelt skrive den om til \n",
    "$$ -\\int \\frac{\\mathrm{d}x}{x^2} = \\int 2t \\mathrm{d}t \\quad \\text{som vi integrerer og finner} \\quad \\frac{1}{x} = t^2 + C $$\n",
    "for en vilkårlig konstant $C$. Den generelle løsningen av differensialligningen er derfor\n",
    "$$ x(t) = \\frac{1}{t^2 + C}.$$\n",
    "Løsningen av startverdiproblemet finner vi ved å bestemme verdien av $C$ slik at $x(0) = 1$ er oppfylt. Dette ser vi at er tilfelle for $C = 1$.\n",
    "\n",
    "At $f$ ikke er på en slik form betyr likevel ikke at ligningen (3.1) ikke har løsninger.\n",
    "På samme måte som at ligningen $f(x) = 0$ kan ha løsninger $x$ (en verdi) uten at disse kan skrives ned eksakt, så kan også differensialligningen (3.1) ha løsninger $x(t)$ (en funksjon) uten at disse kan skrives ned som formler.\n",
    "Vi skal derfor se hvordan vi kan tilnærme løsninger av (3.1) [numerisk](numerisk_difflign.ipynb)."
   ]
  },
  {
   "cell_type": "markdown",
   "id": "2b179f9b-6d76-478f-b97f-6717910c93cb",
   "metadata": {},
   "source": [
    "## Lineære differensialligninger\n"
   ]
  },
  {
   "cell_type": "code",
   "execution_count": null,
   "id": "a23b7084-512d-4f2d-971e-406761f83850",
   "metadata": {},
   "outputs": [],
   "source": []
  }
 ],
 "metadata": {
  "kernelspec": {
   "display_name": "Python 3",
   "language": "python",
   "name": "python3"
  },
  "language_info": {
   "codemirror_mode": {
    "name": "ipython",
    "version": 3
   },
   "file_extension": ".py",
   "mimetype": "text/x-python",
   "name": "python",
   "nbconvert_exporter": "python",
   "pygments_lexer": "ipython3",
   "version": "3.8.8"
  }
 },
 "nbformat": 4,
 "nbformat_minor": 5
}
