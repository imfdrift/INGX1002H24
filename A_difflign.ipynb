{
 "cells": [
  {
   "cell_type": "markdown",
   "id": "39008e65-c469-491c-a217-8b3ae2cb700d",
   "metadata": {},
   "source": [
    "# Appendiks 4: Differensialligninger\n",
    "\n",
    "Differensialligninger er ligninger som beskriver endringer av størrelser, og er ligninger som involverer en ukjent funksjon $x(t)$ av en variabel $t$ og dens deriverte $x'(t)$ med hensyn på denne variabelen.\n",
    "Slike ligninger brukes i nær sagt all modellering: vær, aksjekurser, ...\n",
    "\n",
    "## Startverdiproblemer\n",
    "Vi begynner med å se på differensialligninger for en skalar funksjon $x(t)$ av den skalare variabelen $t$.\n",
    "Generelt vil disse være på formen\n",
    "$$ x' = f(t,x) \\tag{A4.1} $$\n",
    "Problemet der vi vil løse (A4.1) for en gitt startverdi (initialverdi) $x(s)$ for et gitt argument $s$ kalles for et startverdiproblem (initialverdiproblem), og det er vanlig å sette $s=0$.\n",
    "Navnet kommer av at vi kan tenke på den uavhengige variabelen $t$ som en tid, og $x(t)$ er \"tilstanden\" til systemet ved tid $t$.\n",
    "Differensialligningen uttrykker da hvordan størrelsen $x(t)$ endrer seg over tid fra starttilstanden $x(0)$."
   ]
  },
  {
   "cell_type": "markdown",
   "id": "93d981e2-ae1a-47e2-b9c4-2caf4cfebb9e",
   "metadata": {},
   "source": [
    "### Løsninger\n",
    "For at vi skal være i stand til å skrive ned et generelt uttrykk for løsningen av (A4.1), altså eksplisitt skrive $x(t)$ som en funksjon av $t$, må høyresiden $f = f(t,x)$ typisk være på en spesiell form.\n",
    "Et tilfelle hvor dette kan være mulig er dersom differensialligningen er separabel, altså når $f$ er på formen $f(t,x) = g(t) h(x)$ for funksjoner $g$ og $h$.\n",
    "$$ \\frac{\\mathrm{d}x}{\\mathrm{d}t} = g(t)h(x) \\implies \\frac{\\mathrm{d}x}{h(x)} = g(t)\\mathrm{d}t \\implies \\int\\frac{\\mathrm{d}x}{h(x)} = \\int g(t)\\mathrm{d}t $$\n",
    "\n",
    "> #### Eksempel (separabel differensialligning):\n",
    "Vi er gitt startverdiproblemet\n",
    "$$ x' = -2tx^2, \\qquad x(0) = 1. \\tag{A4.2} $$\n",
    "Denne differensialligningen er separabel, og vi kan derfor formelt skrive den om til \n",
    "$$ -\\int \\frac{\\mathrm{d}x}{x^2} = \\int 2t \\mathrm{d}t \\quad \\text{som vi integrerer og finner} \\quad \\frac{1}{x} = t^2 + C $$\n",
    "for en vilkårlig konstant $C$. Den generelle løsningen av differensialligningen er derfor\n",
    "$$ x(t) = \\frac{1}{t^2 + C}.$$\n",
    "Løsningen av startverdiproblemet (A4.2) finner vi ved å bestemme verdien av $C$ slik at $x(0) = 1$ er oppfylt. Dette ser vi at er tilfelle for $C = 1$.\n",
    "\n",
    "At $f$ ikke er på en slik form betyr likevel ikke at ligningen (A4.1) ikke har løsninger.\n",
    "På samme måte som at ligningen $f(x) = 0$ kan ha løsninger $x$ (en verdi) uten at disse kan skrives ned eksakt, så kan også differensialligningen (A4.1) ha løsninger $x(t)$ (en funksjon) uten at disse kan skrives ned som formler.\n",
    "Vi skal derfor se hvordan vi kan tilnærme løsninger av (A4.1) [numerisk](3_difflign.ipynb)."
   ]
  },
  {
   "cell_type": "markdown",
   "id": "2b179f9b-6d76-478f-b97f-6717910c93cb",
   "metadata": {},
   "source": [
    "## Lineære differensialligninger\n",
    "En spesifikk type differensiallignigner som vi kan løse eksakt er *lineære* differensialligninger, hvor $f(t,x)$ er en lineær funksjon av den ukjente $x$.\n",
    "\n",
    "> #### Eksempel\n",
    "$$ x' = t-x, \\qquad x(0) = x_0 \\tag{A4.3} $$\n",
    ">\n",
    ">$$ x(t) = t-1 + e^{-t}(1+x_0) $$\n",
    "\n",
    "### Retningsfelt og faseplott\n",
    "\n",
    "La oss se på et koordinatsystem med variabelen $t$ langs den horisontale aksen og variabelen $x$ langs den vertikale aksen. La så $(t_0,x_0)$ være et punkt i dette koordinatsystemet, og $x(t)$ være en løsning av differensialligningen (A4.1) slik at grafen $(t,x(t))$ går gjennom dette punktet. Da må vi nødvendigvis ha sammenhengen\n",
    "\n",
    "$$ x'(t_0) = f(t_0,x_0). $$\n",
    "\n",
    "Her kan vi tenke på $x'(t_0)$ som stigningstallet til tangenten til grafen av $x(t)$ i punktet $t_0$. Vektoren $(1,f(t_0,x_0))$ har det samme stigningstallet, og det har også den reskalerte vektoren $(h,hf(t_0,x_0))$ for enhver $h > 0$. Dersom vi tegner inn piler gitt av slike vektorer for en mengde slike punkter i koordinatsystemet får vi et *retningsfelt* for differensialligningen (A4.1).\n",
    "Dersom vi tegner inn grafen av en løsning for differensialligningen vil disse pilene alltid tangentielle til kurven.\n",
    "Man kan tenke seg at for et startverdiproblem med startpunkt $t=t_0$ og startverdi $x=x_0$ vil løsningen være gitt av kurven $(t,x(t))$ som starter i punktet $(t_0,x_0)$ og følger pilene gjennom planet.\n",
    "\n",
    "Dersom vi i stedet for pilene tegner inn disse kurvene for flere ulike startverdier får vi et såkalt *faseplott*.\n",
    "\n",
    ">#### Eksempel\n",
    "><img src=\"3_retningsfelt2.png\" style=\"width: 70%\">\n",
    ">\n",
    ">Ovenfor har vi et retningsfelt og et faseplott for det forrige eksempelet. I retningsfeltet har vi tegnet inn grafene til løsningen av startverdiproblemet for de tre startverdiene $x_0 = -1$, $0$, og $1$. Her ser vi hvordan pilene ligger tangentielt langs grafene, og at disse grafene er tre av de mange kurvene i faseplottet til høyre.\n",
    ">\n",
    ">Vi ser også at pilene er brattere og lengre jo større absoluttverdien av $f(t,x) = t-x$ er. Vi kan også skimte at pilene er horisontale langs $x = t$, som reflekterer at $f(t,t) = 0$. \n"
   ]
  },
  {
   "cell_type": "code",
   "execution_count": null,
   "id": "a23b7084-512d-4f2d-971e-406761f83850",
   "metadata": {},
   "outputs": [],
   "source": []
  }
 ],
 "metadata": {
  "kernelspec": {
   "display_name": "Python 3",
   "language": "python",
   "name": "python3"
  },
  "language_info": {
   "codemirror_mode": {
    "name": "ipython",
    "version": 3
   },
   "file_extension": ".py",
   "mimetype": "text/x-python",
   "name": "python",
   "nbconvert_exporter": "python",
   "pygments_lexer": "ipython3",
   "version": "3.8.8"
  }
 },
 "nbformat": 4,
 "nbformat_minor": 5
}
