{
 "cells": [
  {
   "cell_type": "markdown",
   "id": "e2d2bf69-4487-411d-a450-b818df924797",
   "metadata": {},
   "source": [
    "# Eulers metode\n",
    "\n",
    "Vi ser på den skalare differensialligningen\n",
    "$$ x' = f(t,x). \\tag{3.1} $$\n",
    "\n",
    "Numeriske løsninger av differensialligningen (3.1) tar typisk utgangspunkt i det tilhørende startverdiproblemet. \n",
    "Gitt startverdien $x(0) = x_0$ og en tid $T > 0$ vil vi finne en tilnærming av verdien til $x$ ved tiden $T$, altså $x(T)$.\n",
    "\n",
    "Én måte å tilnærme løsninger av (1) på er Eulers metode, som er basert på foroverdifferansen som vi allerede har sett.\n",
    "Vi begynner med en partisjon $\\{t_n\\}_{n=0}^{N}$ av intervallet $[0,T]$, hvor vi for enkelhets skyld velger en jevn oppdeling med $h = T/N$ sånn at $t_n = n h$.\n",
    "Idéen er da at ved $t=t_n$ er forhåpentlig foroverdifferansen en god tilnærming av den deriverte $x'(t_n)$, det vil si,\n",
    "\n",
    "$$ \\frac{x(t_n+h)-x(t_n)}{h} \\approx f(t_n,x(t_n)). $$\n",
    "\n",
    "Alternativt kan vi tenke på Eulers metode som resultatet av numerisk integrasjon: dersom vi integrerer (3.1) fra $t_n$ til $t_{n+1} = t_n+h$ får vi\n",
    "\n",
    "$$ x(t_n+h) -x(t_n) = \\int_{t_n}^{t_n+h}f(s,x(s))\\,\\mathrm{d}s \\approx h f(t_n,x(t_n)), $$\n",
    "hvor vi i siste overgang har tilnærmet integralet på Riemann-vis med $h$ ganger verdien av $f(t,x(t))$ i endepunktet $t_n$. \n",
    "\n",
    "Dersom $x(t_n)$ er kjent, kan vi med sammenhengen ovenfor finne en tilnærming av $x(t_{n+1}) = x(t_n+h)$.\n",
    "På denne måten kan vi fortsette inntil vi har en tilnærming av $x(T) = x(t_N)$.\n",
    "\n",
    "For $t_0 = 0$ har vi $x(t_0) = x_0$, den eksakte verdien, men for alle andre $t_n$ vil vi bare ha tilnærminger av $x(t_n)$, og vi kaller disse tilnærmingene $x_n$.\n",
    "> #### Definisjon: (Eksplisitt) Eulers metode\n",
    "Vi ser på differensialligningen (3.1) med startverdi $x(0) = x_0$. For en gitt steglengde $h > 0$ og $t_n = n h$, så er tilnærmingen $x_{n+1}$ av $x(t_{n+1})$ med Eulers metode gitt av\n",
    "$$ x_{n+1} = x_n + h f(t_n, x_n), \\quad n = 0, 1, \\dots $$\n",
    "\n"
   ]
  },
  {
   "cell_type": "markdown",
   "id": "73c26ad8-f3e4-42da-aef9-a1fa1d0a4b57",
   "metadata": {},
   "source": [
    "> #### Eksempel:\n",
    "Vi ser på differensialligningen\n",
    ">\n",
    ">$$ x'(t) = \\lambda x(t) \\tag{3.2} $$\n",
    ">\n",
    ">for en reell konstant $\\lambda$ og startverdi $x(0) = x_0$, og vil finne løsningen for $t = T > 0$. Vi setter $h = T/N$ og $t_n = n h$ for $n \\in \\{0,\\dots,N\\}$.\n",
    "Eulers metode gir oss at tilnærmingen $x_n$ oppfyller\n",
    ">\n",
    ">$$ x_{n} = x_{n-1} + h\\lambda x_{n-1} = (1+h \\lambda)x_{n-1} = (1+h \\lambda)^2 x_{n-2} = \\dots = (1+h \\lambda)^n x_0, $$\n",
    ">\n",
    ">og $x_N$ er tilnærmingen av $x(T)$. Dersom vi lar steglengden $h > 0$ gå mot null, altså $h \\to 0$, forventer vi at Eulers metode gir oss det eksakte svaret.\n",
    "Siden $T > 0$ er fast, vil $h \\to 0$ tilsvare å la antall det totale antallet steg $N$ gå mot uendelig, altså $N \\to \\infty$.\n",
    ">\n",
    ">For eksponensialfunksjonen har vi en nokså kjent grenseverdi som sier at for ethvert reelt tall $a$ har vi\n",
    ">\n",
    ">$$ \\lim\\limits_{n\\to\\infty} \\left(1 + \\frac{a}{n}\\right)^n = e^a.$$\n",
    ">\n",
    ">Vi setter $a = h \\lambda$ ovenfor og finner da at grenseverdien av tilnærmingene våre er $\\lim\\limits_{N\\to\\infty}x_N = x_0 e^{\\lambda T}$, som er den eksakte løsningen av ligningen ved tid $t=T$.\n",
    "\n"
   ]
  },
  {
   "cell_type": "markdown",
   "id": "d1fedbcb-0e34-4ed3-aa0b-5ea457cb9e4a",
   "metadata": {},
   "source": [
    "## Eulers metode og retningsfelter"
   ]
  },
  {
   "cell_type": "code",
   "execution_count": null,
   "id": "87f4ed34-225d-452a-9148-3f4b0ed10daa",
   "metadata": {},
   "outputs": [],
   "source": []
  }
 ],
 "metadata": {
  "kernelspec": {
   "display_name": "Python 3",
   "language": "python",
   "name": "python3"
  },
  "language_info": {
   "codemirror_mode": {
    "name": "ipython",
    "version": 3
   },
   "file_extension": ".py",
   "mimetype": "text/x-python",
   "name": "python",
   "nbconvert_exporter": "python",
   "pygments_lexer": "ipython3",
   "version": "3.8.8"
  }
 },
 "nbformat": 4,
 "nbformat_minor": 5
}
