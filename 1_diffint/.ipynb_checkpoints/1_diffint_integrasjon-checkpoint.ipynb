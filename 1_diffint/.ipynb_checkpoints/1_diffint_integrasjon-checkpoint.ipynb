{
 "cells": [
  {
   "cell_type": "markdown",
   "id": "2a20654a-9fba-42ac-bc79-a8258974da0a",
   "metadata": {},
   "source": [
    "# Numerisk integrasjon\n",
    "\n",
    "På tilsvarende vis som vi kan derivere en funksjon $f$ ved hjelp av definisjonen, kan vi også noen ganger, men ikke alltid, finne et uttrykk for den antideriverte $ \\int f\\,\\mathrm{d}x$, som vi så kan bruke til å regne ut bestemte integraler $\\int_a^b f\\,\\mathrm{d}x$. Andre ganger er ikke dette mulig, fordi $f$ ikke har en antiderivert som vi kan uttrykke ved hjelp av kjente funksjoner.\n",
    "På den annen side kan det være at vi kun kjenner verdien av funksjonen $f$ i en gitt mengde punkter, for eksempel som et resultat av en rekke målinger.\n",
    "Dette er tilfeller hvor vi isteden kan ha stor nytte av å tilnærme det bestemte integralet ved hjelp av numerisk integrasjon.\n",
    "\n",
    "### Det bestemte integralet og riemannsummer\n",
    "Gitt en kontinuerlig funksjon $f$ på intervallet $[a,b]$ vet vi at integralet $\\int_a^bf(x) \\,\\mathrm{d}x$ kan sees på som grenseverdien av *riemannsummer*.\n",
    "\n",
    "En partisjon, eller inndeling, $P$ av intervallet $[a,b]$ er en samling punkter $P \\doteq \\{x_0, x_1, \\dots, x_n\\}$ som oppfyller $a = x_0 < x_1 < \\dots < x_n = b$.\n",
    "Disse deler $[a,b]$ inn i $n$ delintervaller med lengde $h_k \\doteq x_k-x_{k-1}$ for $k \\in \\{1,\\dots,n\\}$, og i hvert av disse kan vi velge oss et punkt $x_k^* \\in [x_{k-1}, x_k]$.\n",
    "Da er \n",
    "$$ \\sum_{k=1}^{n} h_k f(x_{k}^*) $$\n",
    "en *riemannsum* for funksjonen $f$ på intervallet $[a,b]$. Lengden av det lengste delintervallet er et mål på hvor fin partisjonen $P$ er, og vi skriver $\\|P\\| = \\max_{1\\le k \\le n}h_k$.\n",
    "Vi kan redusere denne ved å øke $n$, det vil si dele $[a,b]$ opp i flere delintervaller.\n",
    "Da har vi lært at grenseverdien av riemannsummen er det bestemte integralet,\n",
    "$$ \\lim_\\limits{\\|P\\|\\to0} \\sum_{k=1}^{n} h_k f(x_{k}^*) = \\int_{a}^{b} f(x)\\,\\mathrm{d}x \\doteq I.$$\n",
    "\n",
    "Her kan vi forenkle uttrykkene litt ved å la avstanden mellom hvert punkt $x_k$ i partisjonen være like lang, det vil si å velge $h_k = h = (b-a)/n$ slik at $x_k = a + k h$ for $k \\in \\{0,1,\\dots,n\\}$, og vi får\n",
    "$$ \\lim_\\limits{n\\to\\infty} h\\sum_{k=1}^{n} f(x_{k}^*) = \\int_{a}^{b} f(x)\\,\\mathrm{d}x.$$\n",
    "Vi vil fra nå av alltid gjøre dette valget.\n",
    "\n",
    "Tilsvarende definisjonen av den deriverte, ser vi at det bestemte integralet også opptrer som en grenseverdi og det krever \"uendelig\" mange steg å evaluere den.\n",
    "På samme måte som for numerisk derivasjon kan vi da tenke oss at en enkel tilnærming av det bestemte integralet vil være å simpelthen velge riemannsummen for en endelig, fin nok partisjon $P$, altså en stor nok verdi av $n$."
   ]
  },
  {
   "cell_type": "markdown",
   "id": "9c983c20-6a8a-4ce1-9a2f-3205cad29da6",
   "metadata": {},
   "source": [
    ">#### Eksempel:\n",
    "> Grafen til funksjonen $f(x) = 2+x-\\sin(\\pi x/2)$ på intervallet $[-2,2]$ er gitt av den heltrukne blå kurven i figuren nedenfor.\n",
    "> Det bestemte integralet av $f$ over det samme intervallet tilsvarer arealet av området under grafen og over $x$-aksen.\n",
    ">Riemannsummen med $n=4$ tilnærmer dette arealet med fire rektangler med høyder $f(x_i^*)$ for $x_i^* \\in [x_{i-1},x_i]$ og $i = 1,2,3,4$.\n",
    "Ifiguren under har vi valgt $x_i^*$ til å være midtpunktet på hvert intervall, men vi kunne valgt noe annet.\n",
    ">\n",
    "><img src=\"1_riemann.png\" style=\"width: 40%\">\n",
    ">\n",
    ">Her kan vi se for oss at avviket mellom arealet under grafen og arealet av alle rektanglene blir mindre desto flere rektangler vi bruker.\n",
    "Dette er idéen bak riemannsummer."
   ]
  },
  {
   "cell_type": "markdown",
   "id": "9f366bca-60a0-43ac-a125-e5234250b244",
   "metadata": {},
   "source": [
    ">**Merk:**\n",
    "Når vi har en partisjon bestående av en samling punkter er det vanlig å ta utgangspunkt at vi kjenner funksjonsverdien til $f$ i de samme punktene.\n",
    "På samme vis som vi tidligere brukte disse verdiene til å finne tilnærminger av den deriverte $f'$ i punktene, skal vi i det følgende se hvordan vi kan bruke dem til å tilnærme det bestemte integralet av $f$ over intervallet vi har en partisjon av."
   ]
  },
  {
   "cell_type": "code",
   "execution_count": null,
   "id": "0921c672-79fa-422e-86e2-322633d51bc1",
   "metadata": {},
   "outputs": [],
   "source": []
  }
 ],
 "metadata": {
  "kernelspec": {
   "display_name": "Python 3",
   "language": "python",
   "name": "python3"
  },
  "language_info": {
   "codemirror_mode": {
    "name": "ipython",
    "version": 3
   },
   "file_extension": ".py",
   "mimetype": "text/x-python",
   "name": "python",
   "nbconvert_exporter": "python",
   "pygments_lexer": "ipython3",
   "version": "3.8.8"
  }
 },
 "nbformat": 4,
 "nbformat_minor": 5
}
