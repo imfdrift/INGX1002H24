{
 "cells": [
  {
   "cell_type": "markdown",
   "id": "45acf1fb-57d5-4afa-a35e-28949581a55a",
   "metadata": {},
   "source": [
    "# Numerisk derivasjon og ustabilitet\n",
    "Tidligere har vi sett at vi kan få problemer med avrundingsfeil når vi utfører operasjoner med flyttall på en datamaskin.\n",
    "Dette er også tilfelle her hvor vi for kontinuerlige $f$ og svært små $h$ vil trekke to omtrent like store tall fra hverandre og dele på et veldig lite tall:\n",
    "dersom $h$ blir liten nok vil avrundingsfeilen bli dominerende, og vi vil få store avvik.\n",
    "La oss se på samme eksempel igjen, men denne gangen for $h = 10^{-n}$ for $n = 0,\\dots,10$\n",
    "\n",
    "<img src=\"1_num_ustab.png\" style=\"width: 100%\">"
   ]
  },
  {
   "cell_type": "markdown",
   "id": "f17b6e79-8a8a-4007-8921-f3b32cf632ab",
   "metadata": {},
   "source": [
    "Legg merke til hvordan feilen avtar med jevn rate helt til $h \\approx 10^{-5}$, hvor sentraldifferansen begynner å få problemer.\n",
    "Forover- og bakover-differansene holder ut litt lenger, til omtrent $h \\approx 10^{-8}$, før de også gir større feil.\n",
    "\n",
    "Når vi representerer er flyttall på en datamaskin vil det alltid være en liten feil: vi kan skrive $\\hat{f}(x) = f(x) + \\epsilon$, hvor $f(x)$ er den faktiske funksjonsverdien, $\\hat{f}(x)$ er flyttallsrepresentasjonen av funksjonsverdien, og $\\epsilon$ er avviket mellom disse, $|\\epsilon| \\approx \\epsilon_\\text{mach}$, vanlig flyttallspresisjon har $\\epsilon_\\text{mach} \\approx 2\\cdot 10^{-16} $\n",
    "***Detaljer om absolutt og relativ feil utelatt. Finn ut om det er dekket av programmering, evt. ta med med dette?***\n",
    "\n",
    "For å estimere feilen kan vi bruke trekantulikheten ($|a+b| \\le |a| + |b|$) og feilformelen (1.5), som følger\n",
    "\n",
    "$$ \\left| f'(x) - \\frac{\\hat{f}(x+h)-\\hat{f}(x-h)}{2h} \\right| = \\left| f'(x) - \\frac{f(x+h)-f(x-h)}{2h} - \\frac{\\epsilon_2-\\epsilon_1}{2h} \\right| \\le \\frac{h^2}{6}|f'''(c)| + \\frac{|\\epsilon_2-\\epsilon_1|}{2h} \\le \\frac{h^2}{6}|f'''(c)| + \\frac{|\\epsilon_2|+|\\epsilon_1|}{2h} \\lesssim \\frac{h^2}{6}|f'''(x)| + \\frac{\\epsilon_\\text{mach}}{h}.$$\n",
    "\n",
    "Her har vi brukt at for $h > 0$ liten nok vil $f'''(c) \\approx f'''(x)$, som i vårt tilfelle er $e^x = e^0 = 1$.\n",
    "La oss estimere feilen vi gjør ved å si at feilen er mindre enn $E_\\text{s}(h)$, en funksjon av $h$ definert som\n",
    "$$ E_\\text{s}(h) \\doteq \\frac{h^2}{6} + \\frac{\\epsilon_\\text{mach}}{h}. $$\n",
    "På tilsvarende vis kan vi bruke ligning (1) til å finne et estimat $E_\\text{f}(h)$ for foroverdifferansen,\n",
    "$$ E_\\text{f}(h) \\doteq \\frac{h}{2} + \\frac{2 \\epsilon_\\text{mach}}{h}. $$\n",
    "\n",
    "Legg merke til at $E_\\text{s}''(h) > 0$ (og $E_\\text{f}''(h) > 0$) for $h > 0$, så et kritisk punkt $h = h_\\text{s}$ hvor $E_\\text{s}'(h) = 0$ vil være et minimum for funksjonen $E_\\text{s}(h)$, og feilen vil øke igjen for $h > h_\\text{s}$.\n",
    "\n",
    "Vi løser for $h$ i de to tilfellene og finner\n",
    "$$ 0 = E_\\text{s}'(h) = \\frac{h}{3} - \\frac{\\epsilon_\\text{mach}}{h^2} \\implies h_\\text{s} = \\sqrt[3]{3 \\epsilon_\\text{mach}}, \\qquad \\text{og} \\qquad 0 = E_\\text{f}'(h) = \\frac12 - \\frac{2\\epsilon_\\text{mach}}{h^2} \\implies h_\\text{f} = 2 \\sqrt{\\epsilon_\\text{mach}}. $$\n",
    "\n",
    "La oss sjekke hvordan dette stemmer med flyttallspresisjonen vi bruker her i Python! I numpy kan vi bruke kommandoen `np.finfo(float).eps` til å finne $\\epsilon_\\text{mach}$ for tall av typen 'float'."
   ]
  },
  {
   "cell_type": "code",
   "execution_count": 7,
   "id": "b1911106-9268-46d2-a0ab-c293d187b274",
   "metadata": {},
   "outputs": [
    {
     "name": "stdout",
     "output_type": "stream",
     "text": [
      "Maskin-epsilon er 2.22e-16.\n",
      "Det kritiske punktet for sentraldifferanse-feilen er omtrent 2.22e-16, imens for foroverdifferanse er det kritiske punktet omtrent 8.73e-06.\n"
     ]
    }
   ],
   "source": [
    "import numpy as np\n",
    "\n",
    "epsi = np.finfo(float).eps # maskinvare-epsilon for talltypen float\n",
    "h_s = np.cbrt(3*epsi) # kritisk skrittlengde for senterdifferanse\n",
    "h_f = 2*np.sqrt(epsi) # kritisk skrittlengde for foroverdifferanse\n",
    "       \n",
    "print('Maskin-epsilon er {:.2e}.'.format(epsi))\n",
    "print('Det kritiske punktet for sentraldifferanse-feilen er omtrent {:.2e}, imens for foroverdifferanse er det kritiske punktet omtrent {:.2e}.'.format(epsi,h_s,h_f))"
   ]
  },
  {
   "cell_type": "markdown",
   "id": "0f1d072a-d1c2-4eed-9d93-7304cb596f5f",
   "metadata": {},
   "source": [
    "Vi ser at dette stemmer ganske godt med grafene ovenfor!\n",
    "\n",
    "Moralen er at når vi utfører numerisk derivasjon må vi være påpasselige med å ikke ta for små steg $h$ i forhold til flyttallspresisjonen vi opererer med.\n",
    "\n",
    "**Kilder**: Sauer kap. 5.1"
   ]
  },
  {
   "cell_type": "code",
   "execution_count": null,
   "id": "8900efdc-2bb0-4116-a848-1e6c7fd63499",
   "metadata": {},
   "outputs": [],
   "source": []
  }
 ],
 "metadata": {
  "kernelspec": {
   "display_name": "Python 3",
   "language": "python",
   "name": "python3"
  },
  "language_info": {
   "codemirror_mode": {
    "name": "ipython",
    "version": 3
   },
   "file_extension": ".py",
   "mimetype": "text/x-python",
   "name": "python",
   "nbconvert_exporter": "python",
   "pygments_lexer": "ipython3",
   "version": "3.8.8"
  }
 },
 "nbformat": 4,
 "nbformat_minor": 5
}
