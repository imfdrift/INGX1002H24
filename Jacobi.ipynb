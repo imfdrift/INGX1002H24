{
 "cells": [
  {
   "cell_type": "markdown",
   "id": "4d17b7a0-f9a7-4636-9e74-d53bf13edc0d",
   "metadata": {},
   "source": [
    "Tidligere har vi sett at skalare ligninger $f(x) = 0$ kan løses iterativt, med for eksempel fikspunktiterasjoner der man skriver om $f(x) = 0$ på formen $x = g(x)$.\n",
    "Samme idé kan brukes på lineære systemer av ligninger\n",
    "$$ \\begin{align*} 2x + y = 1 \\\\ 3x + 5y = 0 \\end{align*} $$\n",
    "\n",
    "$$ \\begin{bmatrix} 2 & 1 \\\\ 3 & 5 \\end{bmatrix} \\begin{bmatrix} x \\\\ y \\end{bmatrix} = \\begin{bmatrix} 1 \\\\ 0 \\end{bmatrix}, \\qquad A \\boldsymbol{x} = \\boldsymbol{b}$$"
   ]
  },
  {
   "cell_type": "code",
   "execution_count": null,
   "id": "94179f74-820f-4878-87cf-782cde84f2a7",
   "metadata": {},
   "outputs": [],
   "source": []
  }
 ],
 "metadata": {
  "kernelspec": {
   "display_name": "Python 3",
   "language": "python",
   "name": "python3"
  },
  "language_info": {
   "codemirror_mode": {
    "name": "ipython",
    "version": 3
   },
   "file_extension": ".py",
   "mimetype": "text/x-python",
   "name": "python",
   "nbconvert_exporter": "python",
   "pygments_lexer": "ipython3",
   "version": "3.8.8"
  }
 },
 "nbformat": 4,
 "nbformat_minor": 5
}
