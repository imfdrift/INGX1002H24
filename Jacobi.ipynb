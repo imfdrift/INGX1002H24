{
 "cells": [
  {
   "cell_type": "markdown",
   "id": "4d17b7a0-f9a7-4636-9e74-d53bf13edc0d",
   "metadata": {},
   "source": [
    "# Jacobimetoden\n",
    "Tidligere har vi sett at skalare ligninger $f(x) = 0$ kan løses iterativt, med for eksempel fikspunktiterasjoner der man skriver om $f(x) = 0$ på formen $x = g(x)$.\n",
    "\n",
    "Samme idé kan brukes på lineære systemer av ligninger. La oss for eksempel se på systemet\n",
    "$$ \\begin{align*} 2x + y &= 5, \\\\ 3x + 5y &= 11. \\end{align*} $$\n",
    "Dersom vi løser første ligning for $x$ og andre ligning for $y$ får vi\n",
    "$$ x = \\frac{5-y}{2}, \\quad y = \\frac{11-3x}{5}, $$\n",
    "som vi kan bruke til å definere iterasjonen.\n",
    "Tilsvarende fikspunktiterasjon velger vi oss startgjetninger $x_0, y_0$ og definerer deretter de neste iteratene som\n",
    "$$ x_{k+1} = \\frac{5-y_k}{2}, \\quad y_{k+1} = \\frac{11-3x_k}{5}. $$\n",
    "\n",
    "La oss gjennomføre $10$ iterasjoner med startgjetninger $x_0 = 0$, $y_0=0$ (eller velg selv antall iterasjoner og startgjetninger i koden under)."
   ]
  },
  {
   "cell_type": "code",
   "execution_count": 55,
   "id": "94179f74-820f-4878-87cf-782cde84f2a7",
   "metadata": {},
   "outputs": [
    {
     "name": "stdout",
     "output_type": "stream",
     "text": [
      "Etter 10 iterasjoner har vi tilnærmingene x ≈ 1.99514 og y ≈ 0.99757. Innsatt i 2x + y og 3x + 5y får vi 4.98785 og 10.97327.\n"
     ]
    }
   ],
   "source": [
    "N = 10 # antall iterasjoner\n",
    "\n",
    "x = 0 # startgjetning for x\n",
    "y = 0 # startgjetning for y\n",
    "\n",
    "for k in range(0,N):\n",
    "    x, y = (5-y)/2, (11-3*x)/5\n",
    "    \n",
    "print('Etter {} iterasjoner har vi tilnærmingene x ≈ {} og y ≈ {}. Innsatt i 2x + y og 3x + 5y får vi {} og {}.'.format(N,x,y,2*x+y,3*x+5*y))"
   ]
  },
  {
   "cell_type": "markdown",
   "id": "eaf66af1-fdf0-46f7-847a-ffa1eb5f3c42",
   "metadata": {},
   "source": [
    "Forhåpentlig vil tilnærmingene ovenfor være i nærheten av den eksakte løsningen $x=2$ og $y=1$.\n",
    "\n",
    "Samme idé gjelder for et generelt lineært system av $n$ ligninger og $n$ ukjente: vi løser ligning nummer $i$ for ukjent nummer $i$, og itererer på samme vis.\n",
    "Mer konkret, la ligning nummer $i$ være gitt av\n",
    "\n",
    "$$ \\sum_{j=1}^n a_{ij} x^{(i)} = b_i, \\quad \\text{for} \\quad i = 1,...,n, \\tag{1}$$\n",
    "\n",
    "hvor ukjent nummer $i$ er gitt av $x^{(i)}$.\n",
    "Gitt iterat nummer $k$, $x_k^{(i)}$ for $i = 1,...,n$, så er neste iterat $x_{k+1}^{(i)}$ definert som\n",
    "\n",
    "$$ x_{k+1}^{(i)} = \\displaystyle \\frac{1}{a_{ii}} \\left( b_i - \\sum_{\\substack{j=1 \\\\ j \\neq i}}^n a_{ij} x_k^{(j)}\\right), \\quad \\text{for} \\quad i = 1,...,n. $$\n",
    "\n",
    "Her ser vi at det er viktig at koeffisientene $a_{ii} \\neq 0$ for alle $i = 1,...,n$ for at metoden skal være definert, dermed kan det være nødvendig å bytte om på ligningsrekkefølgen.\n",
    "\n",
    "Dette blir kalt *Jacobimetoden*, og kan skrives mer kompakt med matrise- og vektornotasjon: vi samler komponentene $x^{(i)}$ og $b_i$ i vektorene $\\boldsymbol{x}$ og $\\boldsymbol{b}$, og koeffisientene $a_{ij}$ i en matrise $A$ slik at systemet (1) ovenfor kan skrives som $A \\boldsymbol{x} = \\boldsymbol{b}$.\n",
    "Matrisen $A$ kan alltid skrives som en sum $A = D + L + U$, hvor $D$ er matrisen med diagonalelementene til $A$, $L$ inneholder elementene under diagonalen og $U$ inneholder elementene over diagonalen.\n",
    "Da kan vi definere en iterasjon ved å la $D$ multiplisere neste iterat $\\boldsymbol{x}_{k+1}$, og $L$ og $U$ multiplisere forrige iterat $\\boldsymbol{x}_{k}$.\n",
    "Dersom $D$ er inverterbar, det vil si at diagonalelementene $a_{ii} \\neq 0$ for alle $i=1,...,n$, kan vi løse for $\\boldsymbol{x}_{k+1}$:\n",
    "\n",
    "$$D \\boldsymbol{x}_{k+1} = \\boldsymbol{b} - (U+L)\\boldsymbol{x}_{k} \\implies \\boldsymbol{x}_{k+1} = D^{-1}(\\boldsymbol{b} - (U+L)\\boldsymbol{x}_{k}) $$\n",
    "\n",
    "> **Jacobimetoden**: Gitt et et lineært system $A \\boldsymbol{x} = \\boldsymbol{b}$. Vi dekomponerer $A$ i dens diagonaldel $D$, nedre og øvre triangulære del $L$ og $U$, og antar at $D$ er inverterbar. For en startgjetning $\\boldsymbol{x}_{0}$ er Jacobimetoden gitt av iterasjonen\n",
    "$$\\boldsymbol{x}_{k+1} = D^{-1}(\\boldsymbol{b} - (U+L)\\boldsymbol{x}_{k}), \\quad k = 0, 1, ... $$"
   ]
  },
  {
   "cell_type": "markdown",
   "id": "9d63336b-bd9a-4da2-be07-fb081475297b",
   "metadata": {},
   "source": [
    "Som for fikspunktiterasjon for skalare ligninger er det ikke gitt at Jacobimetoden faktisk konvergerer til en løsning av ligningssystemet; dette vil avhenge av egenskapene til matrisen $A$.\n",
    "Det finnes et kriterie som er tilstrekkelig for at dette skal skje, og som har å gjøre med følgende egenskap for matriser.\n",
    "> **Definisjon 1**: En matrise $A = \\{a_{ij}\\}$ er *strengt diagonaldominant* dersom vi for hver $i \\in \\{0,...,n\\}$ har\n",
    "$$ |a_{ii}| > \\sum_{\\substack{j=1 \\\\ j\\neq i}}^{n}|a_{ij}|. $$\n",
    "Det vil si, for hver rad er absoluttverdien av diagonalelementet strengt større enn summen av resten av absoluttverdiene i raden.\n",
    "\n",
    "> **Teorem 1**: Dersom $n\\times n$-matrisen $A$ er strengt diagonaldominant, så er den også ikke-singulær; dermed har systemet $A \\boldsymbol{x} = \\boldsymbol{b}$ alltid en éntydig løsning for enhver $\\boldsymbol{b}$. I tillegg, for enhver startgjetning vil Jacobimetoden konvergere til denne løsningen.\n",
    "\n",
    "At $A$ er diagonaldominant kan sees på som en matriseversjon av kriteriet $|g'(x)| < 1$ for den skalare iterasjonen $x_{k+1} = g(x_k)$.\n",
    "\n",
    "Det finnes selvsagt andre måter å definere iterasjoner for det lineære systemet $A \\boldsymbol{x} = \\boldsymbol{b}$: en annen variant som også konvergerer for strengt diagonaldominante matriser $A$ er *Gauss–Seidel*-metoden, gitt av den alternative splittingen $(D+L) \\boldsymbol{x}_{k+1} = \\boldsymbol{b} - U\\boldsymbol{x}_{k}$."
   ]
  },
  {
   "cell_type": "code",
   "execution_count": null,
   "id": "e2b2d78a-5c07-4854-b866-09ee040e4e2b",
   "metadata": {},
   "outputs": [],
   "source": []
  }
 ],
 "metadata": {
  "kernelspec": {
   "display_name": "Python 3",
   "language": "python",
   "name": "python3"
  },
  "language_info": {
   "codemirror_mode": {
    "name": "ipython",
    "version": 3
   },
   "file_extension": ".py",
   "mimetype": "text/x-python",
   "name": "python",
   "nbconvert_exporter": "python",
   "pygments_lexer": "ipython3",
   "version": "3.8.8"
  }
 },
 "nbformat": 4,
 "nbformat_minor": 5
}
