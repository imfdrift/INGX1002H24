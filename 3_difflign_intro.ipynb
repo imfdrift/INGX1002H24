{
 "cells": [
  {
   "cell_type": "markdown",
   "id": "5534a14c-fc9e-482a-bdc1-f067ae5219a3",
   "metadata": {},
   "source": [
    "# Numerisk løsning av differensialligninger\n",
    "\n",
    "Lag en overkommelig innledning"
   ]
  },
  {
   "cell_type": "code",
   "execution_count": null,
   "id": "90458d7a-cc10-49a5-8da9-6a8f0bb38c7c",
   "metadata": {},
   "outputs": [],
   "source": []
  }
 ],
 "metadata": {
  "kernelspec": {
   "display_name": "Python 3",
   "language": "python",
   "name": "python3"
  },
  "language_info": {
   "codemirror_mode": {
    "name": "ipython",
    "version": 3
   },
   "file_extension": ".py",
   "mimetype": "text/x-python",
   "name": "python",
   "nbconvert_exporter": "python",
   "pygments_lexer": "ipython3",
   "version": "3.8.8"
  }
 },
 "nbformat": 4,
 "nbformat_minor": 5
}
