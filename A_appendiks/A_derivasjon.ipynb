{
 "cells": [
  {
   "cell_type": "markdown",
   "id": "4b229da1-0840-47dc-8f4e-61e11fccb4b7",
   "metadata": {},
   "source": [
    "# Appendiks 2: Derivasjon og sekantsetningen\n",
    "\n",
    "## Derivasjon\n",
    "La oss se på en kontinuerlig, skalar funksjon $f(x)$. Vi sier at denne funksjonen er deriverbar i punktet $x$ dersom grenseverdien\n",
    "\n",
    "$$ \\lim_\\limits{h\\to0}\\frac{f(x+h)-f(x)}{h} $$\n",
    "\n",
    "eksisterer. I så tilfelle kaller vi denne verdien den deriverte av $f$ i punktet $x$ og skriver\n",
    "\n",
    "$$ \\frac{\\mathrm{d}}{\\mathrm{d}x}f(x) \\doteq \\lim_\\limits{h\\to0}\\frac{f(x+h)-f(x)}{h}. $$\n",
    "\n",
    "En annen utbredt notasjon som vi vil benytte oss av for den deriverte i punktet $x$ er $f'(x)$.\n",
    "\n",
    "I fysikken er det også vanlig å bruke notasjonen $\\dot{f}$ for den deriverte når funksjonen avhenger av tid.\n",
    "\n",
    ">#### Eksempel:\n",
    "La oss for enkelhets skyld se på annengradspolynomet $f(x) = x^2 + 3x + 2$. La oss regne ut den deriverte $f'$ ved hjelp av definisjonen.\n",
    "Vi ser på brøken\n",
    ">\n",
    ">$$ \\frac{f(x+h)-f(x)}{h} = \\frac{(x+h)^2 + 3(x+h)+2-\\left(x^2 + 3x + 2\\right)}{h} = \\frac{2xh + 3h + h^2}{h} = 2x + 3 + h. $$\n",
    ">\n",
    ">Vi lar $h \\to 0$ og finner $f'(x) = 2x +3$, som stemmer med regnereglene for derivasjon av polynomer."
   ]
  },
  {
   "cell_type": "markdown",
   "id": "de0f177c-0d0f-4c59-a7ec-73ca5d274b80",
   "metadata": {},
   "source": [
    "## Sekantsetningen\n",
    "> #### Teorem (sekantsetningen):\n",
    "Anta at $f = f(x)$ er kontinuerlig på det lukkede intervallet $[a,b]$ og deriverbar på det åpne intervallet $(a,b)$. Da finnes det et punkt $c \\in (a,b)$ slik at\n",
    ">\n",
    ">$$ f'(c) = \\frac{f(b)-f(a)}{b-a}. $$\n",
    "\n",
    "Én måte å tenke på dette resultatet er at det finnes et punkt $c$ mellom $a$ og $b$ hvor tangenten til grafen $y=f(x)$ har samme stigningstall som sekanten gjennom punktene $(a,f(a))$ og $(b,f(b))$, se figuren nedenfor.\n",
    "\n",
    "<img src=\"A_sekant.png\" style=\"width: 40%\">\n",
    "\n",
    "**Merk:** Det kan også finnes flere slike punkter $c$, bare tenk på funksjonen $\\sin(x)$ over et stort nok intervall. Poenget er at det med disse antakelsene alltid finnes minst ett slikt punkt."
   ]
  },
  {
   "cell_type": "code",
   "execution_count": null,
   "id": "de196e2c-8630-4bde-a30f-29c1ef3795f9",
   "metadata": {},
   "outputs": [],
   "source": []
  }
 ],
 "metadata": {
  "kernelspec": {
   "display_name": "Python 3",
   "language": "python",
   "name": "python3"
  },
  "language_info": {
   "codemirror_mode": {
    "name": "ipython",
    "version": 3
   },
   "file_extension": ".py",
   "mimetype": "text/x-python",
   "name": "python",
   "nbconvert_exporter": "python",
   "pygments_lexer": "ipython3",
   "version": "3.8.8"
  }
 },
 "nbformat": 4,
 "nbformat_minor": 5
}
