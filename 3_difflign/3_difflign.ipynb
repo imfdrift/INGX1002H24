{
 "cells": [
  {
   "cell_type": "markdown",
   "id": "e2d2bf69-4487-411d-a450-b818df924797",
   "metadata": {},
   "source": [
    "# Eulers metode\n",
    "\n",
    "Som nevnt tidligere er vi interesserte i å approksimere løsninger av den skalare differensialligningen\n",
    "\n",
    "$$ x' = f(t,x). \\tag{3.3} $$\n",
    "\n",
    "Især vil vi tilnærme løsningen av det tilhørende startverdiproblemet hvor vi kjenner verdien av funksjonen $x = x(t)$ for $t=0$.\n",
    "\n",
    "\n",
    "> #### Definisjon: (Eksplisitt) Eulers metode\n",
    "Vi ser på differensialligningen (3.3) med startverdi $x(0) = x_0$. For en gitt steglengde $h > 0$ og $t_n = n h$, så er tilnærmingen $x_{n+1}$ av $x(t_{n+1})$ med Eulers metode gitt av\n",
    ">\n",
    ">$$ x_{n+1} = x_n + h f(t_n, x_n), \\quad n = 0, 1, \\dots $$\n",
    "\n",
    "Dette kalles ofte *eksplisitt* Eulers metode fordi neste verdi $x_{n+1}$ er eksplisitt gitt av ligningen over."
   ]
  },
  {
   "cell_type": "markdown",
   "id": "73c26ad8-f3e4-42da-aef9-a1fa1d0a4b57",
   "metadata": {},
   "source": [
    "La oss se på et enkelt eksempel hvor vi kjenner den eksakte løsningen av differensialligningen.\n",
    "\n",
    "> #### Eksempel:\n",
    "Vi ser på differensialligningen\n",
    ">\n",
    ">$$ x'(t) = \\lambda x(t) \\tag{3.4} $$\n",
    ">\n",
    ">for en reell konstant $\\lambda$ og startverdi $x(0) = x_0$, og vil finne løsningen for $t = T > 0$. Vi setter $h = T/N$ og $t_n = n h$ for $n \\in \\{0,\\dots,N\\}$.\n",
    "Eulers metode gir oss at tilnærmingen $x_n$ oppfyller\n",
    ">\n",
    ">$$ x_{n} = x_{n-1} + h\\lambda x_{n-1} = (1+h \\lambda)x_{n-1} = (1+h \\lambda)^2 x_{n-2} = \\dots = (1+h \\lambda)^n x_0, $$\n",
    ">\n",
    ">og $x_N$ er tilnærmingen av $x(T)$. Dersom vi lar steglengden $h > 0$ gå mot null, altså $h \\to 0$, forventer vi at Eulers metode gir oss det eksakte svaret.\n",
    "Siden $T > 0$ er fast, vil $h \\to 0$ tilsvare å la antall det totale antallet steg $N$ gå mot uendelig, altså $N \\to \\infty$.\n",
    ">\n",
    ">For eksponensialfunksjonen har vi en nokså kjent grenseverdi som sier at for ethvert reelt tall $a$ har vi grenseverdien\n",
    ">\n",
    ">$$ \\lim\\limits_{n\\to\\infty} \\left(1 + \\frac{a}{n}\\right)^n = e^a. \\tag{3.5} $$\n",
    ">\n",
    ">Vi setter $a = h \\lambda$ i (3.3) og finner da at grenseverdien av tilnærmingene våre er $\\lim\\limits_{N\\to\\infty}x_N = x_0 e^{\\lambda T}$, som er den eksakte løsningen av ligningen ved tid $t=T$.\n",
    "\n",
    "**Merk**: Eksempelet ovenfor er på et vis litt kunstig i at vi brukte identiteten (3.5), som kom litt ut av det blå.\n",
    "Det kan uansett vises at så lenge funksjonen $f(t,x)$ oppfører seg bra nok så vil tilnærmingen $x_n$ gitt av Eulers metode ikke avvike fra den nøyaktige løsningen $x(t_n)$ med mer enn en konstant ganger skrittlengden $h$."
   ]
  },
  {
   "cell_type": "markdown",
   "id": "d1fedbcb-0e34-4ed3-aa0b-5ea457cb9e4a",
   "metadata": {},
   "source": [
    "## Eulers metode og retningsfelter\n",
    "For skalare differensialligninger kan vi tegne tilhørende [retningsfelter](A_difflign.ipynb), og Eulers metode kan også illustreres ved hjelp av disse.\n",
    "\n",
    ">#### Eksempel:\n",
    "La oss se på ligning (3.4) med $\\lambda = 1$. Det tilhørende retningsfeltet er illustrert nedenfor med piler som angir stigningstallet i en mengde punkter. For eksempel, i punktene hvor $x=1$, altså punktene i planet med koordinater $(t,1)$, har pilen stigningstall $1$.\n",
    "I figuren har vi tegnet inn Eulers metode for to ulike startverdier $x_0$ og skrittlengder $h$.\n",
    "><img src=\"3_retningsfeltEuler.png\" style=\"width: 40%\">\n",
    ">\n",
    ">I rødt med stiplede linjer mellom har vi tilnærmingene $x_1$ og $x_2$ for startverdien $x_0 = 0.5$ og skrittlengde $h=1$. Legg merke til hvordan vi finner neste tilnærming $x_{n+1}$ ved å starte i punktet $(t_n,x_n)$ og gå en avstand $h$ langs $t$-aksen i retningen gitt av vektoren $(1,f(t_n,x_n))$, det vil si\n",
    ">\n",
    ">$$ (t_{n+1}, x_{n+1}) = (t_n,x_n) + h \\cdot (1,f(t_n,x_n)). $$\n",
    ">\n",
    ">Den heltrukne røde kurven er den tilhørende eksakte løsningen. Vi ser hvordan avviket mellom approksimasjonene $x_n$ og den eksakte løsningen $x(t_n)$ øker med $n$.\n",
    ">Dette er naturlig, i og med at vi bruker forrige approksimasjon $x_n$ til å finne neste approksimasjon $x_{n+1}$, og avvikene vil bygge seg opp (akkumulere) for hvert steg.\n",
    ">\n",
    ">En måte å redusere avviket på er å bruke kortere steglengder.\n",
    ">I blått med stiplede linjer mellom har vi syv steg med Eulers metode for startverdien $x_0 = -0.1$ og skrittlengde $h=0.5$.\n",
    ">\n",
    ">Ser du hva Eulers metode hadde gitt oss dersom startverdien var $x_0 = 0$?"
   ]
  },
  {
   "cell_type": "markdown",
   "id": "136c23a9-ae56-42b7-b543-de895bdf54b4",
   "metadata": {},
   "source": [
    "La oss nå se hvordan vi kan implementere Eulers metode i Python"
   ]
  },
  {
   "cell_type": "code",
   "execution_count": 1,
   "id": "b97b3a6c-c5c5-494b-8cc3-f0a8fb0fefb7",
   "metadata": {},
   "outputs": [],
   "source": [
    "import numpy as np\n",
    "# kode for Eulers metode\n",
    "\n",
    "def f(t,x):\n",
    "    # en skalar funksjon av t og x\n",
    "    return x\n",
    "\n",
    "def EulerSteg(f,t0,x0,h,N):\n",
    "    # gitt en funksjon f(t,x), startverdier t0 og x0 og\n",
    "    # skrittlengde h, utfører N steg med Eulers metode\n",
    "    t = t0\n",
    "    x = x0\n",
    "    for n in range(N):\n",
    "        x = x + h*f(t,x) # ny x\n",
    "        t = t + h # ny t\n",
    "        \n",
    "    return x"
   ]
  },
  {
   "cell_type": "markdown",
   "id": "f8f69d20-0a8a-47fa-ad55-9bc3f613fd34",
   "metadata": {},
   "source": [
    "La oss bruke koden over til å verifisere verdien av det sjuende steget i forrige figur."
   ]
  },
  {
   "cell_type": "code",
   "execution_count": 2,
   "id": "371cd848-ecd1-412e-91c2-0bea7d28ef0c",
   "metadata": {},
   "outputs": [
    {
     "name": "stdout",
     "output_type": "stream",
     "text": [
      "-1.7085937500000001\n"
     ]
    }
   ],
   "source": [
    "t0 = 0\n",
    "x0 = -0.1\n",
    "h = 0.5\n",
    "N = 7\n",
    "\n",
    "print(EulerSteg(f,t0,x0,h,N))"
   ]
  },
  {
   "cell_type": "code",
   "execution_count": null,
   "id": "314948e0-44fe-4645-8f9d-0b363902aa0f",
   "metadata": {},
   "outputs": [],
   "source": []
  }
 ],
 "metadata": {
  "kernelspec": {
   "display_name": "Python 3",
   "language": "python",
   "name": "python3"
  },
  "language_info": {
   "codemirror_mode": {
    "name": "ipython",
    "version": 3
   },
   "file_extension": ".py",
   "mimetype": "text/x-python",
   "name": "python",
   "nbconvert_exporter": "python",
   "pygments_lexer": "ipython3",
   "version": "3.8.8"
  }
 },
 "nbformat": 4,
 "nbformat_minor": 5
}
