{
 "cells": [
  {
   "cell_type": "markdown",
   "id": "9857705c-663b-453d-9230-8d3047071ce2",
   "metadata": {},
   "source": [
    "## Alternative numeriske metoder (*ikke pensum*)\n",
    "\n",
    "Én idé kan være å bruke noe annet enn Eulers metode til å approksimere løsningen av systemet.\n",
    "En annen metode som minner veldig om den vi har lært er *implisitt Eulers metode*, som for et system kan uttrykkes som\n",
    "\n",
    "$$ \\boldsymbol{x}_{n+1} = \\boldsymbol{x}_n + h \\boldsymbol{f}(\\boldsymbol{x}_{n+1}). $$\n",
    "\n",
    "Denne kalles implisitt fordi vi ikke direkte kan lese av hva neste iterat $\\boldsymbol{x}_{n+1}$ er, dette er *implisitt* gitt av ligningen ovenfor.\n",
    "\n",
    "For (3.13) blir da det tilhørende ligningssystemet\n",
    "\n",
    "$$ \\begin{aligned} \\theta_{n+1} &= \\theta_n + h \\phi_{n+1}, \\\\ \\phi_{n+1} &= \\phi_n - h \\omega^2 \\sin(\\theta_{n+1}). \\end{aligned} \\tag{3.16} $$\n",
    "\n",
    "Merk at siden høyresiden ikke er lineær må vi i hvert steg bruke en numerisk metode, for eksempel fikspunktiterasjon eller Newtons metode, for å finne en approksimasjon av $\\theta_{n+1}$ og $\\phi_{n+1}$.\n",
    "\n",
    "For å skille Eulers metode fra metoden ovenfor, blir metoden vi har lært ofte kalt *eksplisitt Eulers metode*; neste iterat er eksplisitt gitt.\n",
    "\n",
    ">**Merk:** For den skalare modelligningen for stive ligninger, som vi så på i forbindelse med stabilitet for Eulers metode, vil implisitt Eulers metode alltid gi tilnærminger som er stabile: de avtar når parameteren $\\lambda$ er negativ, uavhengig av skrittlengden $h$."
   ]
  },
  {
   "cell_type": "markdown",
   "id": "586ebfa4-002f-44d3-8e52-146561bf7743",
   "metadata": {},
   "source": [
    "### Det lineariserte problemet\n",
    "For det forenklede problemet (3.14) er det tilhørende ligningssystemet lineært, og det er mulig å finne eksplisitte uttrykk for tilnærmingene $\\theta_{n+1}$ og $\\phi_{n+1}$ gitt av implisitt Eulers metode.\n",
    "La oss derfor sammenligne de to numeriske metodene for dette problemet, hvor vi som sagt også har den eksplisitte løsningen.\n",
    "\n",
    "Vi ser på samme startverdier som ovenfor, $\\theta_0 = -\\pi/4$ og $\\theta_0' = 0$.\n",
    "Denne gangen går vi over to perioder, $T = 4\\pi$, og for å få samme skrittlengde $h=\\pi/20$ gjer vi $N=80$ steg.\n",
    "\n",
    "I figurene har vi i tillegg en tredje metode som vi kommer tilbake til.\n",
    "\n",
    "<img src=\"3_pendel_lincomp.png\" style=\"width: 100%\">\n",
    "Vi ser at, som for tilfellet ovenfor, (eksplisitt) Eulers metode tilfører energi slik at utslagene blir større og større.\n",
    "På den annen side, implisitt Eulers metode demper svingningene over tid.\n",
    "Den tredje metoden, derimot, ligger svært nær den eksakte løsningen.\n",
    "Som en ekstra illustrasjon kan vi se hvordan pendelen oppfører seg for tilnærmingene gitt av de tre metodene.\n",
    "\n",
    "<img src=\"3_pendel_lincomp.gif\" style=\"width: 100%\">\n",
    "\n",
    "#### Energibevarende numeriske metoder \n",
    "Denne typen tilførsel av energi vil fort gi veldig store avvik når man simulerer systemer over lang tid.\n",
    "Bare se for deg en simulering av planetbanene rundt sola hvor den numeriske metoden tilfører så mye energi at jorda til slutt forlater solsystemet!\n",
    "Eventuelt at den numeriske metoden fjerner nok energi til at jorda faller inn i sola!\n",
    "\n",
    "For å bøte på denne oppførselen kan man alltids bruke kortere skrittlengder i den numeriske metoden, men dette vil kreve mye regnekraft over tid.\n",
    "Nettopp på grunn av slike situasjoner har det blitt lagt inn mye innsats i å utvikle numeriske metoder som også bevarer viktige fysiske størrelser for systemene man simulerer, som for eksempel energi.\n",
    "\n",
    "Forunderlig nok vil en liten endring i Eulers metode (3.15) gi approksimasjoner som oppfører seg langt bedre. \n",
    "\n",
    "$$ \\begin{align*} \\phi_{n+1} &= \\phi_n - h \\omega^2 \\sin(\\theta_n), \\\\ \\theta_{n+1} &= \\theta_n + h \\phi_{n+1}. \\tag{3.17} \\end{align*} $$\n",
    "\n",
    "Her beregner vi neste approksimasjon $\\phi_{n+1}$ av $\\phi = \\theta'$ på samme måte som før, men så bruker vi i stedet denne verdien $\\phi_{n+1}$ til å beregne $\\theta_{n+1}$, heller enn å bruke $\\phi_n$.\n",
    "\n",
    "Dette kalles *semiimplisitt Eulers metode*, og dette er den tredje metoden vi har brukt på det lineære systemet ovenfor.\n",
    "Denne metoden gir i teorien essensielt samme avvik fra den nøyaktige løsningen som eksplisitt Eulers metode, men på kjøpet får vi løsninger hvor energien er tilnærmet bevart."
   ]
  },
  {
   "cell_type": "markdown",
   "id": "25690daa-9b56-4307-83c4-30e01c4b40fe",
   "metadata": {},
   "source": [
    "### Tilbake til ideell pendel\n",
    "La oss gå tilbake til å se på ligningen (3.13) for den idealiserte pendelen, denne gangen for startverdiene $\\theta_0 = -\\pi/2$ og $\\theta_0' = 0$;\n",
    "altså at vi holder pendelen horisontalt ut mot venstre og slipper den fra ro.\n",
    "Her har vi ikke en eksakt løsning å sammenligne med, men vi kan sammenligne approksimasjonene vi får fra eksplisitt (3.15) og semiimplisitt Eulers metode (3.17).\n",
    "\n",
    "Som i vårt første eksempel velger vi $T = 6\\pi$ og $N=120$ slik at $h = \\pi/20$.\n",
    "Nedenfor har vi plottet vinkelutslagene over tid sammen med de tilhørende punktene i faseportrettet.\n",
    "\n",
    "<img src=\"3_pendel_comp.png\" style=\"width: 50%\">\n",
    "\n",
    "Vi ser at med denne skrittlengden vil den eksplisitte Eulers metode tilføre nok energi til at pendelen til slutt roterer helt rundt. \n",
    "Altså har den eksplisitte Eulers metode tatt oss fra en lukket bane til en bane med så mye energi at den ikke lenger er lukket.\n",
    "\n",
    "Pendelens oppførsel for disse to approksimasjonene er illustrert i animasjonen under.\n",
    "\n",
    "<img src=\"3_pendel_comp.gif\" style=\"width: 100%\">\n",
    "\n",
    ">**Merk:**\n",
    "Nå ser det kanskje ut som (eksplisitt) Eulers metode ikke er noe særlig og ikke vil gi en god tilnærming av de eksakte løsningene.\n",
    "Da må vi understreke at du vil alltids kunne bruke Eulers metode til å få en så god tilnærming som du vil, du må bare velge skrittlengden $h$ liten nok.\n",
    "Her vil vi bare påpeke at dersom du vil approksimere løsninger langt fram i tid kan dette kreve mye regnekraft, og det kan hende at det finnes mer effektive alternativer.\n",
    ">\n",
    ">*Prøv deg fram med å selv tilpasse koden for eksplisitt Euler, gjerne med ulike startverdier og skrittlengder, eller kanskje til og med implementere (3.17).*"
   ]
  },
  {
   "cell_type": "code",
   "execution_count": null,
   "id": "3ed4d4e3-ce7b-4878-b79b-5fadf2e54b60",
   "metadata": {},
   "outputs": [],
   "source": []
  }
 ],
 "metadata": {
  "kernelspec": {
   "display_name": "Python 3",
   "language": "python",
   "name": "python3"
  },
  "language_info": {
   "codemirror_mode": {
    "name": "ipython",
    "version": 3
   },
   "file_extension": ".py",
   "mimetype": "text/x-python",
   "name": "python",
   "nbconvert_exporter": "python",
   "pygments_lexer": "ipython3",
   "version": "3.8.8"
  }
 },
 "nbformat": 4,
 "nbformat_minor": 5
}
