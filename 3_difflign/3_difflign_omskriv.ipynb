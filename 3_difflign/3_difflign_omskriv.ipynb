{
 "cells": [
  {
   "cell_type": "markdown",
   "id": "06841ba2-5f9e-4929-beac-7fe84d88fccb",
   "metadata": {},
   "source": [
    "# Fra andreordens differensialligninger til førsteordens systemer\n",
    "En andreordens lineær og homogen differensialligning med konstante koeffisienter er på formen\n",
    "\n",
    "$$ x''(t) + b x'(t) + c x(t) = d, \\tag{3.12} $$\n",
    "\n",
    "for en ukjent funksjon $x(t)$ og konstanter $b$, $c$ og $d$.\n",
    "Merk at for det tilhørende startverdiproblemet må vi i tillegg til startverdien av den ukjente funksjonen også spesifisere startverdien til den førstederiverte: vi må altså ha verdien av både $x(0)$ og $x'(0)$.\n",
    "\n",
    "\n",
    "Det er mulig å finne en generell løsning av (3.12), men vil vi i stedet vise hvordan den kan skrives om til et førsteordens lineært system av differensialligninger.\n",
    "Dette kan gjøres ved å innføre variabelen $y(t) = x'(t)$, slik at ligningen ovenfor er ekvivalent til\n",
    "\n",
    "$$ \\begin{align} x'(t) &= y(t) \\\\ y'(t) &= d - c x(t) - b y(t) \\end{align} $$\n",
    "\n",
    "Med [matrisenotasjon](A_linalg.ipynb) kan vi skrive dette systemet som\n",
    "\n",
    "$$ \\begin{bmatrix} x'(t) \\\\ y'(t) \\end{bmatrix} = \\begin{bmatrix} 0 & 1 \\\\ -c & -b \\end{bmatrix} \\begin{bmatrix} x(t) \\\\ y(t) \\end{bmatrix} + \\begin{bmatrix} 0 \\\\ d \\end{bmatrix}, $$\n",
    "\n",
    "som er nøyaktig på formen til ligning (3.10).\n",
    "For startverdiproblemet vil både $x(0)$ og $x'(0) = y(0)$ være gitt, slik at startverdien til vektoren med komponenter $x(t)$ og $y(t)$ også er gitt.\n",
    "\n",
    "Samme idé kan brukes til å skrive om høyere ordens differensialligninger for én ukjent til førsteordens systemer av differensialligninger.\n",
    "Tallet på ukjente (størrelsen av systemet) vil da være lik graden til den høyeste deriverte: slik som andreordensligningen (3.12) gav et system av to ukjente.\n",
    "\n",
    "En av fordelene med å skrive om til et førsteordens system er at det er lett å definere Eulers metode for et slikt system: det er nøyaktig ligning (3.11) med\n",
    "\n",
    "$$ A = \\begin{bmatrix} 0 & 1 \\\\ -c & -b \\end{bmatrix} \\quad \\text{og} \\quad \\boldsymbol{b} = \\begin{bmatrix} 0 \\\\ d \\end{bmatrix}. $$"
   ]
  },
  {
   "cell_type": "markdown",
   "id": "2f4ef7ce-1eaa-4fc6-b774-0f79513c70bc",
   "metadata": {},
   "source": [
    "> #### Eksempel:\n",
    "Dersom vi setter $b = 0$, $c = 1$ og $d = 0$ i ligning (3.12) får vi følgende differensialligning,\n",
    ">\n",
    ">$$ x'' + x = 0. $$\n",
    ">Vi introduserer variabelen $y = x'$ og får dermed systemet\n",
    ">\n",
    ">$$ \\begin{align} x' &= y \\\\ y' &= -x \\end{align} $$\n",
    ">\n",
    ">Dette er systemet av koblede differensialligninger som vi har sett tidligere ..."
   ]
  },
  {
   "cell_type": "markdown",
   "id": "9d2108ce-12ec-4da8-8cf9-20dea9c0b331",
   "metadata": {},
   "source": [
    "> #### Eksempel: mer anvendt eksempel?\n",
    "akselererende bil med luftmotstand, eller masse-fjær?\n"
   ]
  },
  {
   "cell_type": "code",
   "execution_count": null,
   "id": "787c0499-3d8e-408a-b847-d40a81df64f8",
   "metadata": {},
   "outputs": [],
   "source": []
  }
 ],
 "metadata": {
  "kernelspec": {
   "display_name": "Python 3",
   "language": "python",
   "name": "python3"
  },
  "language_info": {
   "codemirror_mode": {
    "name": "ipython",
    "version": 3
   },
   "file_extension": ".py",
   "mimetype": "text/x-python",
   "name": "python",
   "nbconvert_exporter": "python",
   "pygments_lexer": "ipython3",
   "version": "3.8.8"
  }
 },
 "nbformat": 4,
 "nbformat_minor": 5
}
