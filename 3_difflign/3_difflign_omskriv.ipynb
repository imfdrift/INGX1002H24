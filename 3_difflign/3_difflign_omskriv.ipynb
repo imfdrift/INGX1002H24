{
 "cells": [
  {
   "cell_type": "markdown",
   "id": "06841ba2-5f9e-4929-beac-7fe84d88fccb",
   "metadata": {},
   "source": [
    "# Fra andreordens differensialligninger til førsteordens systemer\n",
    "En andreordens lineær og homogen differensialligning med konstante koeffisienter er på formen\n",
    "\n",
    "$$ x''(t) + b x'(t) + c x(t) = d, \\tag{3.12} $$\n",
    "\n",
    "for en ukjent funksjon $x(t)$ og konstanter $b$, $c$ og $d$.\n",
    "Merk at for det tilhørende startverdiproblemet må vi i tillegg til startverdien av den ukjente funksjonen også spesifisere startverdien til den førstederiverte: vi må altså ha verdien av både $x(0)$ og $x'(0)$.\n",
    "\n",
    "\n",
    "Det er mulig å finne en generell løsning av (3.12), men vil vi i stedet vise hvordan den kan skrives om til et førsteordens lineært system av differensialligninger.\n",
    "Dette kan gjøres ved å innføre variabelen $y(t) = x'(t)$, slik at ligningen ovenfor er ekvivalent til\n",
    "\n",
    "$$ \\begin{align} x'(t) &= y(t) \\\\ y'(t) &= d - c x(t) - b y(t) \\end{align} $$\n",
    "\n",
    "Med [matrisenotasjon](A_linalg.ipynb) kan vi skrive dette systemet som\n",
    "\n",
    "$$ \\begin{bmatrix} x'(t) \\\\ y'(t) \\end{bmatrix} = \\begin{bmatrix} 0 & 1 \\\\ -c & -b \\end{bmatrix} \\begin{bmatrix} x(t) \\\\ y(t) \\end{bmatrix} + \\begin{bmatrix} 0 \\\\ d \\end{bmatrix}, $$\n",
    "\n",
    "som er nøyaktig på formen til ligning (3.10).\n",
    "For startverdiproblemet vil både $x(0)$ og $x'(0) = y(0)$ være gitt, slik at startverdien til vektoren med komponenter $x(t)$ og $y(t)$ også er gitt.\n",
    "\n",
    "Samme idé kan brukes til å skrive om høyere ordens differensialligninger for én ukjent til førsteordens systemer av differensialligninger.\n",
    "Tallet på ukjente (størrelsen av systemet) vil da være lik graden til den høyeste deriverte: slik som andreordensligningen (3.12) gav et system av to ukjente.\n",
    "\n",
    "En av fordelene med å skrive om til et førsteordens system er at det er lett å definere Eulers metode for et slikt system: det er nøyaktig ligning (3.11) med\n",
    "\n",
    "$$ A = \\begin{bmatrix} 0 & 1 \\\\ -c & -b \\end{bmatrix} \\quad \\text{og} \\quad \\boldsymbol{b} = \\begin{bmatrix} 0 \\\\ d \\end{bmatrix}. $$"
   ]
  },
  {
   "cell_type": "markdown",
   "id": "2f4ef7ce-1eaa-4fc6-b774-0f79513c70bc",
   "metadata": {},
   "source": [
    "> #### Eksempel:\n",
    "Ved å sette $b = 0$, $c = 1$ og $d = 0$ i ligning (3.12) får vi følgende differensialligning,\n",
    ">\n",
    ">$$ x'' + x = 0. $$\n",
    ">\n",
    ">Dersom du har litt erfaring med differensialligninger vet du kanskje at løsninger av denne ligningen vil være en lineær kombinasjon av de periodiske funksjonene $\\sin(t)$ og $\\cos(t)$.\n",
    ">\n",
    ">Vi introduserer variabelen $y = x'$ og får dermed systemet\n",
    ">\n",
    ">$$ \\begin{align} x' &= y \\\\ y' &= -x \\end{align} $$\n",
    ">\n",
    ">Dette er systemet av koblede differensialligninger som vi så i et tidligere eksempel."
   ]
  },
  {
   "cell_type": "markdown",
   "id": "9d2108ce-12ec-4da8-8cf9-20dea9c0b331",
   "metadata": {},
   "source": [
    "> #### Eksempel:\n",
    "La oss betrakte en bil som først står i ro og deretter akselererer i en bestemt retning ved tiden $t=0$.\n",
    "Vi vil finne en differensialligning som beskriver bilens posisjon $x$ (avstanden til startposisjonen) som funksjon av tiden $t$.\n",
    "Newtons andre lov sier at massen ganger akselerasjonen til et objekt er lik summen av kreftene på objektet,\n",
    ">\n",
    "> $$ m x'' = \\sum_i F_i. $$\n",
    ">\n",
    "> Den andrederiverte av posisjonen $x$ med hensyn på tid $t$ er akselerasjonen $x''$, $m$ er massen til bilen og $F_i$ er de ulike kreftene som virker på bilen.\n",
    ">\n",
    ">For enkelhets skyld antar vi at motoren, og de ... hjulene, påfører bilen en konstant kraft $F_\\text{motor} > 0$ i kjøreretningen.\n",
    "I tillegg, for at dette ikke skal bli den eneste kraften på bilen kan vi anta at det er en luftmotstand $F_\\text{luft} < 0$ som bidrar til å bremse bevegelsen.\n",
    "Luftmotstanden vil typisk øke med økende hastighet, og for å gjøre det enkelt (og lineært) antar vi at denne er proporsjonal med hastigheten $x'$, slik at $F_\\text{luft} = -k x'$ for en konstant $k > 0$.\n",
    "Dermed blir ligningen\n",
    ">\n",
    "> $$ m x'' = F_\\text{motor} - k x'. $$\n",
    ">\n",
    ">Ved å dele hvert ledd på massen $m$ kan vi få denne ligningen over på formen (3.12).\n",
    "I tillegg, for å slippe skrive så mye, innfører vi de positive konstantene $a = F_\\text{motor}/m$ og $b = k/m$, slik at ligningen blir\n",
    ">\n",
    "> $$ x'' + b x' = a. $$\n",
    ">\n",
    ">Siden bilen starter fra ro er startverdien for hastigheten $x'(0) = 0$, og siden bilen ved $t=0$ ikke har beveget seg fra startposisjonen er også $x(0) = 0$.\n",
    "Dette kan vi så skrive som et startverdiproblem for et førsteordens system ved å innføre hastigheten $v = x'$, nemlig\n",
    ">\n",
    ">$$ \\begin{bmatrix} x' \\\\ v' \\end{bmatrix} = \\begin{bmatrix} 0 & 1 \\\\ 0 & -b \\end{bmatrix} \\begin{bmatrix} x \\\\ v \\end{bmatrix} + \\begin{bmatrix} 0 \\\\ a \\end{bmatrix}, \\qquad \\begin{bmatrix} x(0) \\\\ v(0) \\end{bmatrix} = \\begin{bmatrix} 0 \\\\ 0 \\end{bmatrix}. $$\n",
    ">\n",
    ">**Merk:** Siden posisjonen $x$ i dette tilfellet ikke dukker opp i den andreordens differensialligningen er det egentlig unødvendig komplisert å skrive den som et system. Da kan vi heller se på den tilhørende førsteordens skalare differensialligningen for hastigheten $v = x'$ gitt av\n",
    ">\n",
    ">$$ v' = a - bv. $$\n",
    ">\n",
    ">Når vi har funnet hastigheten $v(t)$ som funksjon av tid, kan vi integrere denne og finne posisjonen x(t)."
   ]
  },
  {
   "cell_type": "markdown",
   "id": "6a0f0d1e-6aa9-432e-952f-e0bef386f521",
   "metadata": {},
   "source": [
    "> $\\impliedby$ [Eulers metode for systemer](3_difflign_system.ipynb) | [Eksempel: ideell pendel](3_difflign_pendel.ipynb) $\\implies$"
   ]
  },
  {
   "cell_type": "code",
   "execution_count": null,
   "id": "89b933a7-36ea-47c7-9719-b4b0980ffdf9",
   "metadata": {},
   "outputs": [],
   "source": []
  }
 ],
 "metadata": {
  "kernelspec": {
   "display_name": "Python 3",
   "language": "python",
   "name": "python3"
  },
  "language_info": {
   "codemirror_mode": {
    "name": "ipython",
    "version": 3
   },
   "file_extension": ".py",
   "mimetype": "text/x-python",
   "name": "python",
   "nbconvert_exporter": "python",
   "pygments_lexer": "ipython3",
   "version": "3.8.8"
  }
 },
 "nbformat": 4,
 "nbformat_minor": 5
}
