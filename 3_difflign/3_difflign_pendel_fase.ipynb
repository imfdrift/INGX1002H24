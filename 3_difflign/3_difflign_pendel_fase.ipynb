{
 "cells": [
  {
   "cell_type": "markdown",
   "id": "820e259c-2957-479a-9d97-231cf1e7bd59",
   "metadata": {},
   "source": [
    "## Faseportretter og energi (*ikke pensum*)\n",
    "\n",
    "### Faseportretter, vinkelutslag og vinkelhastigheter\n",
    "Dersom vi for en av ligningene plotter $\\theta$ og $\\theta'$ (eller $\\phi$) mot hverandre får vi et såkalt *faseportrett*.\n",
    "En gitt løsning av ligningen vil være en kurve i dette planet hvor den frie variablen $t$ angir posisjonen langs kurven.\n",
    "Dette kalles en *løsningskurve*.\n",
    "\n",
    "<img src=\"3_faseplott.png\" style=\"width: 80%\">\n",
    "\n",
    "Til venstre ovenfor har vi faseportrettet for den opprinnelige idealiserte pendelen (3.13), og til høyre har vi faseportrettet for den forenklede ligningen (3.14), begge for $\\omega = 1$.\n",
    "Vi legger merke til at for små vinkelutslag, det vil si $\\theta$ nær $0$, er portrettene nokså like.\n",
    "Dette er rimelig, tilnærmingen $\\sin(\\theta) \\approx \\theta$ kun er god for små verdier.\n",
    "For større vinkelutslag er portrettene derimot veldig forskjellige.\n",
    "\n",
    "De ulike kurvene tilsvarer ulike løsninger av ligningene, man kan tenke seg at man har én kurve for hvert sett med startverdier.\n",
    "Et sett med startverdier $\\theta_0$ og $\\theta_0'$ spesifiserer et punkt i planet, og løsningen av ligningen vil følge kurven som går gjennom dette punktet.\n",
    "Her ser vi at startverdier som gir punkter nær origo vil gi temmelig lik oppførsel for begge ligningene.\n",
    "\n",
    ">**Merk:** Umiddelbart er det kanskje ikke så lett å se sammenhengen mellom faseportrettet og pendeloppsettet, så for å illustrere dette skal vi ta for oss en av løsningskurvene i høyre faseportrett.\n",
    ">\n",
    ">La oss se på kurven som går gjennom $(\\pi/4,0)$, dette er en sirkel med radius $\\pi/4$ med en mulig parametrisering gitt av\n",
    ">\n",
    ">$$ \\theta(t) = -\\frac{\\pi}{4}\\cos(t) $$\n",
    "Dette svarer til en løsning av (3.14) hvor pendelen starter fra ro med utslag $\\theta_0 = -\\pi/4$.\n",
    ">\n",
    "><img src=\"3_pendel_illust.gif\" style=\"width: 75%\">\n",
    ">\n",
    ">Her har vi for enkelhets skyld satt lengden av pendelen til $1$; de nøyaktige tallverdiene vil uansett avhenge av hvilke enheter vi måler i. Dersom opphengspunktet til pendelen er i origo, så vil koordinatene til pendelloddet da være\n",
    ">$$ x = \\sin(\\theta), \\qquad y = -\\cos(\\theta). $$\n",
    "Animasjonen ovenfor viser hvordan pendelen svinger når vi beveger oss langs løsningskurven i faseportrettet.\n",
    "\n",
    "Når pendelen har sine største utslag må vinkelhastigheten $\\theta'$ være null: idet den har sitt største positive vinkelutslag må $\\theta'$ endre fortegn fra positivt til negativt, og omvendt for det mest negative vinkelutslaget.\n",
    "Legg merke til at alle de lukkede kurvene i faseportrettene har *to* punkter hvor $\\theta' = 0$: ett der pendelen har sitt største positive vinkelutslag (i høyre retning), og ett der pendelen har sitt mest negative vinkelutslag.\n",
    "\n",
    "På den annen side ser vi at kurvene som ikke er lukkede i portrettet til venstre aldri tar $\\theta'$ aldri verdien $0$, den er alltid enten positiv eller negativ.\n",
    "Det vil si at pendelen roterer så fort, enten med eller mot klokka, at den aldri snur!\n",
    "\n",
    ">**Merk:** Ser du nå fra høyre faseportrett hvorfor ligningen (3.14) med er en urimelig modell for pendelen når vinkelutslagene $\\theta$ blir for store?\n",
    "Sirklene med radius større enn $\\pi$ svarer til at pendelen svinger over \"toppen\" ($\\theta=\\pi$) og ned på motsatt side, før den når sitt største utslag hvor den snur og svinger tilbake igjen. Dette er oppførsel som ikke går an med mindre noen utenfor systemet gir pendelen en dytt slik at den snur, men det var ikke blant antakelsene våre!"
   ]
  },
  {
   "cell_type": "markdown",
   "id": "ec11b1ae-e579-4360-adec-d4a4e17cfc67",
   "metadata": {},
   "source": [
    "### Energi og løsningskurver\n",
    "Fra diskusjonen ovenfor ser vi at løsningene av (3.13) kan ha to ganske ulike oppførsler. Den ene er den typiske oppførselen til en pendel, massen svinger frem og tilbake mellom sine maksimale utslag.\n",
    "Den andre er at massen roterer rundt opphengspunktet til pendelen.\n",
    "Hvilken oppførsel man får er bestemt av energien til løsningen, nærmere bestemt kampen mellom *kinetisk* og *potensiell* energi.\n",
    "\n",
    "Man kan vise at for løsninger av (3.13) er den følgende størrelsen bevart,\n",
    "\n",
    "$$ \\frac12 (\\theta')^2 + \\omega^2(1-\\cos(\\theta)). $$\n",
    "\n",
    "Det vil si, for enhver tid $t$ er verdien av dette uttrykket den samme som ved starttidspunktet. Dette er energien til det mekaniske systemet som den idealiserte pendelen utgjør.\n",
    "Det første leddet er den *kinetiske energien* til systemet. Dette er bidraget til energien grunnet bevegelsen til pendelen: null vinkelhastighet $\\theta'=0$ betyr null kinetisk energi.\n",
    "\n",
    "Det andre leddet er den *potensielle energien* til systemet.\n",
    "Dette bidraget kommer av at så lenge pendelen ikke henger rett ned vil vi kunne slippe den og den vil begynne å svinge: deler av den potensielle energien går over i bevegelsesenergi (kinetisk energi).\n",
    "\n",
    "Når $\\theta=0$ (eller $\\theta = \\pm 2\\pi$, $\\pm 4\\pi,\\dots$) er pendelen på sitt laveste nivå og har minimal potensiell energi.\n",
    "På den annen side, når $\\theta = \\pm \\pi$ (eller $\\theta = \\pm 3\\pi$, $\\pm 5\\pi,\\dots$) er pendelen på sitt høyeste nivå og har maksimal potensiell energi.\n",
    "\n",
    "Den totale energien er summen av disse bidragene, og dersom den totale energien er større enn den maksimale potensielle energien vil pendelen rotere helt rundt opphengspunktet sitt.\n",
    "\n",
    "\n",
    "Uten friksjon i systemet er det intet tap av energi, og når pendelen beveger seg vil mengden kinetisk og potensiell energi variere, men summen av disse er alltid den samme.\n",
    "Dermed tilsvarer også hver løsningskurve til et bestemt konstant energinivå, som vi har illustrert i faseportrettene med et fargepalett.\n",
    "I disse figurene svarer blålige farger til lavere energinivåer og rødlige farger til høyere energinivåer.\n",
    "\n",
    "Den lineariserte ligningen (3.14) har også en tilhørende bevart energi, gitt av\n",
    "$$\\frac12(\\theta')^2 + \\frac12 \\omega^2 \\theta^2. $$\n",
    "\n",
    "Merk at for et gitt energinivå $E > 0$ tilsvarer energien til den forenklede ligningen (3.14) med $\\omega=1$ en sirkel i $\\theta$-$\\theta'$-planet med radius $\\sqrt{2E}$; da har vi nemlig\n",
    "\n",
    "$$ \\theta^2 + (\\theta')^2 = 2E. $$\n",
    "\n",
    "Derfor er alle løsningskurvene i høyre faseportrett lukkede sirkler."
   ]
  },
  {
   "cell_type": "code",
   "execution_count": null,
   "id": "2aa14fe0-ff9e-4225-9ee1-3e7cbed9ac7f",
   "metadata": {},
   "outputs": [],
   "source": []
  }
 ],
 "metadata": {
  "kernelspec": {
   "display_name": "Python 3",
   "language": "python",
   "name": "python3"
  },
  "language_info": {
   "codemirror_mode": {
    "name": "ipython",
    "version": 3
   },
   "file_extension": ".py",
   "mimetype": "text/x-python",
   "name": "python",
   "nbconvert_exporter": "python",
   "pygments_lexer": "ipython3",
   "version": "3.8.8"
  }
 },
 "nbformat": 4,
 "nbformat_minor": 5
}
