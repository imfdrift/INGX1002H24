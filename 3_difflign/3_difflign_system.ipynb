{
 "cells": [
  {
   "cell_type": "markdown",
   "id": "4d223c0f-c9dd-4921-8aa2-d5c4045b7822",
   "metadata": {},
   "source": [
    "# Eulers metode for systemer av differensialligninger\n",
    "Tidligere så vi på differensialligninger hvor den ukjente var én skalar funksjon.\n",
    "Ofte har man derimot at flere ukjente funksjoner som oppfyller et system av ligninger; dette kalles gjerne koblede differensialligninger fordi de ukjente funksjonene dukker opp i hverandres differensialligninger: de er koblet opp mot hverandre.\n",
    "\n",
    ">#### Eksempel:\n",
    "Vi ser på to ukjente $x = x(t)$ og $y = y(t)$ som er funksjoner av den frie variabelen $t$, og hvor oppførselen deres er gitt av de to differensialligningene\n",
    ">\n",
    ">$$ \\begin{aligned} x' &= y, \\\\ y' &= -x. \\end{aligned} \\tag{3.7} $$\n",
    ">\n",
    ">Her ser vi at vi ikke kan løse ligningene hver for seg: den andre ukjente dukker opp i hver ligning. Ligningene er altså koblet med hverandre.\n",
    ">\n",
    ">Som vi skal se senere kan ligningene ovenfor brukes til å beskrive systemer hvor løsningene er periodiske.\n",
    "\n",
    "Si at vi har tre koblede differensialligninger på formen\n",
    "\n",
    "$$ \\begin{align*} x' &= f(t,x,y,z), \\\\ y' &= g(t,x,y,z), \\\\ z' &= h(t,x,y,z). \\end{align*} $$\n",
    "\n",
    "For det tilhørende startverdiproblemet trenger vi da tre startverdier $x_0$, $y_0$ og $z_0$; en for hver ukjente funksjon.\n",
    "\n",
    "Her har vi de tre ukjente funksjonene $x = x(t)$, $y = y(t)$ og $z = z(t)$ som avhenger av den frie variabelen $t$, og tre funksjoner $f$, $g$ og $h$ som avhenger av både av $t$, $x$, $y$ og $z$.\n",
    "Å skrive opp disse sammenhengene blir fort plasskrevende og kronglete dersom vi har enda flere ukjente og ligninger, ikke minst fordi vi fort går tom for bokstaver for både ukjente og funksjoner."
   ]
  },
  {
   "cell_type": "markdown",
   "id": "ca0c7a3c-921e-4f87-a921-993cc6835c13",
   "metadata": {},
   "source": [
    "### Vektornotasjon\n",
    "Det første vi kan gjøre i tilfellet ovenfor er å heller kalle de ukjente funksjonene for $x_1$, $x_2$ og $x_3$ istedenfor $x$, $y$ og $z$.\n",
    "På tilsvarende vis kan vi bruke $f_1$, $f_2$ og $f_3$ istedenfor $f$, $g$ og $h$.\n",
    "Dermed kan alle tre ligningene ovenfor sammenfattes med ett uttrykk, nemlig\n",
    "\n",
    "$$ x_i' = f_i(t,x_1,x_2,x_3), \\qquad i \\in \\{1,2,3\\}. $$\n",
    "\n",
    "For flere ukjente og ligninger kan vi da bare la indeksen $i$ variere over tilsvarende mange verdier. Si vi har $m$ koblede differensialligninger:\n",
    "\n",
    "$$ x_i' = f_i(t,x_1,x_2,\\dots,x_m), \\qquad i \\in \\{1,2,\\dots,m\\}. \\tag{3.8} $$\n",
    "\n",
    "En annen kompakt måte å skrive ligningene på er å bruke vektornotasjon.\n",
    "Da samler vi de $m$ ukjente funksjonene $x_i$ i én vektorfunksjon med $m$ komponenter, og tilsvarende for de $m$ funksjonene $f_i$. Altså\n",
    "\n",
    "$$ \\boldsymbol{x} = \\begin{bmatrix} x_1 \\\\ x_2 \\\\ \\vdots \\\\ x_m \\end{bmatrix} \\quad \\text{og} \\quad \\boldsymbol{f} = \\begin{bmatrix} f_1 \\\\ f_2 \\\\ \\vdots \\\\ f_m \\end{bmatrix}, $$\n",
    "\n",
    "slik at disse er $m$-dimensjonale vektorer, og hvor hver komponent $f_i$ av $f$ kan avhenge av $t$ og alle komponentene i $\\boldsymbol{x}$.\n",
    "\n",
    ">**Merk:** Her bruker vi bokstaver med fet skrift, $\\boldsymbol{x}$ og $\\boldsymbol{f}$, for å understreke at dette er vektorer.\n",
    "En annen mye brukt notasjon er piler over bokstavene, $\\vec{x}$ og $\\vec{f}$.\n",
    "\n",
    "Da kan de $m$ ligningene i (3.8) uttrykkes med vektorer som\n",
    "\n",
    "$$ \\begin{bmatrix} x_1' \\\\ x_2' \\\\ \\vdots \\\\ x_m' \\end{bmatrix} = \\begin{bmatrix} f_1(t,x_1,\\dots,x_m) \\\\ f_2(t,x_1,\\dots,x_m) \\\\ \\vdots \\\\ f_m(t,x_1,\\dots,x_m) \\end{bmatrix}, $$\n",
    "\n",
    "men vi foretrekker den langt mer kompakte formen\n",
    "\n",
    "$$ \\boldsymbol{x}'(t) = \\boldsymbol{f}(t,\\boldsymbol{x}(t)), \\tag{3.9}$$\n",
    "\n",
    "hvor $\\boldsymbol{x}'$ betyr at man deriverer hver komponent med hensyn på $t$. I det tilhørende startverdiproblemet er også vektoren $\\boldsymbol{x}(0)$ med startverdier spesifisert.\n",
    "\n",
    ">**Merk:** Ligning (3.8) er på nøyaktig samme form som de skalare differensialligningene vi har sett på tidligere; den eneste forskjellen er at de skalare funksjonene $x$ og $f$ er erstattet med vektorfunksjoner $\\boldsymbol{x}$ og $\\boldsymbol{f}$. Når $m = 1$, det vil si at vektorene har én komponent, er vi tilbake i det skalare tilfellet."
   ]
  },
  {
   "cell_type": "markdown",
   "id": "6e07ddd4-a03f-49b5-9615-5b903fcc65f9",
   "metadata": {},
   "source": [
    "## Eulers metode for førsteordens systemer\n",
    "\n",
    "Nå som vi har fått systemet av differensialligninger på den gjenkjennelige formen (3.9), er det ikke vanskelig å tenke seg til hvordan Eulers metode må se ut for slike systemer.\n",
    "\n",
    "La $\\boldsymbol{x}(0) = \\boldsymbol{x}_0$ være startverdien ved $t=0$ for ligning (3.9).\n",
    "Videre lar vi $h>0$ være steglengden og $t_n = n h$ er verdiene hvor ønsker å finne en tilnærming $\\boldsymbol{x}_n$ av $\\boldsymbol{x}(t_n)$.\n",
    "Da blir Eulers metode\n",
    "\n",
    "$$ \\boldsymbol{x}_{n+1} = \\boldsymbol{x}_n + h \\boldsymbol{f}(t,\\boldsymbol{x}_n), \\quad n=0,1,\\dots $$\n",
    "\n",
    "I dette kurset vil vi stort sett nøye oss til å se på lineære systemer på formen $\\boldsymbol{f}(t,\\boldsymbol{x}) = A\\boldsymbol{x} + \\boldsymbol{b}$, hvor $A$ er en konstant $m\\times m$-matrise og $\\boldsymbol{b}$ en konstant vektor.\n",
    "Da vil ligning (3) tilsvare\n",
    "\n",
    "$$ \\boldsymbol{x}'(t) = A \\boldsymbol{x}(t) + \\boldsymbol{b} \\tag{3.10}$$\n",
    "\n",
    "og den tilhørende Eulers metode blir\n",
    "\n",
    "$$ \\boldsymbol{x}_{n+1} = \\boldsymbol{x}_n + h ( A \\boldsymbol{x}_n + \\boldsymbol{b}), \\quad n=0,1,\\dots \\tag{3.11} $$\n",
    "\n",
    ">**Merk:** Den kompakte notasjonen vår blir kanskje litt forvirrende her, for hva om vi vil skrive ut den $m$-te komponenten til vektoren $\\boldsymbol{x}_n$ som er den $n$-te iterasjonen med Eulers metode.\n",
    "Skriver vi da $x_{m,n}$, $\\boldsymbol{x}_{n,m}$, $(x_m)_n$, $(\\boldsymbol{x}_n)_m$, eller noe helt annet?\n",
    "Da kan det kanskje være bedre å plassere indeksen til den $n$-te iterasjonen som et superskript istedenfor et subskript, $\\boldsymbol{x}^n$, slik at den $m$-te komponenten kan skrives $x_m^n$ og Eulers metode kan skrives som\n",
    ">\n",
    ">$$ \\boldsymbol{x}^{n+1} = \\boldsymbol{x}^n + h \\boldsymbol{f}(t,\\boldsymbol{x}^n), \\quad n=0,1,\\dots $$\n",
    ">\n",
    ">Det viktigste er at du gjør det klart hva du mener når du svarer på en oppgave."
   ]
  },
  {
   "cell_type": "markdown",
   "id": "b445934f-ddcb-431b-9081-508040ec8703",
   "metadata": {},
   "source": [
    "La oss se på et eksempel.\n",
    "\n",
    ">#### Eksempel:\n",
    "Vi ser på startverdiproblemet for (3.7) med startverdier $x(0) = 1$ og $y(0) = 0$.\n",
    "Her vil vi approksimere $x(1)$ og $y(1)$ gjennom to steg med Eulers metode, som betyr at vi må velge en skrittlengde $h=1/2$.\n",
    ">Ett steg med Eulers metode (3.11) vil gi oss approksimasjonene $x_1$ og $y_1$ av verdiene $x(\\frac12)$ og $y(\\frac12)$:\n",
    ">\n",
    ">$$ \\begin{bmatrix} x_1 \\\\ y_1 \\end{bmatrix} = \\begin{bmatrix} x_0 \\\\ y_0 \\end{bmatrix} + h \\cdot \\begin{bmatrix} y_0 \\\\ -x_0 \\end{bmatrix} = \\begin{bmatrix} 1 \\\\ 0 \\end{bmatrix} + \\frac12 \\cdot \\begin{bmatrix} 0 \\\\ -1 \\end{bmatrix} = \\begin{bmatrix} 1 \\\\ -\\frac12 \\end{bmatrix}. $$ \n",
    ">\n",
    ">Vi bruker så disse i det siste steget som gir oss approksimasjonene $x_2$ og $y_2$ av $x(1)$ og $y(1)$:\n",
    ">\n",
    ">$$ \\begin{bmatrix} x_2 \\\\ y_2 \\end{bmatrix} = \\begin{bmatrix} x_1 \\\\ y_1 \\end{bmatrix} + h \\cdot \\begin{bmatrix} y_1 \\\\ -x_1 \\end{bmatrix} = \\begin{bmatrix} 1 \\\\ -\\frac12 \\end{bmatrix} + \\frac12 \\cdot \\begin{bmatrix} -\\frac12 \\\\ -1 \\end{bmatrix} = \\begin{bmatrix} \\frac34 \\\\ -1 \\end{bmatrix}. $$\n",
    ">\n",
    ">Altså er forhåpentlig $x_2 = \\frac34$ og $y_2 = -1$ rimelige tilnærminger av de eksakte verdiene $x(1)$ og $y(1)$.\n",
    ">\n",
    ">Dette lineære systemet kan faktisk løses eksakt, du kan selv sjekke at $x(t) = \\cos(t)$ og $y(t) = -\\sin(t)$ tilfredsstiller startverdiproblemet.\n",
    "Altså er $x(1) = \\cos(1) \\approx 0.54$ og $y(1) = -\\sin(1) \\approx -0.84$, så vi ser at det er litt avvik, og vi ønsker kanskje å bruke flere og kortere steg for å få et bedre resultat.\n",
    "\n",
    "Dersom vi skal ta mange steg er det mye bedre å la datamaskinen gjøre jobben for oss: så lenge vi er i stand til å gjøre ett steg med metoden selv er vi også i stand til å gjøre dette steget inni en for-løkke.\n",
    "Forsøk å bruke flere steg i koden nedenfor og se om du kommer nærmere de eksakte løsningene."
   ]
  },
  {
   "cell_type": "code",
   "execution_count": 19,
   "id": "fbc902d5-031d-4424-b532-7491d7c5af8d",
   "metadata": {},
   "outputs": [
    {
     "name": "stdout",
     "output_type": "stream",
     "text": [
      "0.75 -1.0\n"
     ]
    }
   ],
   "source": [
    "n = 2 # antall steg\n",
    "h = 1/n # skrittlengde\n",
    "\n",
    "x = 1 # startverdi x\n",
    "y = 0 # startverdi y\n",
    "\n",
    "for k in range(n):\n",
    "    x_old = x\n",
    "    y_old = y\n",
    "    x = x_old + h*y_old\n",
    "    y = y_old - h*x_old\n",
    "    \n",
    "print(x,y)"
   ]
  },
  {
   "cell_type": "markdown",
   "id": "4b28930f-cca1-4dfb-97e6-c7432bc7ac44",
   "metadata": {},
   "source": [
    "Alternativt kan vi bruke matrisenotasjon i koden:"
   ]
  },
  {
   "cell_type": "code",
   "execution_count": 20,
   "id": "c80c78a2-2e28-49ca-bec6-cf36a6bc4204",
   "metadata": {},
   "outputs": [
    {
     "name": "stdout",
     "output_type": "stream",
     "text": [
      "0.75 -1.0\n"
     ]
    }
   ],
   "source": [
    "import numpy as np\n",
    "\n",
    "n = 2\n",
    "h = 1/n\n",
    "\n",
    "A = np.array([[0,1],[-1,0]]) # matrise for det lineære systemet\n",
    "\n",
    "x = np.array([1,0]) # startverdier for x og y\n",
    "\n",
    "for k in range(n):\n",
    "    x = x + h*A@x\n",
    "    \n",
    "print(x[0],x[1])"
   ]
  },
  {
   "cell_type": "markdown",
   "id": "9cf7e2ac-c8e9-45c3-bc3d-1003ecf80589",
   "metadata": {},
   "source": [
    "> $\\impliedby$ [Stabilitet for Eulers metode](3_difflign_stabilitet.ipynb) | [Omskriving av andreordens differensialligninger](3_difflign_omskriv.ipynb) $\\implies$"
   ]
  },
  {
   "cell_type": "code",
   "execution_count": null,
   "id": "e139286c-aaa9-4ec4-bb6a-6ab3c43f60e0",
   "metadata": {},
   "outputs": [],
   "source": []
  }
 ],
 "metadata": {
  "kernelspec": {
   "display_name": "Python 3",
   "language": "python",
   "name": "python3"
  },
  "language_info": {
   "codemirror_mode": {
    "name": "ipython",
    "version": 3
   },
   "file_extension": ".py",
   "mimetype": "text/x-python",
   "name": "python",
   "nbconvert_exporter": "python",
   "pygments_lexer": "ipython3",
   "version": "3.8.8"
  }
 },
 "nbformat": 4,
 "nbformat_minor": 5
}
