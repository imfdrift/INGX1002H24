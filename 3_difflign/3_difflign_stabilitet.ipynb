{
 "cells": [
  {
   "cell_type": "markdown",
   "id": "92b40f3b-11b7-4db2-b00d-55de6da2a200",
   "metadata": {},
   "source": [
    "# Eulers metode og (u)stabilitet\n",
    "\n",
    "Én ting er at avviket mellom eksakte og tilnærmede løsninger kan bli i overkant stort dersom skrittlengden $h$ ikke er liten nok.\n",
    "Et større problem er at vi risikerer at tilnærmingen ikke er i nærheten av å oppføre seg som den faktiske løsningen: approksimasjonene kan gå mot uendelig selv om den nøyaktige løsningen avtar mot null!\n",
    "\n",
    "For enkelte differensialligninger, kjent som stive ligninger, er man nødt til å bruke veldig små steg $h$ for å få en rimelig tilnærming av løsningen.\n",
    "Denne problemstillingen er for komplisert til at vi kan gå nærmere inn på hva som karakteriserer slike ligninger, men vi gir en liten smakebit nedenfor.\n",
    "\n",
    "## En modelligning\n",
    "\n",
    "Ligningen\n",
    "\n",
    "$$ x' = \\lambda x, $$\n",
    "\n",
    "som vi så på tidligere, er en modelligning for stive ligninger.\n",
    "Her kan man til og med betrakte en kompleks konstant $\\lambda$, det vil si $\\lambda = \\mathrm{Re}(\\lambda) + i \\mathrm{Im}(\\lambda)$.\n",
    "\n",
    "Dersom den reelle delen av $\\lambda$ er mindre enn 0, det vil si $\\mathrm{Re}(\\lambda) < 0$, vil løsningen $x_0 e^{\\lambda t}$ gå mot 0 når $t \\to \\infty$.\n",
    "For at vi også skal ha at tilnærmingene $x_n$ gitt av Eulers metode, som i dette tilfellet kan uttrykkes eksplisitt som\n",
    "\n",
    "$$ x_{n} = (1+h \\lambda)^n x_0, $$\n",
    "\n",
    "skal gå mot 0 når $n \\to \\infty$ må vi ha at\n",
    "\n",
    "$$ |1+h\\lambda| < 1, \\quad \\text{som tilsvarer} \\quad -2 < h \\mathrm{Re}(\\lambda) < 0. $$\n",
    "\n",
    "La oss for enkelhets skyld se på en reell og negativ $\\lambda$, da må vi altså velge\n",
    "$$ h < -\\frac{2}{\\lambda} \\tag{3.6} $$\n",
    "for at dette er oppfylt.\n",
    "\n",
    ">#### Eksempel:\n",
    "Vi ser på initialverdiproblemet\n",
    "$$ x' = -20x, \\qquad x(0) = 1. $$\n",
    "Dette har den eksponentielt avtagende løsningen $x(t) = e^{-20t}$. Vi bruker Eulers metode til å tilnærme løsningen for $0 \\le t \\le 1$ for ulike skrittlengder $h$.\n",
    "Fra (3.6) ser vi at den kritiske grensen er $h = 1/10$, og for $h = 1/9$, som er større enn denne, er Eulers metode ustabil: tilnærmingene $x_n$ øker i absoluttverdi til tross for at den faktiske løsningen skal avta. Dersom vi velger skrittlengden nøyaktig lik $1/10$ ser vi at $x_n$ veksler mellom verdiene $+1$ og $-1$, imens $h=1/11$ gir en svingende, men i absoluttverdi avtagende, tilnærming.\n",
    "For liten nok $h$ bir vi også kvitt den svingende oppførselen, og vi får approksimasjoner som avtar monotont, slik den eksakte løsningen gjør.\n",
    ">\n",
    "><img src=\"3_stabilitet.png\" style=\"width: 80%\">"
   ]
  },
  {
   "cell_type": "markdown",
   "id": "ec8a8dc5-94a5-40e7-a3a2-a73049642a28",
   "metadata": {},
   "source": [
    "### Hvordan takle stabilitetsproblemer?\n",
    "For noen ligninger kan begrensningen på skrittlengden $h$ i forbindelse med stabilitet være så hemmende at det blir upraktisk å benytte for eksempel Eulers metode.\n",
    "Derfor har det for slike tilfeller blitt utviklet numeriske metoder som er spesialdesignet for disse situasjonene.\n",
    "Vi går ikke inn på slike metoder her, men det er nyttig å være klar over dette."
   ]
  },
  {
   "cell_type": "code",
   "execution_count": null,
   "id": "25b15b6d-746e-4459-a023-05963b9c5ae6",
   "metadata": {},
   "outputs": [],
   "source": []
  }
 ],
 "metadata": {
  "kernelspec": {
   "display_name": "Python 3",
   "language": "python",
   "name": "python3"
  },
  "language_info": {
   "codemirror_mode": {
    "name": "ipython",
    "version": 3
   },
   "file_extension": ".py",
   "mimetype": "text/x-python",
   "name": "python",
   "nbconvert_exporter": "python",
   "pygments_lexer": "ipython3",
   "version": "3.8.8"
  }
 },
 "nbformat": 4,
 "nbformat_minor": 5
}
