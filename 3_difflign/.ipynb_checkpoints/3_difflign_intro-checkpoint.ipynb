{
 "cells": [
  {
   "cell_type": "markdown",
   "id": "5534a14c-fc9e-482a-bdc1-f067ae5219a3",
   "metadata": {},
   "source": [
    "# Numerisk løsning av differensialligninger\n",
    "\n",
    "I [forrige del](2_lignlos_intro.ipynb) betraktet vi ligninger på formen $f(x) = 0$, hvor den ukjente løsningen er en variabel $x$, og så hvordan vi kan finne tilnærminger av denne løsningen numerisk.\n",
    "\n",
    "Nå er turen kommet til differensialligninger, og startverdiproblemer på formen\n",
    "\n",
    "$$ x' = f(t,x), \\qquad x(0) = \\bar{x}. \\tag{3.1} $$\n",
    "\n",
    "Her er ikke den ukjente løsningen en variabel, men en funksjon $x = x(t)$ av den frie variabelen $t$.\n",
    "Noen differensialligninger kan løses eksakt, men da må høyresiden $f(t,x)$ typisk være på en bestemt form, se [appendikset](A_difflign.ipynb).\n",
    "\n",
    "Dermed er vi tilbake i en situasjon hvor vi ønsker å finne en tilnærmet løsning av ligningen, gjerne ved hjelp av numeriske metoder/regnekraft.\n",
    "\n",
    "Si at vi er interesserte i å finne løsningen av startverdiproblemet (3.1), altså funksjonen $x(t)$, for $t$ i intervallet $[0,T]$ hvor $T > 0$.\n",
    "I stedet for å finne en tilnærming av funksjonen $x$ for alle verdier av $t$ i dette intervallet kan vi heller approksimere funksjonsverdien $x(t)$ for et endelig sett av verdier $t_n$ indeksert med $n = 0,\\dots,N$ for et positivt heltall $N$.\n",
    "For enkelhets skyld kan vi la disse verdiene være jevnt fordelte på intervallet, det vil si\n",
    "\n",
    "$$ t_n = n h, \\quad \\text{hvor} \\quad h = \\frac{T}{N} \\quad \\text{og} \\quad n = 0,\\dots,N. $$\n",
    "\n",
    "Her er endepunktene inkludert: vi ser at $t_0 = 0$ og $t_N = T$.\n",
    "\n",
    "Dette minner veldig om oppsettet vi hadde for numerisk integrasjon: faktisk utgjør verdiene $\\{t_n\\}_{n=0}^N$ en partisjon av intervallet $[0,T]$. Det viser seg at vi kan bruke idéene om numerisk derivasjon og integrasjon fra [første del](lenke) av pensum til å tilnærme løsninger av startverdiproblemet (3.1).\n",
    "La oss kalle approksimasjonen vår av $x(t_n)$ for $x_n$.\n",
    "\n",
    "Merk at for verdien $t_0 = 0$ kjenner vi verdien av funksjonen $x(t)$, den er $\\bar{x}$, og dermed kan vi velge $x_0 = \\bar{x}$.\n",
    "Spørsmålet er nå hvordan vi kan finne approksimasjonene $x_n$ for $n = 1,\\dots,N$.\n",
    "\n",
    "<img src=\"3_Euler_illustration.png\" style=\"width: 30%\">"
   ]
  },
  {
   "cell_type": "markdown",
   "id": "13156f34-c0b9-4a52-b871-160d7bd726e7",
   "metadata": {},
   "source": [
    "### Idé 1: Approksimasjon ved hjelp av numerisk derivasjon (foroverdifferanse)\n",
    "La oss anta at vi har approksimasjonen $x_n$ av $x(t_n)$, dette er definitivt tilfelle for $n=0$.\n",
    "For gode tilnærminger burde disse være omtrent like, altså er $x_n \\approx x(t_n)$.\n",
    "\n",
    "Dersom $h$ er liten nok vil den tilhørende foroverdifferansen være en god tilnærming av den deriverte $x'(t)$ for $t=t_n$, det vil si,\n",
    "\n",
    "$$ x'(t_n) \\approx \\frac{x(t_n+h)-x(t_n)}{h} = \\frac{x(t_{n+1})-x(t_n)}{h}. $$\n",
    "\n",
    "La oss derfor erstatte den deriverte på venstresiden av (3.1) med denne foroverdifferansen for verdien $t=t_n$, og i tillegg erstatter vi $x(t_n)$ og $x(t_{n+1})$ med de tilsvarende approksimasjonene $x_n$ og $x_{n+1}$.\n",
    "Da ender vi opp med uttrykket\n",
    "\n",
    "$$ \\frac{x_{n+1}-x_n}{h} = f(t_n,x_n).  $$\n",
    "\n",
    "Husk at vi kjenner verdien av $x_n$, men ikke $x_{n+1}$. Men i uttrykket ovenfor kan vi enkelt løse for denne ukjente, \n",
    "\n",
    "$$ x_{n+1} = x_n + h f(t_n,x_n). \\tag{3.2} $$\n",
    "\n",
    "Siden vi kjenner verdien av $x_0 = \\bar{x}$ for $t_0 = 0$ kan vi sette inn i uttrykket (3.2) for å finne tilnærmingen $x_1$, som vi igjen kan bruke til å finne $x_2$, og så videre..."
   ]
  },
  {
   "cell_type": "markdown",
   "id": "b7e1fd9b-6988-4f35-9d86-d7780ddad853",
   "metadata": {},
   "source": [
    "### Idé 2: Approksimasjon ved hjelp av numerisk integrasjon (riemannsum)\n",
    "En annen måte å komme frem til uttrykket (3.2) på er å tenke integraler istedenfor ...\n",
    "\n",
    "Ved å bruke sammenhengen mellom integrasjon og derivasjon, det som kalles *analysens fundamentalsetning* (evt. fundamentalteorem), kan vi integrere differensialligningen i (3.1) fra $t_n$ til $t_{n+1} = t_n+h$ og få uttrykket\n",
    "\n",
    "$$ x(t_n+h) -x(t_n) = \\int_{t_n}^{t_n+h}f(s,x(s))\\,\\mathrm{d}s.$$\n",
    "\n",
    "Integralet på høyresiden kan vi tilnærme på Riemann-vis med $h$ ganger verdien av $f(t,x(t))$ i det venstre endepunktet $t_n$ hvor vi kjenner approksimasjonen $x_n \\approx x(t_n)$, altså\n",
    "\n",
    "$$ \\int_{t_n}^{t_n+h}f(s,x(s))\\,\\mathrm{d}s \\approx h f(t_n,x(t_n)). $$\n",
    "\n",
    "Gjennom denne tilnærmingen og som før erstatte $x(t_n)$ og $x(t_{n+1})$ med approksimasjonene $x_n$ og $x_{n+1}$ ender vi igjen opp med ligning (3.2)."
   ]
  },
  {
   "cell_type": "markdown",
   "id": "8d3c32e2-f1f8-49b9-bba4-028ec3251b7d",
   "metadata": {},
   "source": [
    "## Eulers metode\n",
    "\n",
    "Den grunnleggende idéen ovenfor er den samme, man bruker startverdien $x_0$ og stigningstallet $f(0,x_0)$ i startpunktet til å tilnærme løsningen i neste steg. Deretter gjentar man prosedyren med den nye verdien.\n",
    "\n",
    "$x = x(t)$ kurve med stigningstall gitt av $f(t,x(t))$ [figur]\n",
    "\n",
    "Uavhengig av hvilken tankegang man foretrekker for å utlede ligning (3.2) så er nok dette den enkleste måten å tilnærme løsningen av startverdiproblemet (3.1) på.\n",
    "Dette kalles *Eulers metode*, og er metoden vi kommer til å bruke i dette kurset for å approksimere løsninger av differensialligninger.\n",
    "\n",
    "Nettopp fordi det er den mest grunnleggende metoden, har den også noen ulemper. Dette skal vi se etter hvert.\n",
    "\n",
    "> **Merk**:\n",
    "Ved å bruke andre og mer omstendelige differanser eller numeriske integrasjonsmetoder kan man utlede mer avanserte approksimasjoner av løsningen til (3.1).\n",
    "I dette kurset nøyer vi oss med Eulers metode."
   ]
  },
  {
   "cell_type": "code",
   "execution_count": null,
   "id": "d596c221-dd3f-418a-a747-d05537caf81b",
   "metadata": {},
   "outputs": [],
   "source": []
  }
 ],
 "metadata": {
  "kernelspec": {
   "display_name": "Python 3",
   "language": "python",
   "name": "python3"
  },
  "language_info": {
   "codemirror_mode": {
    "name": "ipython",
    "version": 3
   },
   "file_extension": ".py",
   "mimetype": "text/x-python",
   "name": "python",
   "nbconvert_exporter": "python",
   "pygments_lexer": "ipython3",
   "version": "3.8.8"
  }
 },
 "nbformat": 4,
 "nbformat_minor": 5
}
