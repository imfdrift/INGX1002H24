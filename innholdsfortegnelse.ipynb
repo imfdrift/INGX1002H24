{
 "cells": [
  {
   "cell_type": "markdown",
   "id": "5d55b676-832d-4555-a447-8ad4596c2043",
   "metadata": {},
   "source": [
    "# Grunnleggende numeriske metoder\n",
    "\n",
    "Her finner du læringsressurser for Numerikk-modulen i emnet INGx1002 - Programmering, Numerikk og Sikkerhet. Læringsressursene består av en samling [Jupyter](https://jupyter.org/) Notebooks som inkluderer både teorinotater, eksempler og visualiseringer. Læringsmateriellet inkluderer kodeeksempler og demoer som krever Jupyter Lab eller liknende utviklingsmiljø for å få best mulig utbytte av. Du kan velge mellom å laste filene til en NTNU-server ved å trykke på [denne lenken]()(ikke implementert!), eller laste ned filene til din egen datamaskin direkte fra github.\n",
    "\n",
    "# Oversikt over læringsmateriell\n",
    "\n",
    "## Kapittel 1: Numerisk Derivasjon og Integrasjon\n",
    "* [Intro til numerisk derivasjon](numerisk_derivasjon_integrasjon/numerisk_derivasjon_intro.ipynb)\n",
    "* [Differansemetoder](numerisk_derivasjon_integrasjon/differansemetoder.ipynb)\n",
    "* [Mer om skrittlenge og avvik]\n",
    "* [Eksempel: derivasjon av måleserier]\n",
    "* [Numerisk stabilitet]\n",
    "* Numerisk integrasjon osv...\n",
    "* \n",
    "\n",
    "## Kapittel 2: \n",
    "* Fikspunktiterasjon\n",
    "* Newton's metode\n",
    "* Numerisk løsning av lineære ligningssett\n",
    "\n",
    "## Kapittel 3:\n",
    "* Eulers metode\n",
    "* Eksempel: bil med konstant pådrag\n",
    "* Koblede differensialligninger med eulers metode\n",
    "* Eksempel: Masse/fjær\n",
    "* Skrittlengde og stabilitet"
   ]
  }
 ],
 "metadata": {
  "kernelspec": {
   "display_name": "Python 3 (ipykernel)",
   "language": "python",
   "name": "python3"
  },
  "language_info": {
   "codemirror_mode": {
    "name": "ipython",
    "version": 3
   },
   "file_extension": ".py",
   "mimetype": "text/x-python",
   "name": "python",
   "nbconvert_exporter": "python",
   "pygments_lexer": "ipython3",
   "version": "3.11.5"
  }
 },
 "nbformat": 4,
 "nbformat_minor": 5
}
