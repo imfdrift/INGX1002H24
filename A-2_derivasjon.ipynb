{
 "cells": [
  {
   "cell_type": "markdown",
   "id": "4b229da1-0840-47dc-8f4e-61e11fccb4b7",
   "metadata": {},
   "source": [
    "# Appendiks 2: Derivasjon og sekantsetningen"
   ]
  },
  {
   "cell_type": "code",
   "execution_count": null,
   "id": "7e660046-2923-4c1a-9602-0e2344ca8cf4",
   "metadata": {},
   "outputs": [],
   "source": []
  }
 ],
 "metadata": {
  "kernelspec": {
   "display_name": "Python 3",
   "language": "python",
   "name": "python3"
  },
  "language_info": {
   "codemirror_mode": {
    "name": "ipython",
    "version": 3
   },
   "file_extension": ".py",
   "mimetype": "text/x-python",
   "name": "python",
   "nbconvert_exporter": "python",
   "pygments_lexer": "ipython3",
   "version": "3.8.8"
  }
 },
 "nbformat": 4,
 "nbformat_minor": 5
}
