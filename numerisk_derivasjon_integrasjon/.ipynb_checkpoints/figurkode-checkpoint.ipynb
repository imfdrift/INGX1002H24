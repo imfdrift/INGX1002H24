{
 "cells": [
  {
   "cell_type": "markdown",
   "id": "fe91cc83-d8dc-4e72-9f94-a9e827a3f2d3",
   "metadata": {},
   "source": [
    "**Kun til bruk for å lage bildevedlegg! Skal ikke distribueres til studenter**"
   ]
  },
  {
   "cell_type": "code",
   "execution_count": null,
   "id": "f90281c4-6629-4fc6-9dd5-0fe8c7dc1204",
   "metadata": {},
   "outputs": [],
   "source": [
    "plt.rcParams[\"figure.figsize\"] = [8.00, 4.5]\n",
    "plt.rcParams[\"figure.autolayout\"] = True\n",
    "plt.rcParams[\"axes.grid\"] = True\n",
    "plt.rcParams[\"axes.xmargin\"] = 0.0"
   ]
  },
  {
   "cell_type": "markdown",
   "id": "aedde20d-596a-4f8b-bc22-178bb23c344f",
   "metadata": {},
   "source": [
    "### Intro til numerisk derivasjon"
   ]
  },
  {
   "cell_type": "code",
   "execution_count": null,
   "id": "f8edc5c6-ce4f-47f5-8471-2e8be786f7fb",
   "metadata": {},
   "outputs": [],
   "source": [
    "import numpy as np\n",
    "import matplotlib.pyplot as plt\n",
    "%matplotlib ipympl\n",
    "\n",
    "t = np.linspace(0, 5, 501)\n",
    "p = -10*t**2+50*t\n",
    "v = 50-2*10*t\n",
    "\n",
    "plt.figure(figsize=(9, 4))\n",
    "plt.subplot(1,2,1)\n",
    "plt.plot(t, p, label=\"$p(t)$\")\n",
    "plt.plot([2], p[200], 'C0o', linewidth=0.0, markersize=6)\n",
    "plt.plot([0, 5], [p[200] - v[200]*2, p[200] + v[200]*3], 'C3--', label=\"Tangent\")\n",
    "plt.xlabel(\"Tid $t$ (sekund)\")\n",
    "plt.ylabel(\"Posisjon (meter)\")\n",
    "plt.legend(loc=\"lower center\")\n",
    "plt.ylim(ymax=80)\n",
    "plt.title(\"Posisjon $p$ over tid\")\n",
    "yticks = list(plt.gca().get_yticks())\n",
    "yticklabels = list(plt.gca().get_yticklabels())\n",
    "yticklabels[0::2] = [\"\"]*len(yticklabels[0::2])\n",
    "plt.gca().set_yticks(yticks, yticklabels)\n",
    "plt.subplot(1,2,2)\n",
    "plt.plot(t, v, 'C3', label=\"$v(t)$\")\n",
    "plt.plot([2], v[200], 'C3o', linewidth=0.5, markersize=6)\n",
    "plt.xlabel(\"Tid $t$ (sekund)\")\n",
    "plt.ylabel(\"Hastighet (m/s)\")\n",
    "plt.legend(loc=\"lower center\")\n",
    "yticks = list(plt.gca().get_yticks())\n",
    "yticklabels = list(plt.gca().get_yticklabels())\n",
    "yticklabels[0::2] = [\"\"]*len(yticklabels[0::2])\n",
    "yticks.append(v[200])\n",
    "yticklabels.append(str(round(v[200])))\n",
    "plt.gca().set_yticks(yticks, yticklabels)\n",
    "plt.title(\"Hastighet $v$ over tid\")"
   ]
  },
  {
   "cell_type": "code",
   "execution_count": null,
   "id": "1c98f8af-3829-492b-be44-fdd8ffdf9eed",
   "metadata": {},
   "outputs": [],
   "source": [
    "import numpy as np\n",
    "import matplotlib.pyplot as plt\n",
    "\n",
    "t = np.linspace(0, 5, 501)\n",
    "p = -10*t**2+50*t\n",
    "v = 50-2*10*t\n",
    "\n",
    "p_diff = (p[250]-p[200])/0.5\n",
    "\n",
    "plt.figure(figsize=(9, 4))\n",
    "plt.subplot(1,2,1)\n",
    "plt.plot(t, p, label=\"$p(t)$\")\n",
    "plt.plot([2, 2.5], [p[200], p[250]], 'C2o', linewidth=0.0, markersize=6)\n",
    "plt.plot([0, 5], [p[200] - v[200]*2, p[200] + v[200]*3], 'C3:', linewidth=0.7, label=\"Tangent\")\n",
    "plt.plot([0, 5], [p[200] - p_diff*2, p[200] + p_diff*3], 'C2--', label=\"Sekant\")\n",
    "plt.xlabel(\"Tid $t$ (sekund)\")\n",
    "plt.ylabel(\"Posisjon (meter)\")\n",
    "plt.legend(loc=\"lower center\")\n",
    "plt.ylim([50, 70])\n",
    "plt.xlim([0.9, 3.1])\n",
    "yticks = list(plt.gca().get_yticks())\n",
    "yticklabels = list(plt.gca().get_yticklabels())\n",
    "yticklabels[1::2] = [\"\"]*len(yticklabels[1::2])\n",
    "plt.gca().set_yticks(yticks, yticklabels)\n",
    "yticks.append(v[200])\n",
    "yticklabels.append(r\"$v(2)$\")\n",
    "plt.title(\"Posisjon $p$ over tid\")\n",
    "\n",
    "\n",
    "plt.subplot(1,2,2)\n",
    "plt.plot(t, v, 'C3', label=\"$v(t)$\")\n",
    "plt.plot([2], p_diff, 'C2o', linewidth=0.0, markersize=6)\n",
    "plt.xlabel(\"Tid $t$ (sekund)\")\n",
    "plt.ylabel(\"Hastighet (m/s)\")\n",
    "plt.legend(loc=\"lower center\")\n",
    "plt.ylim([-20, 40])\n",
    "plt.xlim([0.9, 3.1])\n",
    "yticks = list(plt.gca().get_yticks())\n",
    "yticklabels = list(plt.gca().get_yticklabels())\n",
    "yticklabels[1::2] = [\"\"]*len(yticklabels[1::2])\n",
    "yticks.append(p_diff)\n",
    "yticklabels.append(str(round(p_diff)))\n",
    "plt.gca().set_yticks(yticks, yticklabels)\n",
    "plt.gca().set_yticks(yticks, yticklabels)\n",
    "plt.title(\"Hastighet $v$ over tid\")"
   ]
  }
 ],
 "metadata": {
  "kernelspec": {
   "display_name": "Python 3 (ipykernel)",
   "language": "python",
   "name": "python3"
  },
  "language_info": {
   "codemirror_mode": {
    "name": "ipython",
    "version": 3
   },
   "file_extension": ".py",
   "mimetype": "text/x-python",
   "name": "python",
   "nbconvert_exporter": "python",
   "pygments_lexer": "ipython3",
   "version": "3.11.5"
  }
 },
 "nbformat": 4,
 "nbformat_minor": 5
}
