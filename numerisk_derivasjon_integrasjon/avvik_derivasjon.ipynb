{
 "cells": [
  {
   "cell_type": "markdown",
   "id": "b2b21271-9f98-4169-820e-a20eb8068687",
   "metadata": {},
   "source": [
    "# Avvik i numerisk derivasjon\n",
    "\n",
    "I delkapittel 1.2 så vi hvordan numeriske derivasjonsmetoder aldri vil være $100\\%$ nøyaktig, og vi alltid vil sitte igjen med en viss feil. Denne feilen er altså differansen mellom $f'(x)$ og den numeriske tilnærmingen, og vil variere avhengig av både derivasjonsmetode og skrittlengde $h$. Når man utfører numeriske beregninger, kan det derfor være nyttig å ha en idé om hvor stor denne feilen er for å sikre at svaret vi kommer fram til er nøyaktig nok. \n",
    "\n",
    "## Derivasjonsfeil i foroverdifferanse og bakoverdifferanse\n",
    "\n",
    "La oss se på ***foroverdifferanse***. Gitt en funksjon $f(x)$, vil vi kunne skrive feilen $E(x, h)$ som en funksjon av både $x$ og $h$: \n",
    "\n",
    "$$E(x, h) = \\left|\\frac{f(x+h)-f(x)}{h} - f'(x)\\right|$$\n",
    "\n",
    "Her har vi et aldri så lite dilemma; for å regne ut hvor stor feilen $E(x, h)$ er, må vi derivere funksonsuttrykket $f(x)$. Hva er da poenget med å utføre derivasjonen numerisk? For å svare på dette kan vi ta utgangspunkt i en kjent funksjon $f(x)$ som er lett å derivere, og studere hvordan feilen påvirkes av skrittlengden $h$.\n",
    "<!---\n",
    "| Derivasjonsmetode | Feil |\n",
    "| --- | --- |\n",
    "| Foroverdifferanse |$$  \\left|\\frac{f(x+h)-f(x)}{h} - f'(x) \\right|$$ |\n",
    "| Bakoverdifferanse | $$ \\left|\\frac{f(x)-f(x - h)}{h} - f'(x) \\right|$$ |\n",
    "| Senterdifferanse | $$ \\left|\\frac{f(x+h)-f(x-h)}{2h} - f'(x) \\right|$$ |\n",
    "\n",
    "> \n",
    "\n",
    "| Derivasjonsmetode | $$\\textbf{Feil  }\\ \\ E(x, h)$$|\n",
    "| :-- | :-- |\n",
    "| Foroverdifferanse |$$\\left|\\frac{f(x+h)-f(x)}{h} - f'(x)\\right| \\propto h$$|\n",
    "| Bakoverdifferanse | $$\\left|\\frac{f(x)-f(x - h)}{h} - f'(x)\\right| \\propto h $$|\n",
    "| Senterdifferanse | $$ \\left| \\frac{f(x+h)-f(x-h)}{2h} - f'(x) \\right| \\propto h^2$$|\n",
    "--->"
   ]
  },
  {
   "cell_type": "markdown",
   "id": "466a182e-01ed-4c7c-b4c3-eb779aad5c07",
   "metadata": {},
   "source": [
    "> ### Eksempel 1:\n",
    "> Gitt en funksjon $f(x) = e^x$.\n",
    "> *  Hvor stor blir feilen $E(x, h)$ når vi prøver å regne ut $f'(0)$ med foroverdifferanse for skrittlengene $h=0.5$ og $h=0.25$?\n",
    "> *  Hvor mye mindre ble feilen når vi gikk fra $h=0.5$ til $h=0.25$?\n",
    ">\n",
    "> **Derivasjonsfeil for $h=0.5$:**\n",
    "> $$\n",
    " \\begin{align}\n",
    "E(0, 0.5) &=  \\left|\\frac{f(0+0.5) - f(0)}{h} - f'(0) \\right| \\\\\n",
    " &= \\left|\\frac{e^{0.5}-e^0}{0.5} - e^0 \\right| \\\\\n",
    " &\\approx 0.297\n",
    " \\end{align}\n",
    " $$\n",
    ">\n",
    "> **Derivasjonsfeil for $h = 0.25$:**\n",
    "$$\n",
    " \\begin{align}\n",
    " E(0, 0.25) &=  \\left|\\frac{f(0+0.25) - f(0)}{h} - f'(0) \\right| \\\\\n",
    " &= \\left|\\frac{e^{0.25}-e^0}{0.25} - e^0 \\right| \\\\\n",
    " &\\approx 0.136\n",
    " \\end{align}\n",
    " $$\n",
    "> **Reduksjon i feil:**\n",
    ">\n",
    "> $$\n",
    "\\begin{align}\n",
    "\\frac{E(0, 0.5) - E(0,0.25)}{E(0, 0.5)} &= \\frac{0.136}{0.279}\\\\\n",
    "&\\approx 0.542 \\\\\n",
    "&= 54.2\\%\n",
    "\\end{align}$$\n",
    "> \n"
   ]
  },
  {
   "cell_type": "markdown",
   "id": "ad5a3698-b529-44da-a5e3-703246f21a1e",
   "metadata": {},
   "source": [
    "Som vi kan se ifra regneeksempelet over, så resulterte en halvering av skrittlengden $h$ i en ny derivasjonsfeil som var litt mindre enn halvparten så stor som den opprinnelige derivasjonsfeilen. Vi kan videre bruke python til å utføre flere halveringer av skrittlengden $h$, og studere hvordan feilen reduseres videre."
   ]
  },
  {
   "cell_type": "markdown",
   "id": "c0a50e47-c77c-4782-9ed3-5d57e1e7516a",
   "metadata": {},
   "source": [
    "> ### Eksempel 2:\n",
    "> Bruk python til å regne ut derivasjonsfeil for $9$ halveringer av skrittlengden $h=1$, og regn også ut hvor mye av feilen som elimineres ved hver halvering:"
   ]
  },
  {
   "cell_type": "code",
   "execution_count": 112,
   "id": "2eed8d55-a992-44b9-ac8c-bd5fddd2fc51",
   "metadata": {},
   "outputs": [
    {
     "name": "stdout",
     "output_type": "stream",
     "text": [
      " Halvering nr. | Skrittlengde  | Derivasjonsfeil | Relativ reduksjon i feil\n",
      "---------------|---------------|-----------------|-------------------------\n",
      " 0             | h=1.000000000 | 0.718281828     | -\n",
      " 1             | h=0.500000000 | 0.297442541     | 58.59%\n",
      " 2             | h=0.250000000 | 0.136101667     | 54.24%\n",
      " 3             | h=0.125000000 | 0.065187625     | 52.10%\n",
      " 4             | h=0.062500000 | 0.031911343     | 51.05%\n",
      " 5             | h=0.031250000 | 0.015789040     | 50.52%\n",
      " 6             | h=0.015625000 | 0.007853350     | 50.26%\n",
      " 7             | h=0.007812500 | 0.003916442     | 50.13%\n",
      " 8             | h=0.003906250 | 0.001955671     | 50.07%\n",
      " 9             | h=0.001953125 | 0.000977199     | 50.03%\n"
     ]
    }
   ],
   "source": [
    "from numpy import e\n",
    "\n",
    "# Funksjonen f(x) = e^x\n",
    "def f(x: float) -> float:\n",
    "    return e**x\n",
    "\n",
    "# Funksjonens deriverte f'(x) = e^x\n",
    "def df(x: float) -> float:\n",
    "    return e**x\n",
    "\n",
    "# Utregning av derivasjonsfeil\n",
    "def E(x: float, h: float, method = \"forward\") -> float:\n",
    "    if method == \"forward\":\n",
    "        error = abs((f(x+h) - f(x))/h - df(x)) \n",
    "    elif method == \"backward\":\n",
    "        error = abs((f(x) - f(x-h))/h - df(x)) \n",
    "    elif method == \"center\":\n",
    "        error = abs((f(x+h) - f(x-h))/(2*h) - df(x)) \n",
    "    return error\n",
    "\n",
    "x = 0 # Verdi av 'x' der f'(x) skal utregnes\n",
    "\n",
    "# Skriv ut derivasjonsfeil for her halvering i en tabell:\n",
    "print(\" Halvering nr. | Skrittlengde  | Derivasjonsfeil | Relativ reduksjon i feil\")\n",
    "print(\"---------------|---------------|-----------------|-------------------------\")\n",
    "print(f\" 0             | h={1:.9f} | {E(x, 1):.9f}     | -\")\n",
    "for i in range(1, 10):\n",
    "    h = 2**-i # h = 0.5, 0.25, 0.125, ...\n",
    "    ratio = E(x, h)/E(x, 2*h) \n",
    "    print(f\" {i}             | h={h:.9f} | {E(x, h):.9f}     | {(1-ratio)*100:.2f}%\")"
   ]
  },
  {
   "cell_type": "markdown",
   "id": "103d9ba4-6493-42fc-9e51-b5e68dca1a21",
   "metadata": {},
   "source": [
    "Resultatene fra python-eksempelet antyder at en halvering i skrittlengde $h$ fører til en ny derivasjonsfeil som vil være ca. lik den opprinnelige derivasjonsfeilen. dvs:\n",
    "$$E \\left( x, \\frac{h}{2}\\right) \\approx \\frac{E(x, h)}{2} $$\n",
    "\n",
    "En generalisering som kan sies å være tilstrekkelig god selv om den ikke er helt nøyaktig er at derivasjonsfeilen er *proporsjonal* med skrittlengden $h$. Dersom vi utfører samme eksperiment med bakoverdifferanse istdedenfor foroverdifferanse, vil vi få et tilsvarende resultat. Formel $1.5$ kan derfor sies å være gjeldende for både foroverdifferanse og bakoverdifferanse.Symbolet '$\\propto$' i formel $1.5$ betyr \"er proporsjonal med\", og er det samme som å si at $E(x, h) = K\\cdot h$ for en ukjent konstant $K$.\n",
    "\n",
    "$$E(x, h) \\propto h \\tag{1.5}$$\n",
    "\n",
    "Dersom vi utfører samme eksperiment med bakoverdifferanse istdedenfor foroverdifferanse, vil vi få et tilsvarende resultat. Formel $1.5$ kan derfor sies å være gjeldende for både foroverdifferanse og bakoverdifferanse."
   ]
  },
  {
   "cell_type": "markdown",
   "id": "406c72b6-b511-4a07-9d99-575eb551b15f",
   "metadata": {},
   "source": [
    "### Derivasjonsfeil med senterdifferanse"
   ]
  },
  {
   "cell_type": "markdown",
   "id": "d1287a51-7532-46d7-8b43-ac0b2383908a",
   "metadata": {},
   "source": [
    "> ### Eksempel 1:\n",
    "> Gitt funksjonen $f(x) = e^x$, bruk `Python` til å vise avviket mellom $\\frac{f(x+h) - f(x)}{h}$ og funksjonens deriverte $f'(x)$ i punktet $x=0$ for skrittlengder $h \\in \\{\\frac{1}{2}, \\frac{1}{4}, \\frac{1}{8}, \\ldots, \\frac{1}{1024}\\}$ ."
   ]
  },
  {
   "cell_type": "code",
   "execution_count": 5,
   "id": "fbead1d1-996b-4055-a4fd-36a9ddbf199a",
   "metadata": {},
   "outputs": [
    {
     "data": {
      "image/png": "[encoded data removed]",
      "text/plain": [
       "<Figure size 640x480 with 2 Axes>"
      ]
     },
     "metadata": {},
     "output_type": "display_data"
    }
   ],
   "source": [
    "import numpy as np\n",
    "import matplotlib.pyplot as plt\n",
    "h = 1/2**np.linspace(0, 10, 11)\n",
    "\n",
    "def f(x):\n",
    "    return np.exp(x)\n",
    "\n",
    "\n",
    "f_diff = (f(0+h)-f(0))/h - f(0)\n",
    "\n",
    "Eh = (f(0+h)-f(0))/h-1\n",
    "plt.subplot(1,2,1)\n",
    "plt.plot(h, Eh, 'o:')\n",
    "plt.xlabel(\"Skrit\n",
    "plt.grid(True)\n",
    "plt.title(\"Lineær skala\")\n",
    "plt.subplot(1,2,2)\n",
    "plt.plot(h, Eh, 'o:')\n",
    "plt.yscale(\"log\")\n",
    "plt.xscale(\"log\")\n",
    "plt.title(\"Logarimtisk skala\")\n",
    "plt.grid(True)"
   ]
  },
  {
   "cell_type": "code",
   "execution_count": 32,
   "id": "c957bae1-70f3-47bc-be16-e26d45a051d8",
   "metadata": {},
   "outputs": [
    {
     "name": "stdout",
     "output_type": "stream",
     "text": [
      " Skrittlengde | Derivasjonsfeil | Reduksjonsrate for feil\n",
      "--------------|-----------------|------------------------\n",
      " 2^-1         | 2.974e-01       | 0.41410\n",
      " 2^-2         | 1.361e-01       | 0.45757\n",
      " 2^-3         | 6.519e-02       | 0.47896\n",
      " 2^-4         | 3.191e-02       | 0.48953\n",
      " 2^-5         | 1.579e-02       | 0.49478\n",
      " 2^-6         | 7.853e-03       | 0.49739\n",
      " 2^-7         | 3.916e-03       | 0.49870\n",
      " 2^-8         | 1.956e-03       | 0.49935\n",
      " 2^-9         | 9.772e-04       | 0.49967\n"
     ]
    }
   ],
   "source": [
    "import numpy as np\n",
    "\n",
    "def f(x: float) -> float:\n",
    "    return np.exp(x)\n",
    "\n",
    "def E(x: float, h: flaot) -> float:\n",
    "    return (f(x + h) - f(x))/h - f(x)\n",
    "\n",
    "\n",
    "x = 0 \n",
    "print(\" Skrittlengde | Derivasjonsfeil | Reduksjonsrate for feil\")\n",
    "print(\"--------------|-----------------|------------------------\")\n",
    "for i in range(1, 10):\n",
    "    h = 2**-i\n",
    "    ratio = E(x, h)/E(x, h*2)\n",
    "    print(f\" 2^-{i}         | {E(0, h):.3e}       | {ratio:.5f}\")"
   ]
  },
  {
   "cell_type": "code",
   "execution_count": 81,
   "id": "2fb433ae-37af-4ba4-b402-797991d04f1c",
   "metadata": {},
   "outputs": [
    {
     "data": {
      "text/plain": [
       "0.962458190217232"
      ]
     },
     "execution_count": 81,
     "metadata": {},
     "output_type": "execute_result"
    }
   ],
   "source": [
    "def f(x: float) -> float:\n",
    "    return np.exp(x)\n",
    "\n",
    "h = 1\n",
    "\n",
    "def df(f, x, h):\n",
    "    return (f(x+h)-f(x-h))/(2*h)\n",
    "\n",
    "df(f, 0, h)-(df(f, 0, 2*h)-df(f, 0, h))/3\n",
    "#df(f, 0, h)"
   ]
  }
 ],
 "metadata": {
  "kernelspec": {
   "display_name": "Python 3 (ipykernel)",
   "language": "python",
   "name": "python3"
  },
  "language_info": {
   "codemirror_mode": {
    "name": "ipython",
    "version": 3
   },
   "file_extension": ".py",
   "mimetype": "text/x-python",
   "name": "python",
   "nbconvert_exporter": "python",
   "pygments_lexer": "ipython3",
   "version": "3.11.5"
  }
 },
 "nbformat": 4,
 "nbformat_minor": 5
}
