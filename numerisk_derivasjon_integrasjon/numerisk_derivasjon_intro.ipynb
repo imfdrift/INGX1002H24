{
 "cells": [
  {
   "cell_type": "markdown",
   "id": "8bf01188-40b2-4b0c-81bf-342ee4858142",
   "metadata": {},
   "source": [
    "# Intro til numerisk derivasjon\n",
    "\n"
   ]
  },
  {
   "cell_type": "markdown",
   "id": "836962fb-32ca-4312-9c06-777bd27fd758",
   "metadata": {},
   "source": [
    "## Derivasjon oppsummert\n",
    "\n",
    "Som vi kjenner til fra matematiske fag, vil den *deriverte* av en funskjon $f(x)$ være en ny funksjon $f'(x)$ som beskriver *endringsraten* til funksjonen $f(x)$ med hensyn på $x$. Et klassisk eksempel på dette er beregning av momentan hastigheten til et objekt når vi kjenner til funksjonen for objektets posisjon over tid. I dette tilfellet vil funksjonen for hastighet over tid være lik den deriverte av posisjon med hensyn på tid.\n",
    "\n",
    "> #### Eksempel 1:\n",
    "> La oss si at vi kaster en ball rett opp i luften og definerer funksjonen $y(t)=50t-10t^2$ som ballens vertikale posisjon målt i høydemeter meter over bakken for et gitt tidspunkt $t$. Ved å bruke konvensjonelle derivasjonsregler vinner vi at den momentane hastigheten til ballen over tid $v(t) = y'(t) = 50-20t$. For et gitt tidspunkt $t=2$ sekund, kan vi da bruke funksjonene $y(t)$ og $v(t)$ til å finne både ballens posisjon og hastighet *akkurat* i dette tidspunktet.\n",
    "> $$\n",
    "\\begin{align}\n",
    "y(2) &= 50\\cdot 2 - 10\\cdot 2^2 = 60 \\text{ m}\\\\\n",
    "v(2) &= 50 - 20\\cdot 2 = 10 \\text{ m/s}\n",
    "\\end{align}\n",
    "$$\n",
    "> Én måte å visualisere dette på er å tenke på hastigheten $v(t) = y'(t)$ i tidspunktet $t=2$ som brattheten til en rett linje som [*tangerer*](https://no.wikipedia.org/wiki/Tangent_(matematikk)) funksjonen $y(t)$ i tidspunktet $t=2$:\n",
    "> \n",
    "> <img src=\"ball_ex1.png\" style=\"width: 700px; margin-left: 15%\" />\n",
    ">\n",
    "> Her ser vi tydelig at den rette linja som tangerer kurven $y(t)$ i tidspunktet $t=2$ har en endring på $10m$ i løpet av ett sekund. Dette stemmer veldig bra med den utregnede funksjonsverdien $v(2)= 10 \\text{ m/s}$ vist i figuren til høyre."
   ]
  },
  {
   "cell_type": "markdown",
   "id": "3e89d7fe-7186-45f5-b59f-1ee1d3ec2b1a",
   "metadata": {},
   "source": [
    "## Differanse vs. derivasjon\n",
    "\n",
    "Noen ganger kan det hende det ikke er hensiktsmessig å utlede et uttrykk for den deriverte av en funksjon $f'(x)$. En årsak til dette kan være funksjonen $f(x)$ er spesielt vanskelig å derivere med bruk av kjente derivasjonsregler. I slike tilfeller kan vi regne ut *differansen* $\\Delta f(x)$ mellom funksjonsverdien $f(x)$ og en nærliggende funksjonsverdi $f(x+h)$. Ved å dele $\\Delta f(x)$ på *skrittlengden* $h$ vil vi da få en *tilnærmet verdi* for endrignen i $f(x)$ per enhet av $x$, også kjent som $f'(x)$. Det matematiske uttrykket for dette er gitt i formel $1$.\n",
    "$$ f'(x) \\approx \\frac{f(x+h) - f(x)}{h} \\tag{1.1}$$\n",
    "\n",
    "Hvorvidt vår numeriske tilnærming i formel $1$ er korrekt avhenger i stor grad av skrittlengden $h$. Forskjellen mellom eksakt derivasjon og vår numeriske tilnærming er at istedenfor å finne den momentane endringsraten til funksjonen $f(x)$ for en bestemt verdi av $x$, har vi istedenfor regnet ut den *gjennomsnittlige* endringsraten i mellom verdiene $x$ og $x+h$. Dette er sammenlignbart med måten to fotobokser brukes til å måle gjennomsnittlig hastighet til et kjøretøy for strekningen mellom fotoboksene.\n",
    "<!--er at istedenfor å finne brattheten til en tangent til kurven $f(x)$ i punktet $(x, f(x))$ finner vi nå brattheten til en [*sekant*](https://no.wikipedia.org/wiki/Sekant), altså en rett linje som passerer gjennom punktene $\\left(x, f(x)\\right)$ og $\\left(x+h, f(x+h)\\right)$.\n",
    "-men det kan også hende at vi ikke en gang kjenner til funksjonen $f(x)$ og alt vi har å jobbe med er *verdien* til $f(x)$ for et sett med bestemte verdier $x \\in \\{x_0, x_1, x_2, \\ldots \\}$.-->\n",
    "\n",
    "> #### Eksempel 2:\n",
    "> La oss fortsette med eksempelet der vi kaster en ball opp i luften, og ballens posisjon over tid $t$ er beskrevet med funksjonen $y(t) = 50t - 10t^2$. Dersom vi velger en skrittlengde $h=0.5$ s, vil formel $1$ gi følgende regnestykket for en numerisk tilnærming til $y'(2)$:\n",
    "> $$\n",
    " \\begin{align}\n",
    " y'(2) &\\approx \\frac{y(2+0.5) - y(2)}{0.5}\\\\\n",
    "  &= \\frac{ (50\\cdot 2.5 -10 \\cdot 2.5^2)-(50\\cdot 2 -10 \\cdot 2^2) )}{0.5}\\\\\n",
    "  &= (62.5 - 60)\\cdot 2\\\\\n",
    "  &= 5 \\text{ m/s}\n",
    " \\end{align}\n",
    " $$\n",
    "> For å illustrere forskjellen mellom dette og eksakt derivasjon, kan vi visualisere den numeriske tilnærmingen i tidspunktet $t=2$ som brattheten til en [*sekant*](https://no.wikipedia.org/wiki/Sekant), altså en rett linje som passerer gjennom kurven til $y(t)$ i tidspunktene $t=2$ s og $t=2.5$ s. Brattheten til denne sekanten vil være lik gjennomsnittshastigheten til ballen i tidsintervallet $2\\text{ s}\\leq t \\leq 2.5\\text{ s}$, og som vi ser er ikke dette nødvendigvis et presist estimat for den momentane hastigheten $v(2)$:\n",
    "> \n",
    "> <img src=\"ball_ex2.png\" style=\"width: 700px; margin-left: 15%\" />\n",
    ">\n",
    "> Den numeriske tilnærmingen til $v(2)$ blir i dette tilfellet lik $5$ m/s, og vi kan i dette tilfellet regne ut hor mye vi \"bommet\" med ved å sammenligne med den eksakte deriverte: \n",
    "> $$\\begin{align}\n",
    "\\text{avvik} &= \\big| \\text{eksakt derivert} - \\text{numerisk derivert} \\big| \\\\\n",
    "&= |10 \\text{m/s} - 5 \\text{m/s}| \\\\\n",
    "&= 5 \\text{m/s}\n",
    "\\end{align}\n",
    "$$\n",
    "> Ønsker vi et mindre avvik kan vi redusere skrittlengden $h$ slik at tidsintervallet brukt til differensieringen blir mindre.\n",
    ">\n",
    "> <img src=\"differentiation.gif\" style=\"width: 700px; margin-left: 15%\" />\n",
    ">\n",
    "> Som vi ser, vil den numeriske tilnærmingen *konvegere* med den korrekte verdien på $10\\text{ m/s}$ etter hvert som skrittlengden $h$ nærmer seg $0$."
   ]
  },
  {
   "cell_type": "markdown",
   "id": "a427ed8c-65b5-4b47-88cf-8c525a4d149c",
   "metadata": {},
   "source": [
    "## Numerisk derivasjon med Python\n",
    "\n",
    "Til tross for potensiell unøyaktighet i resultatet, er fordelen med numerisk derivasjon slik som illusrtert i `Eksempel 2` at det utføres ved innsetting av tallverdier direkte i formel $1$, hvorpå vi kan bruke en kalkulator eller et Python-script til å finne det tilnærmede svaret. Gitt en allerde definert matematisk funksjon `f(x)`, kan vi finne en tilnærming til funksjonens deriverte i punktet `x` med skrittlengde `h` med følgende kodelinje:\n",
    "```Python\n",
    "x_diff = (f(x + h) - f(x))/h\n",
    "\n",
    "```\n",
    "\n",
    "> ### Eksempel 3:\n",
    "> Gitt eksempelet hvor vi kaster en ball opp i luften og posisjonen er gitt ved funksjonen $y(t) = 50\\cdot t - 10 \\cdot t^2$, viser kodecellen nedenfor et forslag til hvordan Python kan brukes til å regne ut en tilnærming til $v(2)$ med skrittlengde $h=10^{-3}$."
   ]
  },
  {
   "cell_type": "code",
   "execution_count": 1,
   "id": "086bc19d-8c48-41bd-9e27-c3bdb353cf83",
   "metadata": {},
   "outputs": [
    {
     "name": "stdout",
     "output_type": "stream",
     "text": [
      "Ballens hastighet ved t=2s er beregnet til 9.99m/s.\n"
     ]
    }
   ],
   "source": [
    "# Funksjonen p(t) for ballens posisjon:\n",
    "def y(t: float) -> float:\n",
    "    p = 50*t - 10*t**2\n",
    "    return p\n",
    "    \n",
    "# Ønskede parametre for den numeriske metoden:\n",
    "t = 2 # Eksakt tispunkt hvor vi vil regne ut hastighet\n",
    "h = 1e-3 # Skrittlengde brukt i numerisk derivasjon\n",
    "\n",
    "# Utførelse av numerisk derivasjon:\n",
    "y_diff = (y(t + h) - y(t))/h\n",
    "\n",
    "# Utskrift av resultat:\n",
    "print(f\"Ballens hastighet ved t={t}s er beregnet til {y_diff:.2f}m/s.\")"
   ]
  },
  {
   "cell_type": "markdown",
   "id": "b3a282c3-66bf-4184-b558-0ed429c7777f",
   "metadata": {},
   "source": [
    "> Som vi ser i kodecellens utskrift er feilen svært liten, men svaret vårt er fortsatt ikke helt nøyaktig.\n",
    "\n",
    "Vi har nå gått ganske nøye gjennom hvordan verdien til en funksjon $f(x)$ i to nærliggende punkter kan brukes til å beregne en tilnærming til funksjonens deriverte for en bestemt verdi av $x$, og hvordan denne tilnærmingen konvergerer mot den eksakte veriden til funksjonens deriverte når avstanden mellom punktene blir veldig liten. Som dere kanskje husker er dette faktisk definisjonen på derivasjon, og formuleres matematisk slik som i formel $1.2$ der symbolet $\\doteq$ betyr \"er definert som\".\n",
    "\n",
    "$$ f'(x) \\doteq \\lim_\\limits{h\\to0}\\frac{f(x+h)-f(x)}{h}. \\tag{1.2}$$\n",
    "\n",
    "I dette faget  vil vi, istedenfor å utlede grenseverdien i formel $1.2$, gå ut ifra at skrittlengden $h$ har en konkret verdi større enn $0$. Konsekvensen av dette er at vi aldri kan forvente å få et resultat som er $100\\%$ nøyaktig, noe som gir opphav til følgende spørsmål:\n",
    "* Finnes det noen andre strategier enn den gitt i formel $1.1$ som kan gi en mer presis verdi for funksjonens deriverte?\n",
    "* Hvordan kan man vite hvor liten skrittlengden $h$ trenger å være?\n",
    "* Ettersom tilnærmingen i teorien bare blir mer presis når skrittlengden $h$ blir mindre, finnes det noen nedre grense for hvor liten $h$ kan være?\n",
    "\n",
    "I de neste delkapitlene skal vi se nærmere på disse spørsmålene, men uten å dykke alt for mye ned i de hårete matematiske detaljene."
   ]
  }
 ],
 "metadata": {
  "kernelspec": {
   "display_name": "Python 3 (ipykernel)",
   "language": "python",
   "name": "python3"
  },
  "language_info": {
   "codemirror_mode": {
    "name": "ipython",
    "version": 3
   },
   "file_extension": ".py",
   "mimetype": "text/x-python",
   "name": "python",
   "nbconvert_exporter": "python",
   "pygments_lexer": "ipython3",
   "version": "3.11.5"
  }
 },
 "nbformat": 4,
 "nbformat_minor": 5
}
