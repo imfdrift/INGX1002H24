{
 "cells": [
  {
   "cell_type": "markdown",
   "id": "a380d922",
   "metadata": {
    "tags": []
   },
   "source": [
    "# Skrått Kast\n",
    "\n",
    "Vi vil lage et program som kan løse ligninger i 1 variabel for oss.\n",
    "Vi ser eksempelvis på en ligning som oppstår når man vil finne ut hvilken vinkel man må skyte et prosjektil som har fast utgangshastighet med for å treffe en blink.\n",
    "\n",
    "## Skrått kast\n",
    "\n",
    "Vi har en kanon som står $7.00$ m over bakken. Kanonen skyter prosjektil med utgangshastighet $15.0$ m/s.\n",
    "Vi ønsker å treffe en blink som ligger på bakken 28 meter unna. Hvilken utgangsvinkel må vi stille kanonen inn på?\n",
    "\n",
    "### 2D-kinematikk\n",
    "For et såkalt skrått kast som problemet over beskriver, kan man se på x- og y- posisjonen til prosjektilet\n",
    "uavhengig av hverandre:\n",
    "\n",
    "$$\n",
    "\\begin{align}\n",
    "x(t) &= v_0\\cos{\\theta}\\cdot t, \\\\\n",
    "y(t) &= v_0\\sin{\\theta}\\cdot t-\\frac{1}{2}gt^2.\n",
    "\\end{align}\n",
    "$$\n",
    "\n",
    "Her er $x(t)$ og $y(t)$ x- og y-posisjonen ved tiden $t$, $v_0$ er den faste utgangsfarten og $g$ er tyngdeakselerasjonen.\n",
    "\n",
    "Vi vet at på et eller annet tidpunkt $t$, så må prosjektilet treffe blinken - den må innom $(x_b,y_b)= (-7,28)$.\n",
    "Vi vet ikke når dette skjer (når prosjektilet lander), eller hvilken utgangvinkel vi trenger. Vi får da to ligninger med disse to ukjente:\n",
    "\n",
    "$$\n",
    "\\begin{align}\n",
    "x_b &= v_0\\cos{\\theta}\\cdot t \\\\\n",
    "y_b &= v_0\\sin{\\theta}\\cdot t-\\frac{1}{2}gt^2\n",
    "\\end{align}\n",
    "$$\n",
    "\n",
    "Her kan vi for eksempel løse den første ligningen for tiden $t$ og sette dette inn i ligning 2, og vi får etter\n",
    "litt massasje:\n",
    "\n",
    "$$\n",
    "y_b = x_b\\tan{\\theta}-\\frac{1}{2}g\\left(\\frac{x_b}{v_0\\cos{\\theta}}\\right)^2\n",
    "$$\n",
    "\n",
    "Her er\n",
    "\n",
    "$$\n",
    "\\begin{align}\n",
    "y_b&= -7.00\\ \\text{m}, \\\\\n",
    "v_0 &= 15\\ \\text{m/s}, \\\\\n",
    "x_b &= 28.0\\ \\text{m}.\n",
    "\\end{align}\n",
    "$$\n",
    "\n",
    "Siste steg er å løse følgende ligning for $\\theta$,\n",
    "\n",
    "$$\n",
    "-7 = 28\\tan{\\theta}-4.905\\left(\\frac{28}{15\\cos{\\theta}}\\right)^2.\n",
    "$$\n",
    "\n",
    "Denne ligningen er ikke så lett å løse, selv om vi kan leke litt med figuren under og se at den *har* 2 løsninger. Det er ikke så lett å disse løsningene analytisk, men ligningen er en god kandidat til å løses *numerisk*. Andre likninger kan det være *umulig* å finne en analytisk løsning til, f.eks. $x+\\sin{x} = 1$.\n",
    "\n"
   ]
  },
  {
   "cell_type": "code",
   "execution_count": 1,
   "id": "170ac928",
   "metadata": {
    "hide_input": false
   },
   "outputs": [
    {
     "data": {
      "text/html": [
       "<iframe src=\"https://folk.ntnu.no/jonajh/jsx/kast.html\" height=800 width=800></iframe> \n"
      ],
      "text/plain": [
       "<IPython.core.display.HTML object>"
      ]
     },
     "metadata": {},
     "output_type": "display_data"
    }
   ],
   "source": [
    "%%html\n",
    "<iframe src=\"https://folk.ntnu.no/jonajh/jsx/kast.html\" height=800 width=800></iframe> "
   ]
  },
  {
   "cell_type": "markdown",
   "id": "07f78ce2",
   "metadata": {},
   "source": [
    "## Grafisk løsning\n",
    "\n",
    "Når man støter på en likning man ikke får helt til å løse, kan man prøve å løse den grafisk. Gitt at ligningen er skrevet om til formen $f(x) = 0$, så vil løsningen(e) være gitt av x-koordinaten til punktet der kurven til $f(x)$ krysser x-aksen. \n",
    "\n",
    "For a finne vinkelen vi må stille inn kanonen vår på, blir oppgaven altså å finne roten til funksjonen\n",
    "$$\n",
    "f(\\theta) =  x_b\\tan{\\theta}-\\frac{1}{2}g\\left(\\frac{x_b}{v_0\\cos{\\theta}}\\right)^2-y_b\n",
    "$$\n",
    "\n",
    "### Oppgave a)\n",
    "Lag denne funksjonen i python som `def f(theta):`, og plot den i en figur som viser kurven til $f(\\theta)$ i intervallet $15^{\\circ} \\leq \\theta \\leq 60^{\\circ}$.\n",
    "\n",
    "*PS: Ved riktig utførelse av oppgaven skal kurven se noe [slik](Figurer/oppg4a_lf.png) ut.* \\\n",
    "*PPS: Husk å ta høyde for konvertering mellom grader og radianer: for dette kan funksjonene `np.deg2rad()` og `np.rad2deg()` være nyttige. I numpy tar alltid de trigonometriske funksjonene `sin`, `cos`, `tan` argumenter i radianer.*"
   ]
  },
  {
   "cell_type": "code",
   "execution_count": null,
   "id": "826f2b9b-526b-4e12-bacc-12b583585846",
   "metadata": {
    "deletable": false,
    "nbgrader": {
     "cell_type": "code",
     "checksum": "6b4536568505ec7159eb1f5777799349",
     "grade": false,
     "grade_id": "cell-2472f9052f54dd1c",
     "locked": false,
     "schema_version": 3,
     "solution": true,
     "task": false
    },
    "tags": []
   },
   "outputs": [],
   "source": [
    "import numpy as np\n",
    "import matplotlib.pyplot as plt\n",
    "\n",
    "# Parametre\n",
    "y_bakke = -7  # Høydeforskjell mellom kanonstilling og blink\n",
    "g = 9.81      # Tyngdekraftskonstant\n",
    "x_lengde = 28 # Horisontal distanse til blink \n",
    "v0 = 15       # Starthastighet\n",
    "\n",
    "\n",
    "def f(theta):\n",
    "    #-------------------------------------\n",
    "    # SKRIV DIN KODE HER:\n",
    "    #-------------------------------------\n",
    "    \n",
    "#-------------------------------------\n",
    "# SKRIV DIN KODE HER:\n",
    "#-------------------------------------"
   ]
  },
  {
   "cell_type": "markdown",
   "id": "28cecb61-0cd2-4811-bf51-92a3e77fea7c",
   "metadata": {},
   "source": [
    "Hvor (sånn ca.) vil du si nullpunktene til funksjonen $f(\\theta)$ ligger?\n",
    "\n",
    "Fyll inn omtrentlige tallsvar ved å se på grafen (feilmargin $\\pm 5^{\\circ}$) i CapQuiz."
   ]
  },
  {
   "cell_type": "markdown",
   "id": "354bdd9c",
   "metadata": {},
   "source": [
    "## Newtons metode.\n",
    "\n",
    "Vi skal nå bruke Newtons metode til å finne ligningens løsninger med større nøyaktighet.\n",
    "\n",
    "I Newtons metode bruker vi den deriverte til å finne en tilnærming til hvor nullpunktet til funksjonen er. Funksjonen vi skal finne nullpunktene til er: Iddeen er at man kan følge funksjonens tangent til den passerer $0$. \n",
    "Dersom man bruker reglende for derivasjon kan man finne at funksjonen\n",
    "\n",
    "$$\n",
    "F(\\theta) =   x_b\\tan{\\theta}-\\frac{1}{2}g\\left(\\frac{x_b}{v_0\\cos{\\theta}}\\right)^2 - y_b\n",
    "$$\n",
    "\n",
    "har en derivert gitt ved:\n",
    "\n",
    "$$\n",
    "F'(\\theta) =\\frac{x_b}{\\cos^2{\\theta}} - \\frac{g\\sin(\\theta)}{\\cos^{3}(\\theta)} \\left( \\frac{x_b}{v_0} \\right)^2\n",
    "$$\n",
    "\n",
    "\n",
    "\n",
    "\n",
    "For å beregne tangenten til funksjonen trenger vi denne deriverte.\n",
    "\n",
    "\n",
    "Nedenfor ser vi hvordan dette fungerer for en iterasjon."
   ]
  },
  {
   "cell_type": "markdown",
   "id": "01712e8b",
   "metadata": {},
   "source": [
    "### Oppgave b)\n",
    "\n",
    "Vi har nå undersøkt kurven til figuren, og vet sånn ca. hvor løsningene må være. Bruk Newtons metode for å regne ut mer presise løsninger for ligningen $F(\\theta) = 0$. Du må her bruke to ulike startverdier, som vil konvergere mot hvert sitt nullpunkt.\n",
    "\n",
    "*Tips: Bruk kurven fra deloppgave a til å kontrollere løsningen*"
   ]
  },
  {
   "cell_type": "code",
   "execution_count": null,
   "id": "5509d4be-4cfe-4c07-8fda-4d152a804b49",
   "metadata": {
    "deletable": false,
    "nbgrader": {
     "cell_type": "code",
     "checksum": "9048f626cc97e326fd2a18431d2f6573",
     "grade": false,
     "grade_id": "cell-a6e59396374d9016",
     "locked": false,
     "schema_version": 3,
     "solution": true,
     "task": false
    },
    "tags": []
   },
   "outputs": [],
   "source": [
    "import numpy as np\n",
    "import matplotlib.pyplot as plt\n",
    "%matplotlib ipympl\n",
    "\n",
    "# Parametre\n",
    "y_bakke = -7  # Høydeforskjell mellom kanonstilling og blink\n",
    "g = 9.81      # Tyngdekraftskonstant\n",
    "x_lengde = 28 # Horisontal distanse til blink \n",
    "v0 = 15       # Starthastighet\n",
    "\n",
    "# Funksjonen f(theta) fra oppgave a)\n",
    "def f(theta):\n",
    "    #-------------------------------------\n",
    "    # SKRIV DIN KODE HER:\n",
    "    #-------------------------------------\n",
    "    \n",
    "# Den deriverte til funksjonen f(theta)\n",
    "def df(theta):\n",
    "    #-------------------------------------\n",
    "    # SKRIV DIN KODE HER:\n",
    "    #-------------------------------------\n",
    "\n",
    "# Bruk funksjoene f(theta) og df(theta) til å utføre newtons metode for to startpunkt\n",
    "#-------------------------------------\n",
    "# SKRIV DIN KODE HER:\n",
    "#-------------------------------------\n"
   ]
  },
  {
   "cell_type": "markdown",
   "id": "dbba9959",
   "metadata": {},
   "source": [
    "Løsningene skal oppgis i grader med to desimalers nøyaktighet i CapQuiz."
   ]
  },
  {
   "cell_type": "code",
   "execution_count": null,
   "id": "f3f50e17-ea3d-47dc-b3c3-4825bc4117e9",
   "metadata": {},
   "outputs": [],
   "source": []
  }
 ],
 "metadata": {
  "kernelspec": {
   "display_name": "Python 3",
   "language": "python",
   "name": "python3"
  },
  "language_info": {
   "codemirror_mode": {
    "name": "ipython",
    "version": 3
   },
   "file_extension": ".py",
   "mimetype": "text/x-python",
   "name": "python",
   "nbconvert_exporter": "python",
   "pygments_lexer": "ipython3",
   "version": "3.8.8"
  }
 },
 "nbformat": 4,
 "nbformat_minor": 5
}
