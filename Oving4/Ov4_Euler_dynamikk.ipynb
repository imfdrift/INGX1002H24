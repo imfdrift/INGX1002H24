{
 "cells": [
  {
   "cell_type": "markdown",
   "id": "e41eda02",
   "metadata": {
    "tags": []
   },
   "source": [
    "# Dynamikk i konstruksjoner"
   ]
  },
  {
   "cell_type": "markdown",
   "id": "fb7948ad-f51a-4a6e-a9e9-569800b9d141",
   "metadata": {
    "tags": []
   },
   "source": [
    "\n",
    "\n",
    "* _**Til info:** Teksten nedenfor gir en konseptuell innføring i mekaniske svingesystem, som kan modelleres med andreordens lineære differensialligninger slik som dere har gjennomgått i Matematikk for Ingeniørfag 1. Formålet å knytte matematikken vi skal jobbe med til et håndfast problem man kan komme borti f.eks. i byggteknikk, mekanikk eller reguleringsteknikk. Det er allikevel mulig å hoppe rett til oppgaven lengre nede uten at det krever dybdeforståelse av stoffet som blir presentert her._\n",
    "\n",
    "## En noe forenklet intro til mekaniske svingesystem"
   ]
  },
  {
   "cell_type": "markdown",
   "id": "955987b9-6699-4554-be87-4dc4518b176d",
   "metadata": {
    "tags": []
   },
   "source": [
    "\n",
    "\n",
    "De fleste av oss har antageligvis forsøkt å bøye en linjal over en skrivebordsflate, for så å slippe den fritthengende enden. Det vi opplever da er at vi setter i gang svingninger i linjalen, som igjen lager en karakteristisk lyd når svingningene fører til at linjalen klapper mot skrivebordsflaten. Linjalen og skrivebordsflaten er her et eksempel på et ***mekanisk svingesystem***, og når vi slipper linjalen kan vi observere svingesystemets ***egensvingninger***. Egensvingningene til et mekanisk svingesystem er altså det vi observerer når vi, etter å ha påført systemet et \"dytt\", lar systemet stå uforstyrret og svinge for seg selv. \n",
    "\n",
    "<img src=\"Figurer/ruler_animation.gif\" align=\"center\" style=\"width: 53%; margin:1%\" alt=\"\">\n",
    "\n",
    "<!-- Egensvingninger er noe de fleste konstruksjoner vil ha, og er ikke nødvendigvis grunn til bekymring. Problemene begynner først å oppstå når krefter som en konstruksjon utsettes for består av svingninger som \"matcher\" egensvingninene til konstruksjonen. Når dette skjer får vi såkalt ***resonans***, og svingesystemet ender opp med å forsterke de svingningene som påføres systemet. -->\n",
    "\n",
    "Det kanskje mest interessante med egensvingningene til et mekanisk svingesystem, er hva som skjer når krefter som systemet utsettes for består av svingninger som \"matcher\" egensvingninene til systemet. Dersom vi går tilbake til eksempelet med linjal og skrivebordsflate og begynner å riste på skrivebordsflaten slik at den beveger seg opp og ned i takt\n",
    "med egensvingningene til linjalen, vil vi se at den ytterste enden på linjalen har ***mye*** større svingninger enn selve bordflaten. Dette er illustrert i animasjonen under, hvor svingningene ut av svingesystemet har betydelig større utslag enn svingnignene som går inn i systemet.\n",
    "\n",
    "<img src=\"Figurer/ruler_animation_2.gif\" align=\"center\" style=\"width: 80%; margin:1%\" alt=\"\">\n",
    "\n",
    "Fagbegrepet for dette fenomenet er ***resonans*** og er noe som man ønsker å unngå i mange forskjellige ingeniørfaglige sammenhenger:\n",
    "* Dersom egensvingningene til et skipsskrog resonnerer med turtallet til propellene, vil man oppleve usedvanlig sterke vibrasjoner ombord i båten som kan gjøre skade på utstyr over tid.\n",
    "* Dersom egensvingningene til en skyskraper resonnerer med svingningene i et jordskjelv, vil toppen av skyskraperen oppleve svært kraftige svingninger og resultatet vil trolig være betydelige skader på skyskraperen.\n",
    "\n",
    "Det kanskje mest velkjente eksempelet på hvor galt det kan gå når egensvingningene til en konstruksjon ikke tas tilstrekkely høyde for er [kollapsen av Tacoma Narrows Bridge i 1940](https://www.youtube.com/watch?v=KRutAt0FlGA). Det som skjedde var at egensvingningene til broen resonnerte med svingningene som vinden påførte konstruksjonen, og dermed ble de forsterkede svingningene raskt mye sterkere enn det broen tålte. For å unngå slike problemer er det viktig å kunne forutse hva egensvingningene til en konstruksjon vil være, og dette oppnås med å lage en *matematisk modell* av konstruksjonen ved hjelp av *differensialligninger*.\n",
    "\n",
    "\n",
    "<img src=\"Figurer/Windmill.png\" align=\"right\" style=\"width: 40%; margin:1%\">\n",
    "\n",
    "## Problemstilling: *resonans i vindmølletårn*\n",
    "\n",
    "Et interessant eksempel å arbeide med kan være en vindmølle. En forenklet modell av vindmøllen som mekanisk svingesystem vil bestå av en masse $m$ på toppen av en stang med samlet materialstivhet $k$ slik figuren illustrerer. Den horisontale bevegelsen over tid ($y(t)$) til massen $m$ i toppen av stanga kan vi beregne ved å løse følgende andreordens ordinære differensialligning (ODE)\n",
    "\n",
    "$$m\\cdot \\frac{d^2 y(t)}{dt^2} + c\\cdot \\frac{dy(t)}{dt} + k \\cdot y(t) = x(t)$$\n",
    "\n",
    "hvor koeffisienten $c$ er dempingen i vindmølletårnet, og vil avgjøres ut ifra luftmotstand, friksjon i konstruksjonen m.m. Funksjonen $x(t)$ representerer eksterne påvirkninger på svingesystemet, noe som i vårt tilfelle vil være dominert av vind og den resulterende bevegelsen av vindmøllebladene.\n",
    "\n",
    "\"Katastrofescenarioet\" for en vindmølle er at egensvingningene synkroniseres med vindmøllebladenes passeringer av tårnet. Dersom vindmøllen har $\\rho$ rotasjoner per sekund og tre vindmølleblader, er det med andre ord viktig å passe på at rotasjonshastigheten $\\rho$ under drift holdes unna $\\frac{F_0}{3}$, der $F_0$ er svingehastigheten til vindmølletårnets egensvingninger.\n"
   ]
  },
  {
   "cell_type": "markdown",
   "id": "b0a48319-c3aa-4c9b-ad7e-9cd3b53ebc44",
   "metadata": {},
   "source": [
    "## Oppgave:\n",
    "\n",
    "For å oppsummere, har vi vi laget en forenklet modell av svingningene i et vindmølletårn ved hjelp av en andreordens inhomogen differensialligning med konstante koeffisienter. \n",
    "\n",
    "$$m\\cdot \\frac{d^2 y(t)}{dt^2} + c\\cdot \\frac{dy(t)}{dt} + k \\cdot y(t) = x(t)$$\n",
    "<!--$$\\text{alternativt:}$$\n",
    "$$m\\cdot y'' + c \\cdot y' + k \\cdot y = x$$-->\n",
    "\n",
    "der $y(t)$ er horisontal posisjon for massesentert til vindturbinen målt i meter, og $x(t)$ er de eksterne kreftene som påvirker systemet målt i Newton. $m$, $c$ og $k$ er konstante koeffisienter.\n",
    "\n",
    "## a)\n",
    "\n",
    "Vi ønsker å framprovosere egensvingningene ved å simulere at en kjempe/troll/valgfri mytologisk skapning tar tak i vindmølleturbinen, drar den $10$ meter til siden, i høyre retning i figuren, og holder den på plass i *lang* tid. Deretter slippes turbinen akkurat i tidspunktet $t=0$ og slik at den får svinge fritt uten eksterne påvirkninger (vi antar at det er helt vindstille). \n",
    "\n",
    "Matematisk kan vi skrive dette som:\n",
    "$$x(t) = \\begin{cases} k\\cdot 10  \\text{ N}, \\ \\ t < 0 \\\\ 0 \\text{ N},\\ \\ \\ \\ \\ \\ \\ \\ \\  t  \\geq 0 \\end{cases} $$\n",
    "\n",
    "Hva blir initialbetingelsene $y(0)$ og $y'(0)$ til differensialligningen i dette tilfellet? Fyll inn svaret i Capquiz.\n",
    "\n",
    "---"
   ]
  },
  {
   "cell_type": "markdown",
   "id": "56f7781f-e125-4557-ba78-4be0d2ae5c03",
   "metadata": {},
   "source": [
    "Når initialverdiene $y(0)$ og $y'(0)$ er bestemt, kan vi regne oss frem til posisjonen over tid ($y(t)$) ved å løse systemets differensialligning for tidsverdier $t \\geq 0$. Ettersom $x(t)=0 \\text{ for alle } t\\geq 0$ kan vi i dette tilfellet forenkle differensialligningen til en *homogen* differensialligning:\n",
    "\n",
    "$$m\\cdot \\frac{d^2 y(t)}{dt^2} + c\\cdot \\frac{dy(t)}{dt} + k \\cdot y(t) = 0$$\n",
    "\n",
    "Når vi skal bruke Eulers metode for å løse et andreordens system numerisk må vi først omskrive differensialligningen til et ligningssystem av førsteordens differensialligninger. Da vil vi kunne regne ut en tilnærming både til neste posisjon $y_{n+1}$ og neste hastighetsverdi $y'_{n+1}$ parallellt. Hvis vi definerer vektoren $\\vec{y}= \\begin{bmatrix}y \\\\ y' \\end{bmatrix}$ og vektorens deriverte $\\vec{y'} = \\begin{bmatrix}y' \\\\ y'' \\end{bmatrix}$, vil det finnes en $2 \\times 2$-matrise $A$ slik at den homogene differensialligningen kan skrives om til et ligningssystem som følger:\n",
    "\n",
    "<!--$$\n",
    "\\begin{bmatrix}y'\\\\ y'' \\end{bmatrix} = A \\cdot \\begin{bmatrix}y \\\\ y'\\end{bmatrix}  + \\begin{bmatrix} 0 \\\\ x(t) \\end{bmatrix}\n",
    "$$\n",
    "\n",
    "Ettersom $x(t) = 0$ for alle $t \\geq 0$, kan vi forenkle ligningssystemet til den homogene ligningen\n",
    "-->\n",
    "$$\n",
    "\\begin{bmatrix}y'\\\\ y'' \\end{bmatrix} = A \\cdot \\begin{bmatrix}y \\\\ y'\\end{bmatrix} \n",
    "$$\n",
    "\n",
    "## b)\n",
    "\n",
    "Ta utgangspunkt i den homogene differensialligningen\n",
    "\n",
    "$$ m\\cdot y'' + c \\cdot y' + k \\cdot y = 0, $$\n",
    "\n",
    "og finn ut hva matrisen $A$ i ligningssystemet må være. Legg inn svaret i CapQuiz."
   ]
  },
  {
   "cell_type": "markdown",
   "id": "b1ec98f7-ebef-4ddf-8c83-4dad6707deed",
   "metadata": {},
   "source": [
    "I de resterende deloppgavene skal vi arbeide med følgende tallverdier for parametrene $m$, $c$ og $k$:\n",
    "* $m = 200\\ 000$ kg\n",
    "* $c = 40\\ 000$ N$\\cdot$s/m\n",
    "* $k = 300\\ 000$ N/m\n",
    "\n",
    "## c)\n",
    "Gitt en skrittlengde $h = 1$ sekund og initialverdiene du fant i deloppgave **b)**, fullfør koden nedenfor slik at den utfører én iterasjon av eulers metode, og gir en tilnærmet verdi for $y(1)$ og $y'(1)$. Legg inn tallsvaret ditt i CapQuiz."
   ]
  },
  {
   "cell_type": "code",
   "execution_count": null,
   "id": "aa3c74ed-9498-4343-8068-69c3e1949f98",
   "metadata": {
    "deletable": false,
    "nbgrader": {
     "cell_type": "code",
     "checksum": "1aaa01e8a1e437d44313f8be4347d205",
     "grade": false,
     "grade_id": "cell-0ae1adb3343aa0bf",
     "locked": false,
     "schema_version": 3,
     "solution": true,
     "task": false
    },
    "tags": []
   },
   "outputs": [],
   "source": [
    "import numpy as np\n",
    "# Parametre\n",
    "m = 200000 # Enhet: kg\n",
    "c = 40000  # Enhet: N*s/m\n",
    "k = 300000 # Enhet: N/m\n",
    "h = 1 # Sekund\n",
    "\n",
    "#-------------------------------------\n",
    "# SKRIV DIN KODE HER:\n",
    "#-------------------------------------"
   ]
  },
  {
   "cell_type": "markdown",
   "id": "cd911dd9-33e0-4592-8f09-7d89058518ad",
   "metadata": {},
   "source": [
    "Eksempel på utskrift av korrekte verdier:\\\n",
    "`y(1) = 10 og dy(1)/dt = -15.0`"
   ]
  },
  {
   "cell_type": "markdown",
   "id": "fbc2d183-ae3e-496a-8858-30b487df211d",
   "metadata": {},
   "source": [
    "## d)\n",
    "Gitt en skrittlengde på $h=0.05$ sekund, fullfør koden nedenfor slik at den lager et plot av egensvingningene (altså $y(t)$) til vindmølletårnet for tidsperioden $0 \\leq t \\leq 60$ sekund. Bruk initialverdiene du fant i deloppgave **b)**."
   ]
  },
  {
   "cell_type": "code",
   "execution_count": null,
   "id": "d8d34e2b-f785-4a77-b533-59b270771a48",
   "metadata": {
    "deletable": false,
    "nbgrader": {
     "cell_type": "code",
     "checksum": "9acf9da29a3e3104b64099eb73509ee8",
     "grade": false,
     "grade_id": "cell-b11085d3c247c572",
     "locked": false,
     "schema_version": 3,
     "solution": true,
     "task": false
    },
    "tags": []
   },
   "outputs": [],
   "source": [
    "import numpy as np\n",
    "# Parametre\n",
    "m = 200000 # Enhet: kg\n",
    "c = 40000  # Enhet: N*s/m\n",
    "k = 300000 # Enhet: N/m\n",
    "h = 0.05 # Sekund\n",
    "duration = 60 # Sekund\n",
    "\n",
    "#-------------------------------------------------\n",
    "# SKRIV DIN KODE HER: lagre egensvingningene som y\n",
    "#-------------------------------------------------\n",
    "    "
   ]
  },
  {
   "cell_type": "markdown",
   "id": "44f736ce-28a4-45cb-b39a-60a303c0e484",
   "metadata": {},
   "source": [
    "## e)"
   ]
  },
  {
   "cell_type": "code",
   "execution_count": null,
   "id": "4a496db6-c84a-41b1-9748-54340f8e3596",
   "metadata": {
    "tags": []
   },
   "outputs": [],
   "source": [
    "# Lag et interaktivt plot av egensvingningene over tid:\n",
    "import matplotlib.pyplot as plt\n",
    "%matplotlib ipympl # interaktivitet\n",
    "plt.figure() # Åpne ny figur\n",
    "plt.plot(t, y) # Kurve av posisjonen y uttrykt som funksjon av tidspunktene t\n",
    "plt.xlabel(\"Tid $t$ (sekund)\")\n",
    "plt.ylabel(\"$y(t)$\")\n",
    "plt.grid(True)"
   ]
  },
  {
   "cell_type": "markdown",
   "id": "05698919",
   "metadata": {},
   "source": [
    "NB! Ved riktig utførelse bør kurven til $y(t)$ se noe *slik* ut: [graf av egenrespons](Figurer/oppg2d_fasit.png).\n"
   ]
  },
  {
   "cell_type": "markdown",
   "id": "2fa58106-28d9-472a-9632-9ab978b83b65",
   "metadata": {},
   "source": [
    "Bruk figuren du lagde i til å måle svingetiden $T_0$ (antallet sekund fra én bølgetopp til neste bølgetopp). Regn så ut egenfrekvensen $F_0 = \\frac{1}{T_0}$.\\\n",
    "_Tips: det er mulig å zoome inn og ut på deler av figuren, og lese av relativt nøyaktige koordinater ved å holde musepekeren over et punkt. Med skrittlengden $h$ ovenfor skal det være mulig å lese av $T_0$ med to korrekte desimaler._\n",
    "\n",
    "Gitt den utregnede egenfrekvensen $F_0$, bestem hvilken rotasjonshastighet $\\rho$ vindmøllen bør styre godt unna under drift. Husk at vindmøllebladene passerer masten 3 ganger for hver rotasjon.\n",
    "\n",
    "Oppgi svaret i CapQuiz med to gjeldende siffer."
   ]
  },
  {
   "cell_type": "code",
   "execution_count": null,
   "id": "b2fa1d07-6a38-4e81-a50a-31b2c3ce9e74",
   "metadata": {},
   "outputs": [],
   "source": []
  }
 ],
 "metadata": {
  "kernelspec": {
   "display_name": "Python 3",
   "language": "python",
   "name": "python3"
  },
  "language_info": {
   "codemirror_mode": {
    "name": "ipython",
    "version": 3
   },
   "file_extension": ".py",
   "mimetype": "text/x-python",
   "name": "python",
   "nbconvert_exporter": "python",
   "pygments_lexer": "ipython3",
   "version": "3.8.8"
  }
 },
 "nbformat": 4,
 "nbformat_minor": 5
}
