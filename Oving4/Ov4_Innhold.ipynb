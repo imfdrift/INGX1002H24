{
 "cells": [
  {
   "cell_type": "markdown",
   "id": "21cac548-a139-4475-8eb4-ceec47c225df",
   "metadata": {},
   "source": [
    "# Numerikk - øving 4\n",
    "\n",
    "I denne øvingen skal dere bruke teknikkene fra numerisk matematikk som dere har lært til å løse problemer knyttet til anvendelser.\n",
    "\n",
    "__Notatene nedenfor inneholder oppgaveteksten til oppgave 3–8, men svarene dine skrives inn i CapQuiz.__\n",
    "\n",
    "* [Oppgave 3 og 4: Dynamikk i konstruksjoner](Ov4_Euler_dynamikk.ipynb)\n",
    "* [Oppgave 5 og 6: Skrått kast](Ov4_Skratt_kast.ipynb)\n",
    "* [Oppgave 7 og 8: Ideell pendel](Ov4_Ideell_pendel.ipynb)"
   ]
  },
  {
   "cell_type": "markdown",
   "id": "590833e6-47df-462d-8d4d-04087af275c8",
   "metadata": {},
   "source": []
  }
 ],
 "metadata": {
  "kernelspec": {
   "display_name": "Python 3",
   "language": "python",
   "name": "python3"
  },
  "language_info": {
   "codemirror_mode": {
    "name": "ipython",
    "version": 3
   },
   "file_extension": ".py",
   "mimetype": "text/x-python",
   "name": "python",
   "nbconvert_exporter": "python",
   "pygments_lexer": "ipython3",
   "version": "3.8.8"
  }
 },
 "nbformat": 4,
 "nbformat_minor": 5
}
