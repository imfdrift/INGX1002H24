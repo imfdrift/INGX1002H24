{
 "cells": [
  {
   "cell_type": "markdown",
   "id": "fbd372f5-c776-4b62-b6db-5eb566d43783",
   "metadata": {},
   "source": [
    "# Numerisk derivasjon"
   ]
  },
  {
   "cell_type": "markdown",
   "id": "ff1ca4f0-88cb-40e4-ad40-744986f2248b",
   "metadata": {},
   "source": [
    "For en skalar funksjon $f = f(x)$ husker vi at definisjonen av den deriverte $f'$ i punktet $x$ er\n",
    "$$ f'(x) \\doteq \\lim_\\limits{h\\to0}\\frac{f(x+h)-f(x)}{h}.$$\n",
    "\n",
    "\n",
    "\n",
    "### Differansemetoder\n",
    "For $h > 0$ kan vi definere\n",
    "$$\\frac{f(x+h)-f(x)}{h} \\quad \\text{(Foroverdifferanse)}, \\qquad \\frac{f(x)-f(x-h)}{h} \\quad \\text{(Bakoverdifferanse)}$$\n",
    "Sentraldifferanse\n",
    "$$ \\frac{f(x+h)-f(x-h)}{2h} $$"
   ]
  },
  {
   "cell_type": "code",
   "execution_count": null,
   "id": "df096817-22bd-40ad-9fba-5731facca079",
   "metadata": {},
   "outputs": [],
   "source": []
  },
  {
   "cell_type": "code",
   "execution_count": null,
   "id": "7a55133d-0b85-4f6e-b9cb-fb239cb6d566",
   "metadata": {},
   "outputs": [],
   "source": []
  }
 ],
 "metadata": {
  "kernelspec": {
   "display_name": "Python 3",
   "language": "python",
   "name": "python3"
  },
  "language_info": {
   "codemirror_mode": {
    "name": "ipython",
    "version": 3
   },
   "file_extension": ".py",
   "mimetype": "text/x-python",
   "name": "python",
   "nbconvert_exporter": "python",
   "pygments_lexer": "ipython3",
   "version": "3.8.8"
  }
 },
 "nbformat": 4,
 "nbformat_minor": 5
}
