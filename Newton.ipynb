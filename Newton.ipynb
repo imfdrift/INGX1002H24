{
 "cells": [
  {
   "cell_type": "code",
   "execution_count": null,
   "id": "7bb34662-19bb-4801-8590-ffb28d7e3801",
   "metadata": {},
   "outputs": [],
   "source": [
    "## Newtons metode\n",
    "\n",
    "En ulempe med fikspunktiterasjon er at det vil ofte ta lang tid ...\n",
    "Dersom vi har mer informasjon om funksjonen $f$, mer spesifikt, dersom vi kjenner dens deriverte $f'$.\n",
    "For en kontinuerlig deriverbar funksjon $f$ sier sekantsetningen oss at\n",
    "$$ f(y) - f(x) = f'(s)(y-x) $$\n",
    "for en $s$ mellom $x$ og $y$. Dersom $x$ og $y$ ikke er for langt fra hverandre vil $f'(x)$ være en god tilnærming av $f'(s)$, og vi har følgende omtrentlige sammenheng\n",
    "$$ f(y) \\approx f(x) + f'(x)(y-x). $$\n",
    "Høyresiden ovenfor er nettopp ligningen for tangenten til funksjonen $f$ i punktet $x$, som vil være en god tilnærming av $f(y)$ nær $y=x$.\n",
    "\n",
    "Dersom tangenten til $f$ i punktet $x$ ikke er horisontal, det vil si dersom $f'(x)\\neq0$, kan vi finne punktet hvor tangenten skjærer $x$-aksen, nemlig \n",
    "tillegg velger $y$ til å være en rot for $f$ får vi den omtrentlige sammenhengen\n",
    "$$ f(r)-f(x) = -f(x) \\approx f'(x)(r-x) \\implies r \\approx x - \\frac{f(x)}{f'(x)} \\quad \\text{dersom} \\ f'(x) \\neq 0.$$\n",
    "\n"
   ]
  }
 ],
 "metadata": {
  "kernelspec": {
   "display_name": "Python 3",
   "language": "python",
   "name": "python3"
  },
  "language_info": {
   "codemirror_mode": {
    "name": "ipython",
    "version": 3
   },
   "file_extension": ".py",
   "mimetype": "text/x-python",
   "name": "python",
   "nbconvert_exporter": "python",
   "pygments_lexer": "ipython3",
   "version": "3.8.8"
  }
 },
 "nbformat": 4,
 "nbformat_minor": 5
}
