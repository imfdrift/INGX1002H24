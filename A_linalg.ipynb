{
 "cells": [
  {
   "cell_type": "markdown",
   "id": "67ce6eff-f5a4-49c2-9a91-b4a79c3343cb",
   "metadata": {},
   "source": [
    "# Appendiks 3: Lineær algebra\n",
    "\n",
    "Når vi løser problemer numerisk hender det ofte at vi må løse et lineært system av ligninger. Om dette ikke er om ikke hovedproblemet, så dukker det ofte opp som et delproblem.\n",
    "\n",
    "## Lineære systemer\n",
    "\n",
    "**Eksempel:**\n",
    "For eksempel, se på systemet\n",
    "$$ \\begin{aligned} x + 2y + 3z &= 1, \\\\ 4x + 5y + 6z &= 1, \\\\ 7x + 8y + 10z &= 1. \\end{aligned} \\tag{A3.1} $$\n",
    "\n",
    "For å løse dette systemet kan vi prøve å kombinere ligningene på en slik måte at det blir klart hvilke verdier $x$, $y$ og $z$ må ha.\n",
    "La oss kalle første, andre og tredje ligning i (A3.1) for ${\\rm (I)}$, ${\\rm (II)}$ og ${\\rm (III)}$.\n",
    "\n",
    "Idéen er da at om ligning ${\\rm(I)}$ er sann, så må den fremdeles være sann om vi ganger hver side av ligningen med det samme tallet, la oss si 4, som da kan skrives som $4\\cdot{\\rm(I)}$. Likeens må ligningen ${\\rm(I)}+{\\rm(II)}$ vi får av å addere ligningene ${\\rm (I)}$ og ${\\rm(II)}$, det vil si summen av venstresidene må være lik summen av høyresidene, også være sann.\n",
    "\n",
    "Merk nå at ligningen $4\\cdot{\\rm(I)}$ har $4x$ på venstre side, den samme mengden som i ${\\rm(II)}$, og dermed vil ligningen ${\\rm (II)}-4\\cdot{\\rm(I)}$ ikke ha den ukjente $x$ i seg.\n",
    "Da kan vi erstatte ligning ${\\rm(II)}$ med denne ligningen, som vi her uttrykker som ${\\rm (II)} \\to {\\rm(II)} -4\\cdot{\\rm (I)}$: dette blir da den nye ligning ${\\rm(II)}$.\n",
    "Tilsvarende kan vi trekke $7\\cdot{\\rm(I)}$ fra tredje ligning for å fjerne $x$ der, slik at vi kun har $x$ i første ligning.\n",
    "\n",
    "I neste omgang kan vi tilsvarende bruke ligningene uten $x$, og fjerne den ukjente $y$ fra alle ligninger bortsett fra den første av disse. For systemet (A3.1) går prosedyren som følger:\n",
    "\n",
    "$$ \\begin{aligned} x + 2y + 3z &= 1 \\\\ 4x + 5y + 6z &= 1 \\\\ 7x + 8y + 10z &= 1 \\end{aligned} \\qquad \\stackrel{{\\rm (II)} \\to {\\rm(II)} -4\\cdot{\\rm (I)} \\\\ {\\rm (III)} \\to {\\rm (III) -7\\cdot{\\rm (I)}} }{\\longrightarrow} \\qquad \\begin{aligned} x + 2y + 3z &= 1 \\\\ -3y - 6z &= -3 \\\\ -6y - 11z &= -6 \\end{aligned} \\qquad \\stackrel{{\\rm (III)} \\to {\\rm (III)} -2\\cdot{\\rm (II)} }{\\longrightarrow} \\qquad \\begin{aligned} x + 2y + 3z &= 1 \\\\ -3y - 6z &= -3 \\\\ z &= 0 \\end{aligned} $$\n",
    "\n",
    "Herfra kan vi gå nedenfra og opp, sette inn for de kjente verdiene i ligningene, på engelsk kalt “back substitution”, hvor vi ved å sette $z=0$ i andre ligning finner at $y=1$.\n",
    "Til slutt kan vi sette inn for $y=1$ og $z=0$ i første ligning og finne at $x=-1$.\n",
    "\n",
    "Det finnes tilfeller hvor slike lineære systemer ikke har noen løsninger, eller uendelig mange løsninger!\n",
    "Dersom vi i stedet hadde erstattet 10 med 9 i den siste ligningen i (A3.1) ville vi til slutt fått $0z = 0$. Da kunne vi valgt $z$-verdien fritt så lenge $x$ og $y$ oppfyller de andre ligningene, altså uendelig mange løsninger.\n",
    "\n",
    "For enkelhets skyld kommer vi kun til å se på systemer med én entydig (unik) løsning.\n"
   ]
  },
  {
   "cell_type": "markdown",
   "id": "bc6f6641-24a1-41ae-a269-abd9493a55c5",
   "metadata": {},
   "source": [
    "### Matriseform og gausseliminasjon\n",
    "Mer generelt, for $n$ ligninger og $n$ ukjente kan vi følge samme prosedyre, men dette blir fort tungvint om vi skal jobbe med ligningene.\n",
    "Da er det typisk lettere å sette opp ligningssystemet med matriser og vektorer.\n",
    "Vi definere en $n\\times n$-matrise $A$ og kolonnevektoren $\\boldsymbol{x}$ (en $n\\times 1$-matrise) som følger,\n",
    "$$ A = \\begin{bmatrix} a_{11} & a_{12} & \\dots & a_{1n} \\\\ a_{21} & a_{22} &  & a_{2n} \\\\ \\vdots & & \\ddots & \\vdots \\\\ a_{n1} & a_{n2} & \\dots & a_{nn} \\end{bmatrix}, \\qquad \\boldsymbol{x} = \\begin{bmatrix} x_1 \\\\ x_2 \\\\ \\vdots \\\\ x_n \\end{bmatrix}. $$\n",
    "Her er $a_{ij}$ elementet i rad nummer $i$ og kolonne nummer $j$ av matrisen $A$, imens $x_i$ er element nummer $i$ i vektoren $\\boldsymbol{x}$.\n",
    "\n",
    "Produktet $A\\boldsymbol{x}$ av en $n\\times n$-matrise $A$ og kolonnevektoren $\\boldsymbol{x}$  gir en ny kolonnevektor $\\boldsymbol{y} = A\\boldsymbol{x}$, gitt av\n",
    "\n",
    "$$ \\boldsymbol{y} = \\begin{bmatrix} y_1 \\\\ y_2 \\\\ \\vdots \\\\ y_n \\end{bmatrix}, \\qquad y_{i} = a_{i1}x_1 + a_{i2} x_2 + \\dots + a_{in} x_n = \\sum_{j=1}^n a_{ij} x_j \\quad \\text{for} \\ 1 \\le i \\le n. $$\n",
    "\n",
    "Her ser vi at matriseproduktet utrykker et lineært system, og dermed har vi følgende ekvivalens,\n",
    "\n",
    "$$ \\begin{aligned} a_{11} x_1 + a_{12} x_2 + \\dots + a_{1n} x_n &= b_1 \\\\ a_{21}x_1 + a_{22}x_2 + \\dots + a_{2n}x_n &= b_2 \\\\ &\\vdots \\\\ a_{n1} x_1 + a_{n2} x_2 + \\dots + a_{nn} x_n &= b_n \\end{aligned} \\qquad \\iff \\qquad A\\boldsymbol{x} = \\boldsymbol{b}, \\quad \\boldsymbol{b} = \\begin{bmatrix} b_1 \\\\ b_2 \\\\ \\vdots \\\\ b_n \\end{bmatrix}. $$"
   ]
  },
  {
   "cell_type": "markdown",
   "id": "1a07788c-b1f1-4e2d-951a-e6d53c2cd587",
   "metadata": {},
   "source": [
    "Når vi løser slike lineære systemer slik vi gjorde det i eksempelet ovenfor kalles dette *gausseliminasjon*, og vi tar utgangspunkt i den utvidede matrisen $[A|b]$ gitt av\n",
    "\n",
    "$$ [A|b] = \\begin{bmatrix} a_{11} & a_{12} & \\dots & a_{1n} & \\vert & b_1 \\\\ a_{21} & a_{22} &  & a_{2n} & \\vert & b_2 \\\\ \\vdots & & \\ddots & \\vdots & \\vert & \\vdots \\\\ a_{n1} & a_{n2} & \\dots & a_{nn} & \\vert & b_n \\end{bmatrix}. $$\n",
    "\n",
    "Dersom $a_{21} \\neq 0$ så er variablen $x_1$ tilstede i andre ligning. Dersom $a_{11} \\neq 0$ så kan vi trekke $a_{21}/a_{11}$ ganger første ligning fra andre ligning og få en ny ligning hvor elementet tilsvarende $a_{21}$ er null. Slik fortsetter vi til alle elementene i første kolonne utenom det første er null.\n",
    "Deretter går vi til andre kolonne og vil gjøre det samme for alle elementer under andre rad, også videre. Til slutt står vi forhåpentlig igjen med en utvidet matrise på formen\n",
    "\n",
    "$$ \\left[\\tilde{A}\\vert\\tilde{b}\\right] = \\begin{bmatrix} a_{11} & a_{12} & \\dots & \\dots & a_{1n} & \\vert & b_1 \\\\ 0 & \\tilde{a}_{22} &  & & \\tilde{a}_{2n} & \\vert & \\tilde{b}_2 \\\\ \\vdots & 0 & \\ddots &  & \\vdots & \\vert & \\vdots \\\\ \\vdots & & \\ddots & \\tilde{a}_{n-1n-1} & \\tilde{a}_{n-1n} & \\vert & \\tilde{b}_{n-1} \\\\ 0 & \\dots & \\dots & 0 & \\tilde{a}_{nn} & \\vert & \\tilde{b}_n \\end{bmatrix}.$$\n",
    "\n",
    "Noen ganger kan det være nødvendig å bytte om på rader i den utvidede matrisen i løpet av gausseliminasjonen for at den skal gå opp."
   ]
  },
  {
   "cell_type": "markdown",
   "id": "09957b2a-1dd0-4609-859d-71f583f7b264",
   "metadata": {},
   "source": [
    "Dersom den radreduserte matrisen $\\tilde{A}$ er en øvre triangulær matrise (en matrise hvor alle elementer under diagonalen er null) hvor hvert diagonalelement er ulik null så har systemet en entydig løsning.\n",
    "I dette tilfellet kan vi enkelt løse den siste ligningen $\\tilde{a}_{nn} x_n = \\tilde{b}_n$ for $x_n$, sette inn for denne i ligningen ovenfor og løse denne for $x_{n-1}$, og så videre til vi har funnet verdien av alle elementene i $\\boldsymbol{x}$.\n",
    "\n",
    "I praksis blir dette som å fortsette med radoperasjoner hvor vi starter fra bunnen og går til toppen for å ende opp med en utvidet matrise på formen $[I|\\boldsymbol{x}]$, hvor $I$ er en $n\\times n$-identitetsmatrise. Det vil si\n",
    "\n",
    "$$ [I|\\boldsymbol{x}] = \\begin{bmatrix} 1 & 0 & \\dots & 0 & \\vert & x_1 \\\\ 0 & 1 & & \\vdots & \\vert & x_2\\\\ \\vdots & & \\ddots & 0 & \\vert & \\vdots\\\\ 0 & \\dots & 0 & 1 & \\vert & x_n \\end{bmatrix}. $$\n",
    "\n",
    "Dette er alltid mulig dersom diagonalelementene i den reduserte triangulærmatrisen $\\tilde{A}$ er ulik null.\n",
    "\n",
    "Matriser $A$ hvor dette er tilfelle er *inverterbare*: da finnes det en éntydig matrise $B$ slik at matriseproduktene $AB$ og $BA$ oppfyller $AB = BA = I$, og vi skriver $A^{-1}$ for denne matrisen $B$, den inverse av $A$. Da er løsningen av $A\\boldsymbol{x} = \\boldsymbol{b}$ gitt av $\\boldsymbol{x} = A^{-1}\\boldsymbol{b}$.\n",
    "Man kan finne $A^{-1}$ med gausseliminasjon: dersom vi starter med den utvidede matrisen $[A|I]$ og utfører gausseliminasjoner inntil vi har fått identitetsmatrisen $I$ på venstre side, så vil matrisen på høyre side være $A^{-1}$. Altså, vi starter med $[A|I]$ og ender opp med $[I|A^{-1}]$."
   ]
  },
  {
   "cell_type": "markdown",
   "id": "fb897c30-1213-4dad-8059-e1a34107cbfd",
   "metadata": {},
   "source": [
    "#### Eksempel:\n",
    "Uttrykt i matriseform blir (A3.1) $A\\boldsymbol{x} = \\boldsymbol{b}$ med\n",
    "\n",
    "$$ A = \\begin{bmatrix} 1 & 2 & 3 \\\\ 4 & 5 & 6 \\\\ 7 & 8 & 10 \\end{bmatrix}, \\qquad \\boldsymbol{b} = \\begin{bmatrix} 1 \\\\ 1 \\\\ 1 \\end{bmatrix}. $$\n",
    "\n",
    "Vi setter opp den utvidede matrisen og gjennomfører radreduksjonen:\n",
    "\n",
    "$$ [A|b] = \\begin{bmatrix} 1 & 2 & 3 & \\vert & 1 \\\\ 4 & 5 & 6 & \\vert & 1 \\\\ 7 & 8 & 10 & \\vert & 1 \\end{bmatrix} \\qquad \\stackrel{{\\rm (II)} \\to {\\rm(II)} -4\\cdot{\\rm (I)} \\\\ {\\rm (III)} \\to {\\rm (III) -7\\cdot{\\rm (I)}} }{\\longrightarrow} \\qquad \\begin{bmatrix} 1 & 2 & 3 & \\vert & 1 \\\\ 0 & -3 & -6 & \\vert & -3 \\\\ 0 & -6 & -11 & \\vert & -6 \\end{bmatrix} \\qquad \\stackrel{{\\rm (III)} \\to {\\rm (III)} -2\\cdot{\\rm (II)} }{\\longrightarrow} \\qquad \\begin{bmatrix} 1 & 2 & 3 & \\vert & 1 \\\\ 0 & -3 & -6 & \\vert & -3 \\\\ 0 & 0 & 1 & \\vert & 0 \\end{bmatrix} $$\n",
    "\n",
    "Som tidligere nevnt, dersom 10 var erstattet med 9 i $A$ ville den siste raden i $\\left[\\tilde{A}\\vert\\tilde{b}\\right]$ kun inneholdt null.\n",
    "Dermed ville det siste diagonalelementet i $\\tilde{A}$ vært null og vi hadde ikke hatt en entydig løsning."
   ]
  },
  {
   "cell_type": "markdown",
   "id": "6ac05bf4-b2b8-435f-a640-3d8d8b1f4863",
   "metadata": {},
   "source": [
    "## Lineær algebra i Python\n",
    "\n",
    "I praktiske anvendelser er matrisesystemene ofte store, det er mange ligninger og mange ukjente.\n",
    "Da er det upraktisk å løse disse for hånd, og vi vil ty til numeriske metoder.\n",
    "\n",
    "Med Python-biblioteket numpy kan vi definere vektorer og matriser gjennom såkalte *arrays*.\n",
    "Vektoren $b$ med tre komponenter hvor alle er ettall kan defineres gjennom `b = numpy.array([1,1,1])`.\n",
    "Dette vil automatisk gjenkjent som et array med heltall. Vi vil typisk jobbe med flyttall når vi løser ligninger numerisk, så for isteden å få en vektor med flyttall kan vi heller skrive `b = numpy.array([1.0,1,1])`, hvor den ene komponenten `1.0` vil sørge for at alle komponentene blir betraktet som flyttall. Alternativt kan vi spesifisere typen med et tilleggsargument, altså `b = numpy.array([1,1,1],dtype=float)`.\n",
    "\n",
    "For å representere en matrise bruker vi et array av arrays, `A = numpy.array([[1,2,3],[4,5,6],[7,8,10]]`\n",
    "\n",
    "Numpy har egne subrutiner for lineær algebra i `numpy.linalg`, for eksempel for å utføre matrisemultiplikasjon. For en $k\\times m$-matrise $A$ og en $m\\times n$-matrise $B$ kan vi beregne matriseproduktet $AB$ (produktet $BA$ er ikke definert med mindre $k=n$) gjennom `numpy.linalg.matmul(A,B)`. En kortere kommando for dette er `A@B` som gjør nøyaktig det samme.\n",
    "\n",
    "Det finnes også rutiner for å løse lineære systemer $A\\boldsymbol{x} = \\boldsymbol{b}$: for matrisen `A` og vektoren `b` kan vi finne løsningen med `numpy.linalg.solve(A,b)`.\n",
    "Avhengig av egenskapene til matrisen $A$ vil metoden som brukes for å løse systemet være gausseliminasjon eller en [iterativ metode](Jacobi.ipynb)."
   ]
  },
  {
   "cell_type": "code",
   "execution_count": 32,
   "id": "88066e7a-7f9a-4654-9ac2-9dd782fc0f1b",
   "metadata": {},
   "outputs": [
    {
     "name": "stdout",
     "output_type": "stream",
     "text": [
      "[-1. -1. -1.]\n",
      "[-1.00000000e+00  1.00000000e+00  3.80647894e-16]\n",
      "[2 1]\n"
     ]
    }
   ],
   "source": [
    "import numpy as np\n",
    "\n",
    "b = np.array([1,1,1],dtype=float) # definerer vektoren b med flyttallselementer\n",
    "d = np.array([1.0,-1,0]) # definerer en vektor d med flyttallselementer\n",
    "\n",
    "A = np.array([[1,2,3],[4,5,6],[7,8,10]]) # definerer matrisen A\n",
    "print(A@d) # skriv ut matrisemultiplikasjonen A*d\n",
    "\n",
    "x = np.linalg.solve(A,b)\n",
    "print(x)\n",
    "\n",
    "print(np.array([2.1,1.5],dtype=int)) # hva skjer her?"
   ]
  },
  {
   "cell_type": "markdown",
   "id": "85161c1f-cdc9-4e9a-aaf6-05441e9dcdbd",
   "metadata": {},
   "source": [
    "Her la du kanskje merke til at løsningen $x$ ikke helt ble $\\begin{bmatrix}-1 & 1 & 0\\end{bmatrix}$. Den tredje komponenten er så godt som lik null... avrundingsfeil"
   ]
  },
  {
   "cell_type": "code",
   "execution_count": null,
   "id": "3908f996-4cb8-48c9-b86c-a97ce47c1bc1",
   "metadata": {},
   "outputs": [],
   "source": []
  }
 ],
 "metadata": {
  "kernelspec": {
   "display_name": "Python 3",
   "language": "python",
   "name": "python3"
  },
  "language_info": {
   "codemirror_mode": {
    "name": "ipython",
    "version": 3
   },
   "file_extension": ".py",
   "mimetype": "text/x-python",
   "name": "python",
   "nbconvert_exporter": "python",
   "pygments_lexer": "ipython3",
   "version": "3.8.8"
  }
 },
 "nbformat": 4,
 "nbformat_minor": 5
}
