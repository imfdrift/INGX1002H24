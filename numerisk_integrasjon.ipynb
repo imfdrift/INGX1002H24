{
 "cells": [
  {
   "cell_type": "markdown",
   "id": "2a20654a-9fba-42ac-bc79-a8258974da0a",
   "metadata": {},
   "source": [
    "# Numerisk integrasjon\n",
    "\n",
    "## Bestemt integral / riemannsum\n",
    "\n",
    "## Trapesmetoden\n",
    "\n",
    "\n",
    "## Simpsons metode\n",
    "Integrer polynom"
   ]
  },
  {
   "cell_type": "code",
   "execution_count": null,
   "id": "b0c0b780-be5a-495f-ba77-20b68b339d3f",
   "metadata": {},
   "outputs": [],
   "source": []
  }
 ],
 "metadata": {
  "kernelspec": {
   "display_name": "Python 3",
   "language": "python",
   "name": "python3"
  },
  "language_info": {
   "codemirror_mode": {
    "name": "ipython",
    "version": 3
   },
   "file_extension": ".py",
   "mimetype": "text/x-python",
   "name": "python",
   "nbconvert_exporter": "python",
   "pygments_lexer": "ipython3",
   "version": "3.8.8"
  }
 },
 "nbformat": 4,
 "nbformat_minor": 5
}
