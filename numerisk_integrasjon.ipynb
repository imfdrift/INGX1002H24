{
 "cells": [
  {
   "cell_type": "markdown",
   "id": "2a20654a-9fba-42ac-bc79-a8258974da0a",
   "metadata": {},
   "source": [
    "# Numerisk integrasjon\n",
    "\n",
    "### Det bestemte integralet og riemannsummer\n",
    "Gitt en kontinuerlig funksjon $f$ på intervallet $[a,b]$ vet vi at integralet $\\int_a^bf(x) \\,\\mathrm{d}x$ kan sees på som grenseverdien av *riemannsummer*.\n",
    "\n",
    "En partisjon, eller inndeling, $P$ av intervallet $[a,b]$ er en samling punkter $P \\doteq \\{x_0, x_1, \\dots, x_n\\}$ som oppfyller $a = x_0 < x_1 < \\dots < x_n = b$.\n",
    "Disse deler $[a,b]$ inn i $n$ delintervaller med lengde $h_k \\doteq x_k-x_{k-1}$ for $k \\in \\{1,\\dots,n\\}$, og i hvert av disse kan vi velge oss et punkt $x_k^* \\in [x_{k-1}, x_k]$.\n",
    "Da er \n",
    "$$ \\sum_{k=1}^{n} h_k f(x_{k}^*) $$\n",
    "en *riemannsum* for funksjonen $f$ på intervallet $[a,b]$. Lengden av det lengste delintervallet er et mål på hvor fin partisjonen $P$ er, og vi skriver $\\|P\\| = \\max_{1\\le k \\le n}h_k$.\n",
    "Vi kan redusere denne ved å øke $n$, det vil si dele $[a,b]$ opp i flere delintervaller.\n",
    "Da har vi lært at grenseverdien av riemannsummen er det bestemte integralet,\n",
    "$$ \\lim_\\limits{\\|P\\|\\to0} \\sum_{k=1}^{n} h_k f(x_{k}^*) = \\int_{a}^{b} f(x)\\,\\mathrm{d}x \\doteq I.$$\n",
    "\n",
    "Her kan vi forenkle uttrykkene litt ved å la avstanden mellom hvert punkt $x_k$ i partisjonen være like lang, det vil si å velge $h_k = h = (b-a)/n$ slik at $x_k = a + k h$ for $k \\in \\{0,1,\\dots,n\\}$, og vi får\n",
    "$$ \\lim_\\limits{n\\to\\infty} h\\sum_{k=1}^{n} f(x_{k}^*) = \\int_{a}^{b} f(x)\\,\\mathrm{d}x.$$\n",
    "Vi vil fra nå av alltid gjøre dette valget.\n",
    "\n",
    "Tilsvarende definisjonen av den deriverte, ser vi at det bestemte integralet også opptrer som en grenseverdi og det krever \"uendelig\" mange steg å evaluere den.\n",
    "På samme måte som for numerisk derivasjon kan vi da tenke oss at en enkel tilnærming av det bestemte integralet vil være å simpelthen velge riemannsummen for en endelig, fin nok partisjon $P$, altså en stor nok verdi av $n$.\n"
   ]
  },
  {
   "cell_type": "markdown",
   "id": "99631da8-c59d-4558-82b9-0d404416055b",
   "metadata": {},
   "source": [
    "## Trapesmetoden\n",
    "\n",
    "I riemannsummen tilnærmer man $f$ på hvert intervall $[x_{k-1}, x_k]$ med et rektangel med høyde $f(x_k^*)$, og tilnærmingen av integralet blir arealet av rektangelet, $h f(x_k^*)$.\n",
    "\n",
    "Et alternativ til dette er å tilnærme integralet av $f$ over $[x_{k-1},x_k]$ med arealet av trapeset med hjørner i $(x_{k-1},0)$, $(x_{k},0)$, $(x_{k-1},f(x_{k-1}))$ og $(x_k,f(x_k))$, som er $\\frac{h}{2} (f(x_{k-1})+f(x_k))$.\n",
    "Dette er *trapesmetoden*, hvor vi altså tilnærmer\n",
    "$$ \\int_{x_{k-1}}^{x_k}f(x)\\,\\mathrm{d}x \\quad \\text{med} \\quad \\frac{h}{2}\\left(f(x_{k-1}) + f(x_k) \\right), $$\n",
    "og for en tilstrekkelig glatt funksjon vil feilen vi gjør være proporsjonal med $f''(c_k)h^3$ for en $c_k \\in (x_{k-1},x_k)$.\n",
    "\n",
    "Ved å gjøre denne tilnærmingen på hvert delintervall i $[a,b]$ og summere bidragene får vi det som kalles (kompositt-)trapesmetoden for det bestemte integralet av $f$ over $[a,b]$,\n",
    "og vi skriver $T_n$ for tilnærmingen med $n$ delintervaller, som blir\n",
    "$$ T_n = \\frac{h}{2}\\sum_{k=1}^n (f(x_{k-1}) + f(x_k)) = \\frac{h}{2} \\left( f(x_0) + 2f(x_1) + 2f(x_2) + \\dots + 2f(x_{n-1}) + f(x_n)\\right).$$\n",
    "\n",
    "Siden feilen vi gjør på hvert delintervall akkumuleres vil ikke feilen være kubisk i $h$, men kvadratisk: man kan vise at $\\sum_{k=1}^n f''(c_k) = n f''(c)$ for en $c \\in (a,b)$, og siden $nh = b-a$ vil feilen med (kompositt-)trapesmetoden $T_n - I$ være proporsjonal med $(b-a)h^2 f''(c)$.\n"
   ]
  },
  {
   "cell_type": "code",
   "execution_count": 137,
   "id": "cb2f619d-b835-4685-addd-b26a0f395a8e",
   "metadata": {},
   "outputs": [
    {
     "data": {
      "text/plain": [
       "[<matplotlib.lines.Line2D at 0x7fa6eb2aea00>]"
      ]
     },
     "execution_count": 137,
     "metadata": {},
     "output_type": "execute_result"
    },
    {
     "data": {
      "image/png": "[encoded data removed]",
      "text/plain": [
       "<Figure size 432x288 with 1 Axes>"
      ]
     },
     "metadata": {
      "needs_background": "light"
     },
     "output_type": "display_data"
    }
   ],
   "source": [
    "import numpy as np\n",
    "from matplotlib import pyplot as plt\n",
    "%matplotlib inline\n",
    "\n",
    "def f1(x):\n",
    "    return 1+x**3-x\n",
    "\n",
    "y = np.linspace(-1,1,501)\n",
    "\n",
    "N = 6\n",
    "xs = np.linspace(-1,1,N)\n",
    "\n",
    "plt.plot(y,f1(y))\n",
    "plt.grid(True)\n",
    "for k in range(0,N-1):\n",
    "    plt.plot([xs[k],xs[k+1]],[f1(xs[k]),f1(xs[k+1])],'r--')\n",
    "    plt.plot([xs[k+1],xs[k+1]], [0,f1(xs[k+1])],'r--')\n",
    "plt.plot([xs[0],xs[0]], [0,f1(xs[0])],'r--')\n"
   ]
  },
  {
   "cell_type": "markdown",
   "id": "c66ce8de-640b-48db-93d9-6a0e0be330dc",
   "metadata": {},
   "source": [
    "## Simpsons metode\n",
    "\n",
    "Trapesmetoden kan tenkes på som at man på hvert delintervall $[x_{k-1}, x_k]$ interpolerer $f$ med et førstegrads polynom (en lineær funksjon), det vil si linjestykket som går fra $(x_{k-1},f(x_{k-1}))$ til $(x_k,f(x_k))$. Tilnærmingen $T_n$ er da hva man får ved å integrere interpolasjonsfunksjonen eksakt.\n",
    "\n",
    "Idéen bak *Simpsons metode* er at man vil få en bedre tilnærming ved å bruke et andreordens polynom.\n",
    "For å interpolere med et andreordens polynom trenger vi funksjonsverdien i tre påfølgende punkter $x_{k-2}$, $x_{k-1}$ og $x_k$; altså kan vi tenke oss at vi ser på to delintervaller $[x_{k-2},x_{k-1}]$ og $[x_{k-1},x_k]$ samtidig.\n",
    "Derfor er det viktig at antallet delintervaller $n$ er et partall, $n = 2m$ for et heltall $m$ slik at $[a,b]$ kan deles opp i $m$ delintervaller $[x_{2(k-1)},x_{2k}]$.\n",
    "\n",
    "$$ \\int_{x_{2k-2}}^{x_{2k}}f(x)\\,\\mathrm{d}x \\quad \\text{med} \\quad \\frac{h}{3}\\left(f(x_{2k-2}) + 4f(x_{2k-1}) + f(x_{2k}) \\right), $$\n",
    "Feilen er her proporsjonal med $h^5 f^{(4)}(c_k)$ for en $c_k \\in (x_{2k-2},x_{2k})$.\n",
    "\n",
    "Ved å summere bidragene fra hvert av de $m$ parene av delintervaller får vi komposittversjonen av Simpsons metode, hvor tilnærmingen $S_n = S_{2m}$ er gitt av\n",
    "\n",
    "$$ S_n  = \\frac{h}{3}\\sum_{k=1}^{m}(f(x_{2k-2}) + 4f(x_{2k-1}) + f(x_{2k})) = \\frac{h}{3} \\left( f(x_0) + 4f(x_1) + 2f(x_2) + 4f(x_3) + \\dots + 2f(x_{n-2}) + 4f(x_{n-1}) + f(x_n) \\right). $$\n",
    "På tilsvarende vis som for trapesmetoden kan vi utlede at feilen $S_n - I$ er proporsjonal med $h^4 f^{(4)}(c)$ for en $c \\in (a,b)$.\n",
    "\n",
    "**Eksempel**: La oss tilnærme integralet av $f(x) = e^x$ over intervallet $[-1,1]$ med både trapesmetoden og Simpsons metode for $n=2$.\n",
    "Partisjonen vår består da av $x_0 = -1$, $x_1 = 0$ og $x_2 = 1$, med $h = 1$.\n",
    "Trapesmetoden gir oss\n",
    "$$ T_2 = \\frac12 \\left(e^{-1} + 2 + e^{1} \\right) = 1 + \\cosh(1),$$\n",
    "og Simpsons metode gir\n",
    "$$ S_2 = \\frac{1}{3} \\left(e^{-1} + 4 + e^{1}\\right) = \\frac{4+2\\cosh(1)}{3}. $$\n",
    "Vi vet at det eksakte svaret er $e^1-e^{-1} = 2 \\sinh(1)$, og vi kan sjekke at $S_2$ gir en bedre tilnærming enn $T_2$.\n",
    "\n",
    "La oss sjekke at hvordan feilen endrer seg med antall delintervaller gitt av $n = 2^k$ for økende $k$."
   ]
  },
  {
   "cell_type": "code",
   "execution_count": 138,
   "id": "b0c0b780-be5a-495f-ba77-20b68b339d3f",
   "metadata": {},
   "outputs": [
    {
     "data": {
      "text/plain": [
       "<matplotlib.legend.Legend at 0x7fa6eb408bb0>"
      ]
     },
     "execution_count": 138,
     "metadata": {},
     "output_type": "execute_result"
    },
    {
     "data": {
      "image/png": "[encoded data removed]",
      "text/plain": [
       "<Figure size 432x288 with 1 Axes>"
      ]
     },
     "metadata": {
      "needs_background": "light"
     },
     "output_type": "display_data"
    }
   ],
   "source": [
    "def f2(x):\n",
    "    return np.exp(x)\n",
    "\n",
    "def trapezoid(f,a,b,n):\n",
    "    # f funksjon, intervall [a,b], n delintervaller\n",
    "    h = (b-a)/n\n",
    "    xk = np.linspace(a,b,n+1)\n",
    "    fk = f(xk)\n",
    "    return (h/2)*np.sum(fk[0:n]+fk[1:])\n",
    "\n",
    "def simpson(f,a,b,n):\n",
    "    # f funksjon, intervall [a,b], n=2m delintervaller\n",
    "    h = (b-a)/n\n",
    "    xk = np.linspace(a,b,n+1)\n",
    "    fk = f(xk)\n",
    "    return (h/3)*(np.sum(fk[0:n-1:2] + fk[2:n+1:2] + 4*fk[1:n+1:2]) )\n",
    "\n",
    "pmin = 4\n",
    "pmax = 12\n",
    "N = pmax-pmin+1\n",
    "\n",
    "I = np.zeros([N,2])\n",
    "a = -1\n",
    "b = 1\n",
    "hk = np.zeros(N)\n",
    "\n",
    "for k in range(0,N):\n",
    "    n = 2**(pmin+k)\n",
    "    hk[k] = (b-a)/n\n",
    "    I[k,0] = trapezoid(f2,a,b,n)\n",
    "    I[k,1] = simpson(f2,a,b,n)\n",
    "\n",
    "ans = 2*np.sinh(1) # korrekt verdi\n",
    "err = np.abs(I-ans) # feilen\n",
    "\n",
    "plt.loglog(hk,err,'x')\n",
    "plt.loglog(hk,hk**2)\n",
    "plt.loglog(hk,hk**4)\n",
    "plt.title('Feil i numerisk integrasjon av $e^x$ over $[-1,1]$')\n",
    "plt.grid(True)\n",
    "plt.xlabel('$h$')\n",
    "plt.legend(['Trapes','Simpson','$h^2$','$h^4$'])"
   ]
  },
  {
   "cell_type": "markdown",
   "id": "a49a5999-4c82-4924-9985-0ee08b96fe3e",
   "metadata": {},
   "source": [
    "Vi ser, som forventet, at feilen med trapesmetoden avtar som $h^2$ og feilen med Simpsons metode avtar som $h^4$."
   ]
  },
  {
   "cell_type": "code",
   "execution_count": 146,
   "id": "1439ec78-1f80-4c9e-9d72-1fd33f4ce707",
   "metadata": {},
   "outputs": [
    {
     "data": {
      "text/plain": [
       "2.5430806348152437"
      ]
     },
     "metadata": {},
     "output_type": "display_data"
    },
    {
     "data": {
      "text/plain": [
       "1.1752011936438014"
      ]
     },
     "metadata": {},
     "output_type": "display_data"
    },
    {
     "data": {
      "text/plain": [
       "2.362053756543496"
      ]
     },
     "metadata": {},
     "output_type": "display_data"
    },
    {
     "data": {
      "text/plain": [
       "2.3504023872876028"
      ]
     },
     "metadata": {},
     "output_type": "display_data"
    }
   ],
   "source": [
    "display(1+np.cosh(1))\n",
    "display(2*np.cosh(1/2)*np.sinh(1/2))\n",
    "display((4+2*np.cosh(1))/3)\n",
    "display(2*np.sinh(1))"
   ]
  },
  {
   "cell_type": "code",
   "execution_count": null,
   "id": "77d3c893-f641-490a-aef6-7ad0d563a4db",
   "metadata": {},
   "outputs": [],
   "source": []
  }
 ],
 "metadata": {
  "kernelspec": {
   "display_name": "Python 3",
   "language": "python",
   "name": "python3"
  },
  "language_info": {
   "codemirror_mode": {
    "name": "ipython",
    "version": 3
   },
   "file_extension": ".py",
   "mimetype": "text/x-python",
   "name": "python",
   "nbconvert_exporter": "python",
   "pygments_lexer": "ipython3",
   "version": "3.8.8"
  }
 },
 "nbformat": 4,
 "nbformat_minor": 5
}
