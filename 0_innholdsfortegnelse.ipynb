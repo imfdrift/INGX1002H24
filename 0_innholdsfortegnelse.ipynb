{
 "cells": [
  {
   "cell_type": "markdown",
   "id": "0ca1e607-a785-4eba-929d-dee32670bd99",
   "metadata": {},
   "source": [
    "# Innholdsfortegnelse\n",
    "...\n",
    "\n",
    "Til sist har vi et appendiks med en kort innføring i matematiske konsepter som vi har bruk for i numerikken.\n",
    "\n",
    "### Del 1: Numerisk derivasjon og integrasjon\n",
    "1. \n",
    "2. \n",
    "\n",
    "### Del 2: Numerisk løsning av ligninger\n",
    "1. [Introduksjon](numerisk_losning_intro.ipynb)\n",
    "2. [Fikspunktmetoden](fixpoint.ipynb)\n",
    "3. Konvergens / fallgruver\n",
    "3. [Newtons metode](Newton.ipynb)\n",
    "4. Konvergensrate for iterative metoder\n",
    "5. Jacobimetoden\n",
    "\n",
    "### Del 3: Numerisk løsning av differensialligninger\n",
    "1. Introduksjon\n",
    "2. Eulers metode for skalare ligninger\n",
    "3. Stabilitet for (eksplisitt) Euler\n",
    "4. Eulers metode for systemer\n",
    "5. Omskriving av andreordens differensialligninger\n",
    "\n",
    "### Appendiks\n",
    "1. [Kontinuitet og skjæringssetningen](A-1_kontinuitet.ipynb)\n",
    "2. [Derivasjon og sekantsetningen](A-2_derivasjon.ipynb)\n",
    "3. [(Numerisk) lineær algebra](A-3_linalg.ipynb)\n",
    "3. Differensialligninger"
   ]
  },
  {
   "cell_type": "code",
   "execution_count": null,
   "id": "56c33750-f489-40ab-8c68-94b36c1026ff",
   "metadata": {},
   "outputs": [],
   "source": []
  }
 ],
 "metadata": {
  "kernelspec": {
   "display_name": "Python 3",
   "language": "python",
   "name": "python3"
  },
  "language_info": {
   "codemirror_mode": {
    "name": "ipython",
    "version": 3
   },
   "file_extension": ".py",
   "mimetype": "text/x-python",
   "name": "python",
   "nbconvert_exporter": "python",
   "pygments_lexer": "ipython3",
   "version": "3.8.8"
  }
 },
 "nbformat": 4,
 "nbformat_minor": 5
}
