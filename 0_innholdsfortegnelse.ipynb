{
 "cells": [
  {
   "cell_type": "markdown",
   "id": "0ca1e607-a785-4eba-929d-dee32670bd99",
   "metadata": {},
   "source": [
    "# INGx1002 Numerikk - innholdsfortegnelse\n",
    "\n",
    "Dette er en innholdsfortegnelse over temaene vi skal ta for oss i numerisk matematikk-delen av INGx1002.\n",
    "Vi har valgt å dele pensum inn i tre temaer.\n",
    "\n",
    "I tillegg har vi et appendiks med en _kort_ innføring i matematiske konsepter som vi har bruk for i denne sammenhengen.\n",
    "\n",
    "### Del 1: Numerisk derivasjon og integrasjon\n",
    "1. [Numerisk derivasjon: differanser](1_diffint/1_diffint_derivasjon.ipynb)\n",
    "2. [Numerisk derivasjon: ustabilitet](1_diffint/1_diffint_ustabilitet.ipynb)\n",
    "3. [Anvendelse: estimere hastighet fra posisjonsdata](1_diffint/1_diffint_anvendelse_diff.ipynb)\n",
    "4. [Numerisk integrasjon: det bestemte integralet og riemannsummer](1_diffint/1_diffint_integrasjon.ipynb)\n",
    "5. [Numerisk integrasjon: trapesmetoden og Simpsons metode](1_diffint/1_diffint_trapesSimpson.ipynb)\n",
    "6. [Anvendelse: estimere hastighet fra akselerasjonsdata](1_diffint/1_diffint_anvendelse_int.ipynb)\n",
    "\n",
    "### Del 2: Numeriske løsninger av ligninger\n",
    "1. [Introduksjon](2_lignlos/2_lignlos_intro.ipynb)\n",
    "2. [Fikspunktmetoden](2_lignlos/2_lignlos_fikspunkt.ipynb)\n",
    "3. [Andre fallgruver og lokal konvergens](2_lignlos/2_lignlos_fikspunkt_lokal.ipynb)\n",
    "3. [Newtons metode](2_lignlos/2_lignlos_newton.ipynb)\n",
    "4. [Konvergensrater for iterative metoder](2_lignlos/2_lignlos_rater.ipynb)\n",
    "\n",
    "### Del 3: Numeriske løsninger av differensialligninger\n",
    "1. [Introduksjon](3_difflign/3_difflign_intro.ipynb)\n",
    "2. [Eulers metode og retningsfelter](3_difflign/3_difflign.ipynb)\n",
    "3. [Stabilitet for Eulers metode](3_difflign/3_difflign_stabilitet.ipynb)\n",
    "4. [Eulers metode for systemer](3_difflign/3_difflign_system.ipynb)\n",
    "5. [Omskriving av andreordens differensialligninger](3_difflign/3_difflign_omskriv.ipynb)\n",
    "6. [Eksempel: ideell pendel](3_difflign/3_difflign_pendel.ipynb)\n",
    "\n",
    "### Appendiks\n",
    "1. [Kontinuitet og skjæringssetningen](A_appendiks/A_kontinuitet.ipynb)\n",
    "2. [Derivasjon og sekantsetningen](A_appendiks/A_derivasjon.ipynb)\n",
    "3. [(Numerisk) lineær algebra](A_appendiks/A_linalg.ipynb)\n",
    "4. [Differensialligninger](A_appendiks/A_difflign.ipynb)"
   ]
  },
  {
   "cell_type": "markdown",
   "id": "592d7a67-ba66-40ec-8d74-a47281a568ec",
   "metadata": {},
   "source": [
    "##### Kildehenvisninger:\n",
    "For utfyllende informasjon om definisjoner, konsepter, osv., kan du for eksempel konsultere følgende bøker:\n",
    "- T. Sauer, *Numerical Analysis*. Kapitler 5.1, 5.2 (Del 1); 1.2, 1.4 (Del 2); 6.1 (Del 3, Appendiks).\n",
    "- Lorentzen, Hole, Lindstrøm, *Kalkulus*. Kapitler 1.4, 2.3 (Appendiks)."
   ]
  },
  {
   "cell_type": "code",
   "execution_count": null,
   "id": "34c0f524-d0d2-42f1-8e3c-b9129ed9b75e",
   "metadata": {},
   "outputs": [],
   "source": []
  }
 ],
 "metadata": {
  "kernelspec": {
   "display_name": "Python 3",
   "language": "python",
   "name": "python3"
  },
  "language_info": {
   "codemirror_mode": {
    "name": "ipython",
    "version": 3
   },
   "file_extension": ".py",
   "mimetype": "text/x-python",
   "name": "python",
   "nbconvert_exporter": "python",
   "pygments_lexer": "ipython3",
   "version": "3.8.8"
  }
 },
 "nbformat": 4,
 "nbformat_minor": 5
}
