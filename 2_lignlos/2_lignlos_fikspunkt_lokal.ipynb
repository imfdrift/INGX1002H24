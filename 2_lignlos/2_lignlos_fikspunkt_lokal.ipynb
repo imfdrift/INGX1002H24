{
 "cells": [
  {
   "cell_type": "markdown",
   "id": "3f8bfd66-51dc-4593-bd61-abbbd6c24693",
   "metadata": {},
   "source": [
    "# Andre fallgruver og lokal konvergens\n",
    "Det finnes også andre feller å gå i enn at $g$ tar oss ut av intervallet vi er interessert i.\n",
    "Neste eksempel illustrerer hvordan feil valg av funskjonen $g$ for fikspunktiterasjonen kan gjøre at vi aldri nærmer oss roten $r$ til tross for at vi forblir i et intervall som inneholder denne.\n",
    "\n",
    ">#### Eksempel:\n",
    "La oss se på ligningen $f(x) = x^3 + x -1 = 0$.\n",
    "Denne funksjonen $f$ oppfyller $f(0) = -1$ og $f(1) = 1$, og siden $f$ er kontinuerlig må den ifølge skjæringssetningen ha minst én rot på $(0,1)$.\n",
    "Vi ser også at $f'(x) = 3x^2 + 1 \\ge 1$, så $f$ må være strengt økende og kan dermed ikke ta samme verdi mer enn én gang.\n",
    "Dermed finnes det nøyaktig én rot $r \\in (0,1)$.\n",
    ">\n",
    ">En åpenbar kandidat for fikspunktfunksjonen er da $g_1(x) = 1-x^3$, og en annen får vi ved å ta kubikkrot, nemlig $g_2(x) = \\sqrt[3]{1-x}$.\n",
    "Det er ikke vanskelig å sjekke at både $g_1$ og $g_2$ avbilder $x \\in [0,1]$ til $[0,1]$.\n",
    ">\n",
    ">Nedenfor har vi plottet de fem første fikspunktiterasjonene for $g_1$ og $g_2$ med startpunktet $x_0 = 0.5$.\n",
    "<img src=\"2_fiksspiral.png\" style=\"width: 100%\">"
   ]
  },
  {
   "cell_type": "markdown",
   "id": "377e3a79-aec0-4d56-9f03-a5a99a6a59bd",
   "metadata": {},
   "source": [
    "Fra plottene ovenfor la du forhåpentligvis merke til at uansett hvor nær fikspunktet $r$, som vi ser ligger et sted mellom $0.6$ og $0.8$, vi starter, så vil iterasjonen med $g_1$ bevege seg bort fra det.\n",
    "For mange nok iterasjoner vil man ende opp med å hoppe frem og tilbake mellom $x=0$ og $x=1$.\n",
    "På den andre siden, med $g_2$ ser vi at vi vil nærme oss fikspunktet $r$.\n",
    "\n",
    "Igjen må vi se på de deriverte til $g_1$ og $g_2$ for å forklare denne oppførselen, nemlig\n",
    "$$ g_1'(x) = -3x^2, \\qquad g_2'(x) = -\\frac{1}{3(1-x)^{2/3}}. $$\n",
    "\n",
    "Vi ser at $|g_1'(x)| < 1$ for $|x| < 1/\\sqrt{3}$, og $|g_1'(x)| > 1$ for $|x| > 1/\\sqrt{3}$, og skillepunktet $x=1/\\sqrt{3} \\approx 0.58$ ligger inni intervallet vårt $(0,1)$.\n",
    "\n",
    "Her ser vi at $f(1/\\sqrt{3}) < 0$, så ifølge skjæringssetningen må vi ha $1/\\sqrt{3} < r < 1$.\n",
    "Dette betyr da at i området rundt $x=r$ er $|g_1'(x)| > 1$, og ifølge ligning (2.5) vil feilen $|x_{n+1} - r| = |g(x_n)-g(r)|$ øke.\n",
    "\n",
    "På den andre siden ser vi at $|g_2'(x)| < 1$ for $|x-1| > 3^{-3/2}$, og $x = 1-3^{-3/2} \\approx 0.81$ ligger i intervallet vårt $[0,1]$.\n",
    "Siden $f(1-3^{-3/2}) > 0$ følger det at $3^{-1/2} < r < 1-3^{-3/2}$, og i tillegg har vi at $|g_2'(x)| < 1$ i dette intervallet, så ifølge ligning (2.5) vil feilen avta her.\n",
    "Så ved å velge $g_2$ for fikspunktiterasjonen vår er vi garantert å konvergere dersom vi starter med en startgjetning $x_0$ nær nok fikspunktet $r$.\n",
    "\n",
    "> #### *Definisjon* (lokal konvergens):\n",
    "En iterativ metode er *lokalt konvergent* mot $r$ dersom metoden konvergerer til $r$ for startgjetninger nær nok $r$.\n",
    "\n",
    "For fikspunktiterasjon, gitt av ligning (2.3), har vi sett at denne er lokalt konvergent til $r$ dersom $g$ er kontinuerlig deriverbar og $g'(r) < 1$."
   ]
  },
  {
   "cell_type": "code",
   "execution_count": null,
   "id": "4e9d6bd0-ac3d-411e-aa28-cea5cb255023",
   "metadata": {},
   "outputs": [],
   "source": []
  }
 ],
 "metadata": {
  "kernelspec": {
   "display_name": "Python 3",
   "language": "python",
   "name": "python3"
  },
  "language_info": {
   "codemirror_mode": {
    "name": "ipython",
    "version": 3
   },
   "file_extension": ".py",
   "mimetype": "text/x-python",
   "name": "python",
   "nbconvert_exporter": "python",
   "pygments_lexer": "ipython3",
   "version": "3.8.8"
  }
 },
 "nbformat": 4,
 "nbformat_minor": 5
}
