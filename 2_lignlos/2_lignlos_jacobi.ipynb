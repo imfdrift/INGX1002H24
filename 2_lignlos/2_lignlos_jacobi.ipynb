{
 "cells": [
  {
   "cell_type": "markdown",
   "id": "4d17b7a0-f9a7-4636-9e74-d53bf13edc0d",
   "metadata": {},
   "source": [
    "# Jacobimetoden\n",
    "Tidligere har vi sett at skalare ligninger $f(x) = 0$ kan løses iterativt, med for eksempel fikspunktiterasjoner der man skriver om $f(x) = 0$ på formen $x = g(x)$.\n",
    "\n",
    "Samme idé kan brukes på systemer av ligninger, det vil si et gitt antall ligninger med samme antall ukjente som inngår i ligningene.\n",
    "For enkelhets skyld ser vi kun på lineære ligningssystemer, altså systemer som kan skrives på formen $A \\boldsymbol{x} = \\boldsymbol{b}$ hvor $A$ er en matrise, $\\boldsymbol{b}$ er en vektor og $\\boldsymbol{x}$ er en vektor av ukjente.\n",
    "\n",
    "La oss for eksempel se på systemet\n",
    "\n",
    "$$ \\begin{align*} 2x + y &= 5, \\\\ 3x + 5y &= 11 \\end{align*} $$\n",
    "\n",
    "hvor vi ønsker å løse for $x$ og $y$.\n",
    "Dersom vi løser første ligning for $x$ og andre ligning for $y$ får vi\n",
    "\n",
    "$$ x = \\frac{5-y}{2}, \\quad y = \\frac{11-3x}{5}, $$\n",
    "\n",
    "som vi kan bruke til å definere iterasjonen.\n",
    "Tilsvarende fikspunktiterasjon velger vi oss startgjetninger $x_0, y_0$ og definerer deretter de neste iteratene som\n",
    "\n",
    "$$ x_{k+1} = \\frac{5-y_k}{2}, \\quad y_{k+1} = \\frac{11-3x_k}{5}. $$\n",
    "\n",
    "La oss gjennomføre $10$ iterasjoner med startgjetninger $x_0 = 0$, $y_0=0$ (eller velg selv antall iterasjoner og startgjetninger i koden under)."
   ]
  },
  {
   "cell_type": "code",
   "execution_count": 1,
   "id": "94179f74-820f-4878-87cf-782cde84f2a7",
   "metadata": {},
   "outputs": [
    {
     "name": "stdout",
     "output_type": "stream",
     "text": [
      "Etter 10 iterasjoner har vi tilnærmingene x ≈ 1.99514 og y ≈ 0.99757. Innsatt i 2x + y og 3x + 5y får vi 4.98785 og 10.97327.\n"
     ]
    }
   ],
   "source": [
    "N = 10 # antall iterasjoner\n",
    "\n",
    "x = 0 # startgjetning for x\n",
    "y = 0 # startgjetning for y\n",
    "\n",
    "for k in range(0,N):\n",
    "    x, y = (5-y)/2, (11-3*x)/5\n",
    "    \n",
    "print('Etter {} iterasjoner har vi tilnærmingene x ≈ {} og y ≈ {}. Innsatt i 2x + y og 3x + 5y får vi {} og {}.'.format(N,x,y,2*x+y,3*x+5*y))"
   ]
  },
  {
   "cell_type": "markdown",
   "id": "eaf66af1-fdf0-46f7-847a-ffa1eb5f3c42",
   "metadata": {},
   "source": [
    "Forhåpentlig vil tilnærmingene ovenfor være i nærheten av den eksakte løsningen $x=2$ og $y=1$.\n",
    "\n",
    "Samme idé gjelder for et generelt lineært system av $n$ ligninger og $n$ ukjente: vi løser ligning nummer $i$ for ukjent nummer $i$, og itererer på samme vis.\n",
    "Mer konkret, la ligning nummer $i$ være gitt av\n",
    "\n",
    "$$ \\sum_{j=1}^n a_{ij} x^{(i)} = b_i, \\quad \\text{for} \\quad i = 1,...,n, \\tag{1}$$\n",
    "\n",
    "hvor ukjent nummer $i$ er gitt av $x^{(i)}$.\n",
    "Gitt iterat nummer $k$, $x_k^{(i)}$ for $i = 1,...,n$, så er neste iterat $x_{k+1}^{(i)}$ definert som\n",
    "\n",
    "$$ x_{k+1}^{(i)} = \\displaystyle \\frac{1}{a_{ii}} \\left( b_i - \\sum_{\\substack{j=1 \\\\ j \\neq i}}^n a_{ij} x_k^{(j)}\\right), \\quad \\text{for} \\quad i = 1,...,n. $$\n",
    "\n",
    "Her ser vi at det er viktig at koeffisientene $a_{ii} \\neq 0$ for alle $i = 1,...,n$ for at metoden skal være definert, dermed kan det være nødvendig å bytte om på ligningsrekkefølgen.\n",
    "\n",
    "Dette blir kalt *Jacobimetoden*, og kan skrives mer kompakt med matrise- og vektornotasjon: vi samler komponentene $x^{(i)}$ og $b_i$ i vektorene $\\boldsymbol{x}$ og $\\boldsymbol{b}$, og koeffisientene $a_{ij}$ i en matrise $A$ slik at systemet (1) ovenfor kan skrives som $A \\boldsymbol{x} = \\boldsymbol{b}$.\n",
    "Matrisen $A$ kan alltid skrives som en sum $A = D + L + U$, hvor $D$ er matrisen med diagonalelementene til $A$, $L$ inneholder elementene under diagonalen og $U$ inneholder elementene over diagonalen.\n",
    "Da kan vi definere en iterasjon ved å la $D$ multiplisere neste iterat $\\boldsymbol{x}_{k+1}$, og $L$ og $U$ multiplisere forrige iterat $\\boldsymbol{x}_{k}$.\n",
    "Dersom $D$ er inverterbar, det vil si at diagonalelementene $a_{ii} \\neq 0$ for alle $i=1,...,n$, kan vi løse for $\\boldsymbol{x}_{k+1}$:\n",
    "\n",
    "$$D \\boldsymbol{x}_{k+1} = \\boldsymbol{b} - (U+L)\\boldsymbol{x}_{k} \\implies \\boldsymbol{x}_{k+1} = D^{-1}(\\boldsymbol{b} - (U+L)\\boldsymbol{x}_{k}) $$\n",
    "\n",
    "> **Jacobimetoden**: Gitt et et lineært system $A \\boldsymbol{x} = \\boldsymbol{b}$. Vi dekomponerer $A$ i dens diagonaldel $D$, nedre og øvre triangulære del $L$ og $U$, og antar at $D$ er inverterbar. For en startgjetning $\\boldsymbol{x}_{0}$ er Jacobimetoden gitt av iterasjonen\n",
    "$$\\boldsymbol{x}_{k+1} = D^{-1}(\\boldsymbol{b} - (U+L)\\boldsymbol{x}_{k}), \\quad k = 0, 1, ... $$"
   ]
  },
  {
   "cell_type": "markdown",
   "id": "9d63336b-bd9a-4da2-be07-fb081475297b",
   "metadata": {},
   "source": [
    "Som for fikspunktiterasjon for skalare ligninger er det ikke gitt at Jacobimetoden faktisk konvergerer til en løsning av ligningssystemet; dette vil avhenge av egenskapene til matrisen $A$.\n",
    "Det finnes et kriterie som er tilstrekkelig for at dette skal skje, og som har å gjøre med følgende egenskap for matriser.\n",
    "> **Definisjon 1**: En matrise $A = \\{a_{ij}\\}$ er *strengt diagonaldominant* dersom vi for hver $i \\in \\{0,...,n\\}$ har\n",
    "$$ |a_{ii}| > \\sum_{\\substack{j=1 \\\\ j\\neq i}}^{n}|a_{ij}|. $$\n",
    "Det vil si, for hver rad er absoluttverdien av diagonalelementet strengt større enn summen av resten av absoluttverdiene i raden.\n",
    "\n",
    "> **Teorem 1**: Dersom $n\\times n$-matrisen $A$ er strengt diagonaldominant, så er den også ikke-singulær; dermed har systemet $A \\boldsymbol{x} = \\boldsymbol{b}$ alltid en éntydig løsning for enhver $\\boldsymbol{b}$. I tillegg, for enhver startgjetning vil Jacobimetoden konvergere til denne løsningen.\n",
    "\n",
    "At $A$ er diagonaldominant kan sees på som en matriseversjon av kriteriet $|g'(x)| < 1$ for den skalare iterasjonen $x_{k+1} = g(x_k)$.\n",
    "\n",
    "Det finnes selvsagt andre måter å definere iterasjoner for det lineære systemet $A \\boldsymbol{x} = \\boldsymbol{b}$: en annen variant som også konvergerer for strengt diagonaldominante matriser $A$ er *Gauss–Seidel*-metoden, gitt av den alternative splittingen $(D+L) \\boldsymbol{x}_{k+1} = \\boldsymbol{b} - U\\boldsymbol{x}_{k}$.\n",
    "\n",
    "**Kilder**: Sauer kap. 2.5"
   ]
  },
  {
   "cell_type": "markdown",
   "id": "e64829ee-8cc7-42dd-b683-c97f2dbf180a",
   "metadata": {},
   "source": [
    ">#### Eksempel\n",
    "Vi har det lineære systemet \n",
    "$$ \\begin{align} 3x + y -z &= 4 \\\\ 2x + 4y + z &= 1 \\\\ -x +2y +5z &= 1 \\end{align} $$\n",
    "hvor vi vil tilnærme løsningen med Jacobimetoden.\n",
    "Dette kan skrives som $A \\boldsymbol{x} = \\boldsymbol{b}$ hvor\n",
    "$$ A = \\begin{bmatrix} 3 & 1 & -1 \\\\ 2 & 4 & 1 \\\\ -1 & 2 & 5 \\end{bmatrix}, \\qquad \\boldsymbol{x} = \\begin{bmatrix} x \\\\ y \\\\ z \\end{bmatrix}, \\qquad \\boldsymbol{b} = \\begin{bmatrix} 4 \\\\ 1 \\\\ 1 \\end{bmatrix}. $$\n",
    "Matrisen $A$ er strengt diagonaldominant, siden $|3| > |1|+ |{-1}|$, $|4| > |2|+|1|$ og $|5| > |{-1}|+|2|$.\n",
    "Dermed vil Jacobi-metoden konvergere til løsningen av systemet, som er $x=2$, $y=-1$ og $z=1$.\n",
    ">\n",
    ">For en gitt startgjetning $\\boldsymbol{x}_0$ er neste iterasjon med Jacobimetoden gitt av\n",
    ">$$ \\boldsymbol{x}_{k+1} = D^{-1}( \\boldsymbol{b} - (A-D)\\boldsymbol{x}_k). $$\n",
    ">\n",
    ">Eventuelt kan vi skrive iterasjonen komponentvis med verdiene fra $A$ og $\\boldsymbol{b}$,\n",
    ">$$ x_{k+1} = \\frac{4 - y_{k} + z_{k}}{3}, \\qquad y_{k+1} = \\frac{1 -2x_k-z_k}{4}, \\qquad z_{k+1} = \\frac{1+x_k-2y_k}{5}. $$\n",
    "\n",
    "Nedenfor har vi kodet løsningen av eksempelet."
   ]
  },
  {
   "cell_type": "code",
   "execution_count": 18,
   "id": "70e515d0-ebc4-48c4-b04f-1e8538fbae42",
   "metadata": {},
   "outputs": [
    {
     "name": "stdout",
     "output_type": "stream",
     "text": [
      "[1.33333333 0.25       0.2       ]\n",
      "[ 1.31666667 -0.46666667  0.36666667]\n",
      "[ 1.61111111 -0.5         0.65      ]\n",
      "[ 1.71666667 -0.71805556  0.72222222]\n",
      "[ 1.81342593 -0.78888889  0.83055556]\n",
      "[ 1.87314815 -0.86435185  0.87824074]\n",
      "[ 1.91419753 -0.90613426  0.92037037]\n",
      "[ 1.94216821 -0.93719136  0.94529321]\n",
      "[ 1.96082819 -0.95740741  0.96331019]\n",
      "[ 1.97357253 -0.97124164  0.9751286 ]\n",
      "[ 1.98212341 -0.98056842  0.98321116]\n",
      "[ 1.98792653 -0.9868645   0.98865205]\n",
      "[ 1.99183885 -0.99112628  0.9923311 ]\n",
      "[ 1.99448579 -0.9940022   0.99481828]\n",
      "[ 1.99627349 -0.99594747  0.99649804]\n"
     ]
    }
   ],
   "source": [
    "import numpy as np\n",
    "from matplotlib import pyplot as plt\n",
    "\n",
    "b = np.array([4.,1.,1.])\n",
    "D = np.diag([3.,4,5]) # diagonaldelen D av A\n",
    "Dinv = np.diag([1./3,0.25,0.2]) # den inverse av D\n",
    "AmD = np.array([[0.,1.,-1.],[2.,0.,1.],[-1.,2.,0.]]) # A-D = L+U\n",
    "\n",
    "x = np.zeros(3) # startgjett\n",
    "\n",
    "nmax = 15 # maksimalt antall iterasjoner\n",
    "n = 0 # antall utførte iterasjoner\n",
    "\n",
    "while n < nmax:\n",
    "    #x = np.linalg.solve(D,b-LU@x)\n",
    "    x = Dinv@(b-AmD@x) # neste iterat\n",
    "    n += 1 # oppdater antall iterasjoner\n",
    "    print(x)"
   ]
  },
  {
   "cell_type": "markdown",
   "id": "05c6a575-db75-435b-90eb-8c76add22b27",
   "metadata": {},
   "source": [
    "> **Merknad**: På samme måte som fikspunktiterasjon for én skalar ligning, konvergerer også Jacobimetoden typisk nokså langsomt.\n",
    "Det finnes også versjoner av Newtons metode for systemer som konvergerer raskere, og som gjerne er det man ville brukt i praksis for å løse ikkelineære systemer av ligninger."
   ]
  },
  {
   "cell_type": "code",
   "execution_count": null,
   "id": "f8f74210-24df-4138-9d69-cdb9b947616d",
   "metadata": {},
   "outputs": [],
   "source": []
  }
 ],
 "metadata": {
  "kernelspec": {
   "display_name": "Python 3",
   "language": "python",
   "name": "python3"
  },
  "language_info": {
   "codemirror_mode": {
    "name": "ipython",
    "version": 3
   },
   "file_extension": ".py",
   "mimetype": "text/x-python",
   "name": "python",
   "nbconvert_exporter": "python",
   "pygments_lexer": "ipython3",
   "version": "3.8.8"
  }
 },
 "nbformat": 4,
 "nbformat_minor": 5
}
