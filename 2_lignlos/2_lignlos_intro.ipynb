{
 "cells": [
  {
   "cell_type": "markdown",
   "id": "953333a5-e3df-48da-8d86-4b8e49db5bde",
   "metadata": {},
   "source": [
    "# 2.1 Numeriske løsninger av ligninger\n",
    "\n",
    "I denne delen skal vi se hvordan vi numerisk kan finne løsninger, eller i det minste gode tilnærminger av løsninger, av ligninger.\n",
    "\n",
    "Enhver ligning som involverer en ukjent variabel $x$ som vi vil løse for, kan skrives på formen\n",
    "\n",
    "$$f(x) = 0 \\tag{2.1}$$\n",
    "\n",
    "for en funksjon $f$.\n",
    "For enkelhets skyld starter vi med å se på skalare funksjoner $f$ av en skalar variabel $x$, det vil si, for et reelt tall $x$ er også $f(x)$ et reelt tall.\n",
    "\n",
    "Dessuten vil vi kun se på [kontinuerlige funksjoner](A_kontinuitet.ipynb) $f$, dette vil være viktig for mange av argumentene våre: vi vil få spesielt bruk for skjæringssetningen."
   ]
  },
  {
   "cell_type": "markdown",
   "id": "63ba40c5-cce0-414b-8a09-ab9cde228a5d",
   "metadata": {},
   "source": [
    "## Røtter og løsninger av ligninger\n",
    "De kanskje mest grunnleggende kontinuerlige funksjonene vi har er polynomer, så la oss først se på ligningen (2.1) i tilfellet hvor $f$ er et polynom. \n",
    "\n",
    "For eksempel kan polynomet  $p_2(x) = x^2 -3x + 2$ faktoriseres som $p_2(x) = (x-2)(x-1)$, og vi ser at $p_2(x) = 0$ for $x=1$ og $x=2$.\n",
    "Et nullpunkt for et polynom blir ofte kalt en *rot*, og dette navnet har også blitt overført til nullpunktene for generelle funksjoner $f(x)$.\n",
    "\n",
    "> #### *Definisjon* (rot):\n",
    "Funksjonen $f$ har en *rot* i $x=r$ dersom $f(r) = 0$.\n",
    "\n",
    "For andregradspolynomer, som eksempelet $p_2$ ovenfor, kjenner dere formelen for å finne røttene.\n",
    "Det finnes også formler for røttene til tredje- og fjerdegradspolynomer, men disse er langt mer kompliserte, og dermed ofte upraktiske å bruke.\n",
    "\n",
    "For polynomer av høyere grad har man ikke lenger generelle formler for røttene.\n",
    "For eksempel finnes det ikke en lukket formel for den relle roten til polynomet $p_5(x) = x^5 -x -1$.\n",
    "Vi kan likevel på grunn av kontinuitet slå fast at $p_5$ har en slik rot $r$ som oppfyller $1 < r < 2$; kan du se hvorfor? Hint: [skjæringssetningen](../A_appendiks/A_kontinuitet.ipynb)."
   ]
  },
  {
   "cell_type": "markdown",
   "id": "56774222-7cbf-4246-86ef-5209e28ffdfb",
   "metadata": {},
   "source": [
    "## Tilnærmede løsninger, absolutt og relativ feil\n",
    "Ovenfor så vi altså at allerede for så \"veloppdragne\" funksjoner $f$ som polynomer får vi problemer med å uttrykke løsningene av (2.1) ved hjelp av kjente funksjoner.\n",
    "Dermed er det ofte verken mulig eller hensiktsmessig å finne lukkede uttrykk eller formler for løsningene, og man ''nøyer seg'' derfor med en tilnærming (approksimasjon).\n",
    "\n",
    "En tilnærmet løsning av $f(x)=0$ vil være en $\\tilde{x}$ sånn at $f(\\tilde{x}) \\approx 0$, hvor vi igjen må presisere hva det vil si å være omtrent lik null.\n",
    "Siden $f(x)=0$ hvis og bare hvis $|{f(x)}| = 0$, kan vi bruke $|f(x)| \\ge 0$ som et mål på feilen vi gjør ved å benytte $x$ istedenfor den faktiske roten $r$.\n",
    "Dette avviket er da gitt av $|f(x)-f(r)| = |f(x)|$.\n",
    "\n",
    "Egentlig er vi jo ute etter å finne roten $r$, så det er av interesse å se på avviket mellom $x$ og $r$, den *absolutte feilen*.\n",
    "Noen ganger kan denne være stor, men samtidig liten sammenlignet med størrelsen på verdien $r$ vi er ute etter, og da kan det i stedet være nyttig å vurdere den *relative* feilen, som vi kan definere dersom $r \\neq 0$.\n",
    "Disse er da gitt av\n",
    "$$ |x-r| \\quad \\text{(absolutt feil)}, \\qquad\\qquad \\frac{|x-r|}{|r|} \\quad \\text{(relativ feil)}. $$\n",
    "\n",
    "> #### Eksempel:\n",
    "Anta vi har fått en tilnærmet verdi $x = 10.1$, men svaret vi er ute etter er $x^* = 10.0$. Den absolutte feilen er da $|x-x^*|=0.1$, og relativ feil er $|x-x^*|/|x^*|=0.01$.\n",
    "Dersom vi isteden får en tilnærmet verdi $x=1000.1$ for den eksakte verdien $x^* = 1000.0$ vil den absolutte feilen være den samme, men relativ feil er nå $0.0001 = 10^{-4}$."
   ]
  },
  {
   "cell_type": "markdown",
   "id": "03dc85bb-ac40-4001-b7ff-c645596bdc97",
   "metadata": {},
   "source": [
    ">#### Hva vil det si å være en løsning:\n",
    "Noen ligninger kan rett og slett ikke løses. For eksempel har ligningen $x^2 + 2 = 0$ ingen (reelle) løsninger $x$, fordi $x^2 \\ge 0 > -2$ uansett verdi av $x$.\n",
    ">\n",
    ">Ligningen $x^3 - 2 = 0$ har derimot én løsning, eller rot, $r$ som vi kan uttrykke ved hjelp av kubikkrotfunksjonen, $r = \\sqrt[3]{2}$.\n",
    ">\n",
    ">Ligningen $\\sin(x) = 2x-1$ har også én løsning, som må befinne seg mellom $x=0$ og $x=\\pi/2$.\n",
    "Dette ser vi fordi funksjonen $f(x) = 2x-1-\\sin(x)$ tar verdien $f(0) = -1$ i $x=0$, og verdien $f(\\pi/2) = \\pi-2 > 0$ i $x=\\pi/2$;\n",
    "siden $f$ er en kontinuerlig funksjon som skifter fortegn over dette intervallet sier [skjæringssetningen](../A_appendiks/A_kontinuitet.ipynb) at $f$ må ta verdien $0$ minst én gang mellom $x=0$ og $x=\\pi/2$.\n",
    ">\n",
    ">I motsetning til den andre ligningen ovenfor kan vi ikke uttrykke løsningen av den tredje ligningen ved hjelp av kjente/vanlige funksjoner som $n$-te potenser, trigonometriske funksjoner, eksponentialfunksjonen eller de inverse funksjonene av disse. *Men*, det er jo kun fordi ingen har gitt navn til for eksempel funksjonen $g(x) = 2x-\\sin(x)$ og dens inverse $g^{-1}$, slik at løsningen kan skrives som $r = g^{-1}(1)$:\n",
    "løsningen er ikke mindre \"ordentlig\" av den grunn.\n",
    "Uansett er det den faktiske tallverdien til $r$ vi er interesserte i, og denne sier uttrykket $g^{-1}(1)$ oss like lite om som $f^{-1}(0)$.\n",
    "\n",
    "La oss nå se hvordan vi (på veldig forenklet vis) kan finne en tilnærmet løsning av den siste ligningen ovenfor.\n",
    "\n",
    "> #### Eksempel:\n",
    "**Oppgave**: Som nevnt tidligere har ikke ligningen\n",
    "$$ \\sin(x) = 2x-1 \\tag{2.2}$$\n",
    "en løsning som kan skrives ved hjelp av vanlige funksjoner.\n",
    "Bruk $\\sin(x) \\approx x$, som er en god tilnærming for små verdier av $x$, til å finne en omtrentlig verdi for denne løsningen.\n",
    "Den eksakte løsingen, oppgitt med fire desimaler, er $r = 0.8879$: finn absolutt og relativ feil for approksimasjonen ovenfor.\n",
    ">\n",
    ">**Løsning**:\n",
    "Vi erstatter $\\sin(x)$ med $x$ i (2.2), og finner den omtrentlige løsningen $x = 1$. Dermed er den absolutte feilen $|1-0.8879| = 0.1121$, og relativ feil $|1-0.8879|/0.8879 \\approx 0.1263$ (ca. 13\\%).\n",
    "\n",
    "I eksempel 2 ovenfor brukte vi tilnærmingen $\\sin(x) \\approx x$ til å få en ligning som vi kunne løse.\n",
    "*Men*, dette er bare en god tilnærming for $x$ nær 0, og er dermed ikke en veldig god tilnærming i eksempelet heller.\n",
    "Vi ser at for løsningsverdien er $0.8879 - \\sin(0.8879) \\approx 0.112$, altså av samme størrelsesorden som feilen vi fikk.\n",
    "\n",
    "Et annet problem med denne måten å tilnærme på er at vi ikke kan redusere feilen.\n",
    "Når vi skal finne en tilnærmet løsning $\\tilde{x}$ av ligningen (2.1) er det ønskelig at vi kan bestemme oss for en toleranse $\\texttt{tol}$ som avviket $|f(\\tilde{x})|$ skal være mindre enn, det vil si $|f(\\tilde{x})| \\le \\texttt{tol}$.\n",
    "I eksempel 2 er dette avviket $f(1) = 1-\\sin(1) \\approx 0.156$, og vil vi ha et mindre avvik enn dette må vi finne en bedre måte å tilnærme på."
   ]
  },
  {
   "cell_type": "markdown",
   "id": "55d80359-be03-4071-8e99-30612755d7c7",
   "metadata": {},
   "source": [
    "## Iterative tilnærminger\n",
    "Hvordan kan vi så finne tilnærmede løsninger av (2.1)?\n",
    "Siden $f$ er kontinuerlig vil funksjonsverdien $f(x)$ nærme seg $f(r) = 0$ når argumentet $x$ nærmer seg en rot $r$.\n",
    "Dermed kan man kan alltids bare prøve seg frem ved å først ta en verdi $x_0$ og sjekke om $|f(x_0)|$ er nær nok 0.\n",
    "Dersom det er godt nok for oss, kan vi beholde $x_0$ og la dette være vår tilnærming av en rot.\n",
    "I motsatt tilfelle kan vi gjenta prosedyren med en ny verdi $x_1$, og så videre, inntil vi er fornøyde.\n",
    "\n",
    "Dette er en såkalt iterativ måte å finne røtter på.\n",
    "Vi skal se hvordan vi kan finne slike tilnærminger på en systematisk måte i neste del.\n",
    "\n",
    "Relevante spørsmål rundt dette er:\n",
    "* Hvordan kan vi finne løsninger av ligning (2.1)?\n",
    "* Hvor raskt og nøyaktig kan vi tilnærme disse løsningene?\n",
    "* Hvilke potensielle problemer/fallgruver finnes i forbindelse med iterative metoder?"
   ]
  },
  {
   "cell_type": "markdown",
   "id": "673a2c1b-b660-4162-8d17-755c4fa0475b",
   "metadata": {},
   "source": [
    "> $\\impliedby$ [Innholdsfortegnelse](../0_innholdsfortegnelse.ipynb) | [2.2 Fikspunktiterasjon](2_lignlos_fikspunkt.ipynb) $\\implies$"
   ]
  },
  {
   "cell_type": "code",
   "execution_count": null,
   "id": "dfb27846-5233-45ff-9ccc-1b0a3949d95a",
   "metadata": {},
   "outputs": [],
   "source": []
  }
 ],
 "metadata": {
  "kernelspec": {
   "display_name": "Python 3",
   "language": "python",
   "name": "python3"
  },
  "language_info": {
   "codemirror_mode": {
    "name": "ipython",
    "version": 3
   },
   "file_extension": ".py",
   "mimetype": "text/x-python",
   "name": "python",
   "nbconvert_exporter": "python",
   "pygments_lexer": "ipython3",
   "version": "3.8.8"
  }
 },
 "nbformat": 4,
 "nbformat_minor": 5
}
