{
 "cells": [
  {
   "cell_type": "markdown",
   "id": "d77a4728-6b6e-4f24-9d6f-fe05ac07a1b4",
   "metadata": {
    "tags": []
   },
   "source": [
    "# Fikspunktiterasjon\n",
    "\n",
    "Én måte å tilnærme røtter på er ved hjelp av såkalt *fikspunktiterasjon*, som baserer seg på *fikspunkter*.\n",
    "\n",
    "> #### *Definisjon* (fikspunkt):\n",
    "Vi sier at $r$ er et *fikspunkt* for funksjonen $g$ dersom $g(r) = r$.\n",
    "\n",
    "Fra definisjonen ovenfor ser vi at et fikspunkt $r$ for en funksjon $g$ vil være en rot for funksjonen $f$ gitt av $f(x) = g(x)-x$.\n",
    "\n",
    "Vi kan da også gå motsatt vei, gitt ligningen $f(x)=0$ kan vi skrive den om som et fikspunkt for en funksjon $g$.\n",
    "For eksempel kan vi legge til $x$ på begge sider og få $x = f(x) + x$; dermed er en rot for $f$ også et fikspunkt for funksjonen $g$ gitt ved $g(x) = f(x) + x$.\n",
    "Merk at vi vanligvis vil bruke den spesifikke formen til funksjonen $f$ til å bestemme en fornuftig funksjon $g$ for problemet vårt.\n",
    "\n",
    "Idéen bak dette er at vi med ligningen $x=g(x)$ lett kan definere en *iterasjon*, det vil si gitt en verdi $x_n$ kan vi lage oss en ny verdi $x_{n+1}$ gjennom å definere den nye verdien som\n",
    "\n",
    "$$ x_{n+1} = g(x_n). \\tag{2.3}$$\n",
    "\n",
    "Dersom vi fortsetter denne iterasjonen og neste *iterat* $x_{n+1}$ etter hvert ikke forandrer seg nevneverdig fra forrige iterat $x_n$, det vil si $|x_{n+1}-x_n| = |g(x_n)-x_n|$ er liten, vil vi ha en god tilnærming av et fikspunkt for $g$, og dermed også av en rot for $f$.\n",
    "\n",
    ">#### Eksempel:\n",
    "La oss se på funksjonen $f(x) = e^{x}-2x-1$, hvor vi kan sjekke at $x=0$ er en rot. Det finnes også en rot $r$ til, og denne oppfyller $1 < r < 2$.\n",
    "Dette følger av at $e^1 = e \\approx 2.72$ og $e^2 \\approx 7.39$, og dermed har vi at $f(1) < 0 < f(2)$.\n",
    "La oss plotte funksjonen $f$ på dette intervallet.\n",
    "><img src=\"2_fikspunkt.png\" style=\"width: 100%\">\n",
    "Ganske riktig, funksjonen $f$ har ett nullpunkt i intervallet $(1,2)$, og mer presist et sted mellom $x=1.2$ og $x=1.3$.\n",
    "Det er mer enn èn måte å skrive om $f(x) = e^x-2x-1=0$ på formen $x=g(x)$; vi gir to eksempler nedenfor,\n",
    "$$ x = g_1(x) = \\frac{e^x-1}{2} \\quad \\text{og} \\quad x = g_2(x) = \\ln(1+2x). $$\n",
    "Ovenfor har vi plottet $y=g(x)$ og $y=x$ for hver av disse, og vi ser at disse kurvene krysser hverandre i punktet $r$ hvor $f(r)=0$, som de burde."
   ]
  },
  {
   "cell_type": "markdown",
   "id": "15baf726-2fcc-47bc-9bf9-69c4b760bcce",
   "metadata": {},
   "source": [
    "Dette fremstår kanskje litt mystisk: er det i det hele tatt gitt at en slik prosess kan føre fram?\n",
    "Under visse betingelser kan vi garantere at det finnes et fikspunkt, som i det følgende resultatet.\n",
    "\n",
    "> #### **Teorem** (Eksistens av fikspunkt):\n",
    "Gitt en kontinuerlig funksjon g på intervallet $[a,b]$, som oppfyller at $a \\le g(x) \\le b$ for $a \\le x \\le b$. Da vil det finnes minst ett fikspunkt for $g$ på $[a,b]$.\n",
    "\n",
    "I illustrasjonen ovenfor så vi at det var mer enn én måte å velge $g$ på, og alle er ikke like hensiktsmessige sett fra teoremet ovenfor:\n",
    "Fra plottet ser vi at det finnes $1 < x < 2$ sånn at $g_1(x) > 2$, vi havner altså utenfor intervallet.\n",
    "På den andre siden ser vi at $1 < g_2(x) < 2$ for alle $1 < x < 2$.\n",
    "\n",
    "Den generelle algoritmen, eller \"oppskriften\", for å finne en løsning ved hjelp av fikspunktiterasjon er som følger.\n",
    "\n",
    ">#### Fikspunktiterasjon – algoritme:\n",
    ">1. Velg en startverdi $x_0$.\n",
    ">2. Iterér for å finne neste verdi, $x_{n+1} = g(x_n)$.\n",
    ">3. Gjenta iterasjonen inntil ønsket nøyaktighet er oppnådd, det vil si, når $|x_n-g(x_n)|$ er liten nok.\n",
    "\n",
    "> #### Eksempel (fortsettelse):\n",
    "La oss velge startverdien $x_0 = 1.5$ og utføre to fikspunktiterasjoner med hver av $g_1$ og $g_2$ fra eksempelet ovenfor. Resultatet er illustrert i grafene under.\n",
    "><img src=\"2_fiksiter1.png\" style=\"width: 100%\">\n",
    "I grafen til venstre finner vi første iterat  som\n",
    ">$$ x_1 = g_1(x_0) = \\frac12 \\left( e^{1.5} -1 \\right) = 1.740... $$\n",
    "Deretter finner vi andre iterat som $x_2 = g_1(x_1) = g_1(1.740...) = 2.351...$\n",
    ">\n",
    ">I grafen til høyre finner vi første iterat  som\n",
    ">$$ x_1 = g_2(x_0) = \\ln(1+2\\cdot 1.5) = \\ln(4.0) = 1.386... $$\n",
    "Deretter finner vi andre iterat som $x_2 = g_2(x_1) = g_2(1.386...) = 1.327...$\n",
    ">\n",
    ">Legg merke til hvordan andre iterat $x_2$ med $g_1$ havner utenfor intervallet $(1,2)$, og vi ser at vi faktisk går lenger og lenger bort fra fikspunktet.\n",
    "På den andre siden, med $g_2$ nærmer vi oss sakte fikspunktet."
   ]
  },
  {
   "cell_type": "markdown",
   "id": "e342424b-267d-4f9c-9650-1d4dbd879553",
   "metadata": {
    "tags": []
   },
   "source": [
    "Hva er så grunnen til denne oppførselen? Hvorfor er $g_1$ et dårligere valg enn $g_2$ her?\n",
    "Før vi svarer på dette gir vi en tilstrekkelig betingelse for at en fikspunktiterasjon med $g$ vil fungere slik vi ønsker.\n",
    "\n",
    "> #### *Definisjon* (kontraksjon):\n",
    "Anta at $g$ er en kontinuelig funksjon på intervallet $[a,b]$. Dersom det finnes en konstant $0 < L < 1$ sånn at\n",
    ">\n",
    ">$$ |g(x)-g(y)| \\le L|x-y| \\quad \\text{for alle} \\ x, y \\in [a,b], \\tag{2.4}$$ sier vi at $g$ er en *kontraksjon* på $[a,b]$.\n",
    "\n",
    "At $g$ er en kontraksjon betyr altså at avstanden mellom $g(x)$ og $g(y)$ er strengt mindre enn avstanden mellom $x$ og $y$. Fra ligning (2.3) ser vi da at\n",
    "\n",
    "$$|x_{n+1}-x_n| = |g(x_n)-g(x_{n-1})| \\le L |x_n-x_{n-1}| < |x_n-x_{n-1}|,$$\n",
    "\n",
    "det vil si, avstanden mellom to påfølgende iterater må avta strengt.\n",
    "Da kan vi bevise det følgende resultatet.\n",
    "\n",
    "> #### **Teorem** (konvergens av fikspunktiterasjon):\n",
    "Anta at $g$ oppfyller betingelsene i Teorem 1 på intervallet $[a,b]$, og i tillegg er en kontraksjon der. Da har $g$ et éntydig (unikt) fikspunkt $r$\n",
    "på $[a,b]$, og iterasjonen gitt av ligning (2.3) vil *konvergere*, det vil si $$ \\lim\\limits_{n\\to\\infty}|x_n-r| = 0, $$ for enhver startverdi $x_0$.\n",
    "\n",
    "Med dette teoremet på plass kan vi finne ut av hva som gikk galt i forrige eksempel.\n",
    "\n",
    ">#### Eksempel (fortsettelse):\n",
    "Fra plottet av iterasjonen med $g_1$ ser det ikke ut som dette er en kontraksjon på intervallet $[1,2]$. Fra [sekantsetningen](A_derivasjon.ipynb) har vi\n",
    ">\n",
    ">$$|g(x)-g(y)| = |g'(s)||x-y| \\quad \\text{for en $s$ mellom $x$ og $y$}. \\tag{2.5}$$\n",
    ">\n",
    ">I vårt tilfelle er\n",
    ">\n",
    ">$$ g_1'(x) = \\frac{e^x}{2} \\quad \\text{og} \\quad g_2'(x) = \\frac{2}{1+2x}.$$\n",
    ">\n",
    ">Legg merke til at $g_1'(x) > 1$ for $x > \\ln(2) \\approx 0.69$, og dermed ser vi at $g_1$ faktisk er det motsatte av en kontraksjon for disse verdiene av $x$, som inkluderer vårt intervall:\n",
    "avstanden mellom to påfølgende iterater vil altså øke.\n",
    "Derimot ser vi at $g_2'(x) < 1$ for $x > \\frac{1}{2}$; mer spesifikt er $\\frac{2}{5} \\le g_1'(x) \\le \\frac{2}{3}$ for $1 \\le x \\le 2$, og dermed er $g_2$\n",
    "en kontraksjon på $[1,2]$ med $L = \\frac{2}{3}$.\n",
    "\n",
    "Basert på hva som skjedde med $g_1$ i eksempelet er det typisk en god idé å i tillegg oppgi et maksimalt antall iterasjoner når man implementerer fikspunktalgoritmen, nettopp for å hindre at programmet aldri stopper i tilfeller hvor vi aldri kommer nær nok fikspunktet.\n",
    "\n",
    "Nedenfor har vi gitt en mulig implementasjon av fikspunktalgoritmen, hvor vi oppgir en ønsket toleranse for $|x_n-g(x_n)| = |x_n-x_{n+1}|$."
   ]
  },
  {
   "cell_type": "code",
   "execution_count": 2,
   "id": "f6d9cae1-a4cb-4fef-bb7e-6e7dc4f5aa2c",
   "metadata": {},
   "outputs": [
    {
     "name": "stdout",
     "output_type": "stream",
     "text": [
      "Med startpunkt 1.5 og to iterasjoner med g1 får vi 2.351078530960102\n",
      "Med startpunkt 1.5 og to iterasjoner med g2 får vi 1.327761429538331\n"
     ]
    }
   ],
   "source": [
    "import numpy as np # importer matematiske funksjoner etc.\n",
    "\n",
    "def g1(x):\n",
    "    return (np.exp(x)-1)/2\n",
    "\n",
    "def g2(x):\n",
    "    return np.log(1+2*x)\n",
    "\n",
    "def fixpoint(g,x0,tol,maxIt):\n",
    "    # implementasjon av fikspunktalgoritmen for en funksjon g,\n",
    "    # startgjett x0, feiltoleranse tol and maksimalt antall iterasjoner maxIt.\n",
    "    # Returnerer siste iterat, feilen and antall iterasjoner\n",
    "    x_prev = x0\n",
    "    x_next = g(x_prev)\n",
    "    It = 1\n",
    "    err = np.abs(x_next-x_prev)\n",
    "    while err > tol and It < maxIt:\n",
    "        x_prev = x_next\n",
    "        x_next = g(x_next)\n",
    "        err = np.abs(x_next-x_prev)\n",
    "        It += 1\n",
    "    return x_next, err, It\n",
    "\n",
    "# La oss sjekke at vi får det samme svaret som i figurene i eksempel 2 ved å velge x0 = 1.5 og maxIt = 2\n",
    "x0 = 1.5\n",
    "print('Med startpunkt {} og to iterasjoner med g1 får vi {}'.format(x0,fixpoint(g1,1.5,1e-3,2)[0]))\n",
    "print('Med startpunkt {} og to iterasjoner med g2 får vi {}'.format(x0,fixpoint(g2,1.5,1e-3,2)[0]))"
   ]
  },
  {
   "cell_type": "code",
   "execution_count": null,
   "id": "6eaf8bf9-a425-49c4-8a37-eaa50fcffb5e",
   "metadata": {},
   "outputs": [],
   "source": []
  }
 ],
 "metadata": {
  "kernelspec": {
   "display_name": "Python 3",
   "language": "python",
   "name": "python3"
  },
  "language_info": {
   "codemirror_mode": {
    "name": "ipython",
    "version": 3
   },
   "file_extension": ".py",
   "mimetype": "text/x-python",
   "name": "python",
   "nbconvert_exporter": "python",
   "pygments_lexer": "ipython3",
   "version": "3.8.8"
  }
 },
 "nbformat": 4,
 "nbformat_minor": 5
}
