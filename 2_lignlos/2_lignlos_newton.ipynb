{
 "cells": [
  {
   "cell_type": "markdown",
   "id": "98eee242-73d7-4678-a9d0-c2aaac242b5a",
   "metadata": {},
   "source": [
    "# Newtons metode\n",
    "\n",
    "En ulempe med fikspunktiterasjon er at når den konvergerer, vil det typisk skje nokså langsomt.\n",
    "Dette kan forbedres dersom vi har mer informasjon om funksjonen $f$ vi vil finne roten til; i fikspunktiterasjonen bruker vi kun $f$ selv til å finne en funksjon $g$ å iterere med, $x_{n+1} = g(x_n)$.\n",
    "\n",
    "Dersom vi kjenner den deriverte $f'$, vet vi mer om hvordan $f$ oppfører seg, og dette kan vi bruke til å finne en mer effektiv iterativ metode.\n",
    "Idéen er som følger: gitt en gjetning $x_n$ som ikke er roten selv, $f(x_n) \\neq 0$, kan vi finne tangenten til funksjonen $f$ i dette punktet, $y = y(x)$ gitt ved\n",
    "\n",
    "$$ y = f(x_n) + f'(x_n)(x-x_n). \\tag{2.6} $$\n",
    "\n",
    "Dersom denne tangenten ikke er horisontal, det vil si at vi ikke har $y(x) \\equiv f(x_n) \\iff f'(x_n)=0$, så vil tangenten skjære $x$-aksen i ett punkt hvor $y=0$.\n",
    "Vi antar derfor $f'(x_n) \\neq 0$ slik at dette er tilfelle.\n",
    "Dersom $x_n$ er nær nok roten $r$ er det rimelig at dette skjæringspunktet er en bedre tilnærming av $r$ enn $x_n$, så vi kan definere dette som vårt neste iterat: vi setter $y=0$ i ligning (2.6), løser for x og finner\n",
    "\n",
    "$$ x_{n+1} = x_n - \\frac{f(x_n)}{f'(x_n)}. \\tag{2.7} $$\n",
    "\n",
    "Dette er Newtons metode, og vi kan merke oss at vi kan se på denne som en fikspunktmetode med funksjonen $g$ gitt av\n",
    "\n",
    "$$g(x) = x - \\frac{f(x)}{f'(x)},$$\n",
    "\n",
    "som tydelig oppfyller $r = g(r)$ dersom $f(r) = 0$ og $f'(r) \\neq 0$.\n",
    "\n",
    "Dersom vi antar at $f$ er to ganger kontinuerlig deriverbar ser vi også at\n",
    "\n",
    "$$ g'(x) = 1 - \\frac{f'(x)f'(x)-f(x)f''(x)}{(f'(x))^2} = \\frac{f(x) f''(x)}{(f'(x))^2}, $$\n",
    "\n",
    "som viser at dersom $r$ er en rot for $f$, så er Newtons metode lokalt konvergent mot $r$ dersom $f'(r)\\neq 0$, siden $g'(r) = 0$.\n",
    "\n"
   ]
  },
  {
   "cell_type": "code",
   "execution_count": null,
   "id": "1066bc9d-6153-4562-95a3-6d36c14f4885",
   "metadata": {},
   "outputs": [],
   "source": []
  }
 ],
 "metadata": {
  "kernelspec": {
   "display_name": "Python 3",
   "language": "python",
   "name": "python3"
  },
  "language_info": {
   "codemirror_mode": {
    "name": "ipython",
    "version": 3
   },
   "file_extension": ".py",
   "mimetype": "text/x-python",
   "name": "python",
   "nbconvert_exporter": "python",
   "pygments_lexer": "ipython3",
   "version": "3.8.8"
  }
 },
 "nbformat": 4,
 "nbformat_minor": 5
}
