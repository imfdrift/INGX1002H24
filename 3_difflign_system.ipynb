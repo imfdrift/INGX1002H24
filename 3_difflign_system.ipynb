{
 "cells": [
  {
   "cell_type": "markdown",
   "id": "4d223c0f-c9dd-4921-8aa2-d5c4045b7822",
   "metadata": {},
   "source": [
    "# Eulers metode for systemer av differensialligninger\n",
    "Tidligere så vi på differensialligninger hvor den ukjente var en skalar størrelse, men ofte har man at den ukjente, og dermed også høyresiden, er en vektor.\n",
    "Vi kan skrive\n",
    "\n",
    "$$ \\boldsymbol{x} = \\begin{bmatrix} x_1 \\\\ x_2 \\\\ \\vdots \\\\ x_m \\end{bmatrix} \\quad \\text{og} \\quad f = \\begin{bmatrix} f_1 \\\\ f_2 \\\\ \\vdots \\\\ f_m \\end{bmatrix} $$\n",
    "\n",
    "slik at disse er $m$-dimensjonale vektorer, og hvor hver komponent $f_i$ av $f$ kan avhenge av alle komponentene i $\\boldsymbol{x}$. Den tilhørende differensialligningen blir da\n",
    "\n",
    "$$ \\boldsymbol{x}'(t) = f(\\boldsymbol{x}(t)), \\tag{3}$$\n",
    "\n",
    "hvor $\\boldsymbol{x}'$ betyr at man deriverer hver komponent med hensyn på $t$. I det tilhørende startverdiproblemet er også $\\boldsymbol{x}(0)$ spesifisert.\n",
    "\n",
    "Vi kan godt bruke Eulers metode i dette tilfellet også. La $\\boldsymbol{x}(0) = \\boldsymbol{x}_0$ være startverdien ved $t=0$, $t_n = n h$ for en steglengde $h>0$.\n",
    "Helt analogt med det skalare tilfellet kan vi da definere tilnærmingen $\\boldsymbol{x}_n$ av $\\boldsymbol{x}(t_n)$ som\n",
    "\n",
    "$$ \\boldsymbol{x}_{n+1} = \\boldsymbol{x}_n + h f(\\boldsymbol{x}_n), \\quad n=0,1,\\dots $$\n",
    "\n",
    "I dette kurset begrenser vi oss til å se på lineære systemer på formen $f(\\boldsymbol{x}) = A\\boldsymbol{x} + \\boldsymbol{b}$, hvor $A$ er en konstant $m\\times m$-matrise og $\\boldsymbol{b}$ en konstant vektor.\n",
    "Da vil ligning (3) tilsvare\n",
    "\n",
    "$$ \\boldsymbol{x}'(t) = A \\boldsymbol{x}(t) + \\boldsymbol{b} \\tag{4}$$\n",
    "\n",
    "og den tilhørende Eulers metode blir\n",
    "\n",
    "$$ \\boldsymbol{x}_{n+1} = \\boldsymbol{x}_n + h ( A \\boldsymbol{x}_n + \\boldsymbol{b}), \\quad n=0,1,\\dots \\tag{5} $$"
   ]
  },
  {
   "cell_type": "markdown",
   "id": "ca0c7a3c-921e-4f87-a921-993cc6835c13",
   "metadata": {},
   "source": [
    "## Omskriving av andreordens differensialligninger\n",
    "En andreordens lineær og homogen differensialligning med konstante koeffisienter er på formen\n",
    "\n",
    "$$ x''(t) + b x'(t) + c x(t) = d, \\tag{6} $$\n",
    "\n",
    "for en ukjent funksjon $x(t)$ og konstanter $b$, $c$ og $d$.\n",
    "Merk at for det tilhørende startverdiproblemet må vi i tillegg til startverdien av den ukjente funksjonen også spesifisere startverdien til den førstederiverte: vi må altså ha verdien av både $x(0)$ og $x'(0)$.\n",
    "\n",
    "\n",
    "Det er mulig å finne en generell løsning av (6), men vil vi i stedet vise hvordan den kan skrives om til et førsteordens lineært system av differensialligninger.\n",
    "Dette kan gjøres ved å innføre variabelen $y(t) = x'(t)$, slik at ligningen ovenfor er ekvivalent til\n",
    "\n",
    "$$ \\begin{align} x'(t) &= y(t) \\\\ y'(t) &= d - c x(t) - b y(t) \\end{align} $$\n",
    "\n",
    "Med [matrisenotasjon](A_linalg.ipynb) kan vi skrive dette systemet som\n",
    "\n",
    "$$ \\begin{bmatrix} x'(t) \\\\ y'(t) \\end{bmatrix} = \\begin{bmatrix} 0 & 1 \\\\ -c & -b \\end{bmatrix} \\begin{bmatrix} x(t) \\\\ y(t) \\end{bmatrix} + \\begin{bmatrix} 0 \\\\ d \\end{bmatrix}, $$\n",
    "\n",
    "som er nøyaktig på formen til ligning (4).\n",
    "For startverdiproblemet vil både $x(0)$ og $x'(0) = y(0)$ være gitt, slik at startverdien til vektoren med komponenter $x(t)$ og $y(t)$ også er gitt.\n",
    "\n",
    "Samme idé kan brukes til å skrive om høyere ordens differensialligninger for én ukjent til førsteordens systemer av differensialligninger.\n",
    "Tallet på ukjente (størrelsen av systemet) vil da være lik graden til den høyeste deriverte: slik som andreordensligningen (6) gav et system av to ukjente.\n",
    "\n",
    "En av fordelene med å skrive om til et førsteordens system er at det er lett å definere Eulers metode for et slikt system: det er nøyaktig ligning (5)."
   ]
  },
  {
   "cell_type": "code",
   "execution_count": null,
   "id": "2e13021f-006c-41ce-8b94-9bfa44e46c45",
   "metadata": {},
   "outputs": [],
   "source": []
  }
 ],
 "metadata": {
  "kernelspec": {
   "display_name": "Python 3",
   "language": "python",
   "name": "python3"
  },
  "language_info": {
   "codemirror_mode": {
    "name": "ipython",
    "version": 3
   },
   "file_extension": ".py",
   "mimetype": "text/x-python",
   "name": "python",
   "nbconvert_exporter": "python",
   "pygments_lexer": "ipython3",
   "version": "3.8.8"
  }
 },
 "nbformat": 4,
 "nbformat_minor": 5
}
