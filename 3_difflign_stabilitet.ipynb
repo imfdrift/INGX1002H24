{
 "cells": [
  {
   "cell_type": "markdown",
   "id": "92b40f3b-11b7-4db2-b00d-55de6da2a200",
   "metadata": {},
   "source": [
    "# Stabilitet Eulers metode\n",
    "For enkelte ligninger, kjent som stive ligninger, er man nødt til å bruke veldig små steg $h$ for å få en rimelig tilnærming av løsningen.\n",
    "Ligningen (3.2) er en modelligning for dette fenomenet, og her kan man til og med betrakte en kompleks konstant $\\lambda$.\n",
    "Dersom den reelle delen av $\\lambda$ er mindre enn 0, det vil si $\\mathrm{Re}(\\lambda) < 0$, vil løsningen $x_0 e^{c t}$ gå mot 0 når $t \\to \\infty$.\n",
    "For at vi også skal ha at tilnærmingene $x_n$ gitt av Eulers metode skal gå mot 0 når $n \\to \\infty$ må vi ha at $|1+h\\lambda| < 1$, som betyr at $-2 < h \\mathrm{Re}(\\lambda) < 0$.\n",
    "Dersom $\\lambda$ er reell og negativ må vi altså velge $h < -2/\\lambda$ for at dette er oppfylt.\n",
    "\n",
    ">#### Eksempel:\n",
    "Vi ser på initialverdiproblemet\n",
    "$$ x' = -20x, \\qquad x(0) = 1. $$\n",
    "Dette har den eksponentielt avtagende løsningen $x(t) = e^{-20t}$. Vi bruker Eulers metode til å tilnærme løsningen for $0 \\le t \\le 1$ for ulike skrittlengder $h$.\n",
    "Vi ser at for $h = 1/9$, som er større enn den kritiske grensen $h = 1/10$, er Eulers metode ustabil: tilnærmingene $x_n$ øker i absoluttverdi til tross for at den faktiske løsningen skal avta. Dersom vi velger skrittlengden nøyaktig lik $1/10$ ser vi at $x_n$ veksler mellom verdiene $+1$ og $-1$, imens $h=1/11$ gir en svingende, men i absoluttverdi avtagende, tilnærming.\n",
    ">\n",
    "><img src=\"3_stabilitet.png\" style=\"width: 80%\">"
   ]
  },
  {
   "cell_type": "code",
   "execution_count": null,
   "id": "d2d25dc3-1770-434b-b666-ce634c58ae65",
   "metadata": {},
   "outputs": [],
   "source": []
  },
  {
   "cell_type": "code",
   "execution_count": null,
   "id": "778dfdb5-fbaa-46ea-b7b1-9c2a5760064b",
   "metadata": {},
   "outputs": [],
   "source": []
  },
  {
   "cell_type": "code",
   "execution_count": null,
   "id": "ebfb6e83-8848-40b7-8d4f-76ecebe843e2",
   "metadata": {},
   "outputs": [],
   "source": []
  }
 ],
 "metadata": {
  "kernelspec": {
   "display_name": "Python 3",
   "language": "python",
   "name": "python3"
  },
  "language_info": {
   "codemirror_mode": {
    "name": "ipython",
    "version": 3
   },
   "file_extension": ".py",
   "mimetype": "text/x-python",
   "name": "python",
   "nbconvert_exporter": "python",
   "pygments_lexer": "ipython3",
   "version": "3.8.8"
  }
 },
 "nbformat": 4,
 "nbformat_minor": 5
}
