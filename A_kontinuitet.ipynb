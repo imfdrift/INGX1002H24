{
 "cells": [
  {
   "cell_type": "markdown",
   "id": "776cea49-e106-4d63-bb81-1a091a0ebea4",
   "metadata": {},
   "source": [
    "# Appendiks 1: Kontinuitet og skjæringssetningen\n",
    "\n",
    "## Funksjoner, definisjonsmengde og verdimengde\n",
    "Vi starter med å se på en skalar funksjon $f = f(x)$ av en skalar variabel $x$.\n",
    "Det vil si, for et reelt tall $x$ som argument til funksjonen $f$ vil den gi oss et reelt tall $f(x)$.\n",
    "\n",
    "Vi skriver $\\mathbb{R}$ for mengden av alle reelle tall, slik at $x$ ovenfor vil være et element i denne mengden, $x \\in \\mathbb{R}$.\n",
    "\n",
    "Ikke alle slike funksjoner $f$ er definert for alle mulige argumenter $x$. For eksempel er kvadratrot-funksjonen $f(x) = \\sqrt{x}$ kun definert for $x \\ge 0$, og samtidig vil de tilhørende funksjonsverdiene også være større enn eller lik null.\n",
    "Dette leder oss til konseptene definisjonsmengde og verdimengde. Vi skriver definisjonsmengden til $f$ som $D_f$: dette er mengden av alle $x$ som $f$ er definert for.\n",
    "Videre skriver vi $V_f$ for verdimengden til $f$, det vil si de verdiene som $f(x)$ kan ha gitt $x \\in D_f$.\n",
    "\n",
    "Vanligvis velger vi $D_f$ til å være den største mengden $f$ er definert for.\n",
    "Likevel kan det noen ganger være nyttig å begrense seg til en mindre delmengde av denne største mengden, som vi skal se nedenfor.\n",
    "Vi kan da skrive $f\\colon D_f \\to V_f$ hvor vi setter inn for $D_f$ og $V_f$ for å presisere, for eksempel $f\\colon \\mathbb{R} \\to \\mathbb{R}$.\n",
    "\n",
    ">#### Eksempel:\n",
    "Her er noen eksempler på funksjoner og deres største definisjons- og verdimengder.\n",
    ">\n",
    ">Vi har kvadrat-funksjonen\n",
    "$$ f(x) = x^2, \\qquad D_f = \\mathbb{R}, \\qquad V_f = [0,\\infty), $$\n",
    "kvadratrot-funksjonen\n",
    "$$ f(x) = \\sqrt{x}, \\qquad D_f = V_f = [0,\\infty), $$\n",
    "og sinus-funksjonen\n",
    "$$ f(x) = \\sin(x), \\qquad D_f = \\mathbb{R}, \\qquad V_f = [-1, 1]. $$"
   ]
  },
  {
   "cell_type": "markdown",
   "id": "9be279f4-c305-4de3-8f2d-8875e53926a2",
   "metadata": {},
   "source": [
    "### Inverse funksjoner\n",
    "For funksjonene ovenfor kan vi tenke at for en gitt $x \\in D_f$ vil $f$ gi oss en verdi $y \\in V_f$, nemlig $y = f(x)$.\n",
    "\n",
    "Noen ganger er vi intressert i å finne hvilken $x$ som gav en gitt verdi $y$, og det er her *inverse funksjoner* kommer inn.\n",
    "Men for at inversfunksjonen skal være nettopp en funksjon, så kan vi ikke tillate at det er flere enn én $x$ som gir verdien $y$.\n",
    "\n",
    "For eksempel har vi for $f(x) = x^2$ at $f(\\pm 2) = (\\pm2)^2 = 4$.\n",
    "Så ligningen $x^2 = 4$ har to løsninger dersom vi tillater at $x$ kan være i hele $\\mathbb{R}$, og disse løsningene er $x = \\pm\\sqrt{4} = \\pm 2$.\n",
    "Da er det ikke klart hvilken av disse som skal være verdien av inversfunksjonen til $f$ for argumentet $y=4$.\n",
    "Dersom vi i stedet begrenser oss til å lete etter løsninger slik at $x \\ge 0$, er det klart at vi må velge $x=2$.\n",
    "\n",
    "Dersom $f$ har en inversfunksjon skriver vi $f^{-1}$ for denne, og vi har at dersom $y = f(x)$ så er $x = f^{-1}(y)$. Fra dette følger det at\n",
    "\n",
    "$$ f^{-1}(f(x)) = x, \\qquad f(f^{-1}(y)) = y. $$\n",
    "\n",
    "Vi merker oss at for inversfunksjonen bytter definisjons- og verdimengdene rolle, det vil si $D_{f^{-1}} = V_f$ og $V_{f^{-1}} = D_f$.\n",
    "\n",
    "På samme vis kan en funksjon $f$ som ikke har en invers dersom vi lar $D_f$ være så stor som mulig likevel ha en invers dersom vi begrenser $D_f$.\n",
    "\n",
    "For å gå tilbake til eksempelet ovenfor, dersom vi for $f(x) = x^2$ velger $D_f = [0,\\infty)$ som ovenfor, så har $f$ inversfunksjonen $f^{-1}(y) = \\sqrt{y}$.\n",
    "\n",
    "For sinusfunksjonen, $f(x) = \\sin(x)$, er det vanlig å velge $D_f$ til å være det sammenhengende intervallet hvor $\\sin(x)$ tar alle verdier i $[-1,1]$ og som inneholder null, nemlig $[-\\pi/2, \\pi/2]$.\n",
    "\n",
    "Inversfunksjonen til $\\sin\\colon [-\\pi/2, \\pi/2] \\to [-1,1]$ kalles $\\arcsin$,\n",
    "$$ f(x) = \\arcsin(x), \\qquad D_f = [-1, 1], \\qquad V_f = \\left[-\\frac{\\pi}{2}, \\frac{\\pi}{2} \\right], $$\n",
    "Tilsvarende finnes inversfunksjoner for cosinus\n",
    "$$ f(x) = \\arccos(x), \\qquad D_f = [-1, 1], \\qquad V_f = \\left[0, \\pi \\right], $$\n",
    "og tangens\n",
    "$$ f(x) = \\arctan(x), \\qquad D_f = \\mathbb{R}, \\qquad V_f = \\left[-\\frac{\\pi}{2}, \\frac{\\pi}{2} \\right]. $$"
   ]
  },
  {
   "cell_type": "markdown",
   "id": "b56c1e35-ef4a-4e9d-93b1-677891c965e1",
   "metadata": {},
   "source": [
    "## Kontinuitet\n",
    "\n",
    "> #### Definisjon (kontinuitet):\n",
    "En skalar funksjon $f$ er kontinuerlig i punktet $x$ dersom vi gitt en vilkårlig $\\epsilon > 0$ kan finne $\\delta = \\delta(\\epsilon)$ slik at dersom $|y-x| < \\delta$ så er\n",
    "$$ |f(y) -f(x)| < \\epsilon. $$\n",
    "\n",
    "Her skriver vi $\\delta = \\delta(\\epsilon)$ for å understreke at denne typisk vil være avhengig av $\\epsilon$: dersom vi reduserer $\\epsilon$ er vi typisk også nødt til å redusere $\\delta$.\n",
    "\n",
    "Dette kan fremstå nokså abstrakt, men idéen er at for en kontinuerlig funksjon skal det være mulig vi kan gjøre avviket mellom funksjonsverdiene $f(y)$ og $f(x)$ så lite vi vil ved å velge avstanden mellom $y$ og $x$ liten nok.\n",
    "\n",
    "> #### Eksempel:\n",
    "La oss se på funksjonen $f(x) = x^2$ og vise at denne er kontinuerlig i $x=0$ ved hjelp av definisjonen\n",
    "$$ |f(y)-f(0)| = |y^2-0^2| = |y|^2 < \\epsilon \\implies \\delta(\\epsilon) = \\sqrt{\\epsilon} $$\n",
    "Altså vil $|f(y)-f(0)| < \\epsilon$ for $|y|=|y-0| < \\sqrt{\\epsilon}$."
   ]
  },
  {
   "cell_type": "markdown",
   "id": "ad9e88a3-1ff0-4a21-b550-115cb4bcda15",
   "metadata": {},
   "source": [
    "## Skjæringssetningen"
   ]
  },
  {
   "cell_type": "markdown",
   "id": "f21e6a74-c687-4a03-8e2a-e8a55e946dd4",
   "metadata": {},
   "source": [
    "---\n",
    "> #### Teorem (Skjæringssetningen):\n",
    "La $f$ være en funksjon definert på intervallet $[a,b]$, som i endepunktene tar verdiene $f(a)$ og $f(b)$. Dersom $f(a) \\neq f(b)$ så må funksjonen ta alle verdier mellom $f(a)$ og $f(b)$. Altså, for enhver verdi $d$ mellom $f(a)$ og $f(b)$ må det finnes en $c \\in (a, b)$ sånn at $f(c) = d$.\n",
    "---\n",
    "\n",
    "For eksempel tar funksjonen $f(x) = x$ verdiene $f(\\pm 1)$ i punktene $\\pm 1$.\n",
    "Siden $f$ er kontinuerlig må den i intervallet $(-1,1)$ også ta alle verdiene mellom $-1$ og $1$, som vi vet at den gjør fordi funksjonsverdien $f(x)$ er lik argumentet $x$."
   ]
  },
  {
   "cell_type": "markdown",
   "id": "93cf29b6-98d2-411f-97eb-99ddd008d2db",
   "metadata": {},
   "source": [
    "## Funksjoner av flere variable\n",
    "\n",
    "For denne delen kan det være til hjelp å kjenne til [lineære systemer](A-3_linalg.ipynb) på formen $\\boldsymbol{y} = A\\boldsymbol{x}$.\n",
    "\n",
    "### Vektornormer\n",
    "Dersom vi har mer enn én skalar variabel $x$, si vi har $n$ av dem som vi kaller $x_1, x_2, \\dots, x_n$, så kan disse samles i en vektor $\\boldsymbol{x} \\in \\mathbb{R}^n$ med $n$ komponenter.\n",
    "\n",
    "$$ \\boldsymbol{x} = \\begin{bmatrix} x_1 \\\\ x_2 \\\\ \\vdots \\\\ x_n \\end{bmatrix}, \\qquad \\|\\boldsymbol{x}\\|_p \\doteq \\left(|x_1|^p + |x_2|^p + \\dots + |x_n|^p\\right)^{1/p} = \\left(\\sum_{i=1}^n |x_i|^p \\right)^{1/p} $$\n",
    "\n",
    "På samme måte som $x=y$ hvis og bare hvis $|x-y|=0$ for $x, y \\in \\mathbb{R}$ så er $\\boldsymbol{x}=\\boldsymbol{y}$ hvis og bare hvis $\\|\\boldsymbol{x}-\\boldsymbol{y}\\| = 0$ for $\\boldsymbol{x}, \\boldsymbol{y} \\in \\mathbb{R}^n$\n",
    "\n",
    "\n",
    "\n",
    "For $1 \\le p < q < \\infty$\n",
    "$$ \\|\\boldsymbol{x}\\|_\\infty = \\max_{1 \\le i \\le n}|x_i| \\le \\|\\boldsymbol{x}\\|_q \\le \\|\\boldsymbol{x}\\|_p $$\n",
    "\n",
    "For vektorer bruker vi vanligvis $p=2$, den *euklidske normen* \n",
    "\n",
    ">#### Eksempel:\n",
    "Si vi har en vektor $\\boldsymbol{x}$ med de tre komponentene $2$, $3$ og $6$. Da kan vi finne $\\|\\boldsymbol{x}\\|_p$ for $p=1,2,\\infty$.\n",
    "$$ \\boldsymbol{x} = \\begin{bmatrix} 2 \\\\ 3 \\\\ 6 \\end{bmatrix}, \\quad \\|\\boldsymbol{x}\\|_\\infty = 6, \\quad \\|\\boldsymbol{x}\\|_2 = 7 \\quad \\|\\boldsymbol{x}\\|_1 = 11 $$"
   ]
  },
  {
   "cell_type": "markdown",
   "id": "679fe5f9-955e-495e-b125-2db5f2fa2700",
   "metadata": {},
   "source": [
    "### Kontinuitet\n",
    "$f$ tar inn $n$ skalare verdier $x_1, x_2, \\dots, x_n$ og gir ut $m$ skalare verdier $y_1, y_2, \\dots, y_m$ $\\boldsymbol{y} = f(\\boldsymbol{x})$\n",
    "$$ f\\colon \\mathbb{R}^n \\to \\mathbb{R}^m $$\n",
    "\n",
    "> #### Definisjon (kontinuitet):\n",
    "En funksjon $f \\colon \\mathbb{R}^n \\to \\mathbb{R}^m$ er kontinuerlig i punktet $\\boldsymbol{x}$ dersom vi gitt en vilkårlig $\\epsilon > 0$ kan finne $\\delta = \\delta(\\epsilon)$ slik at dersom $\\|\\boldsymbol{y}-\\boldsymbol{x}\\| < \\delta$ så er\n",
    "$$ \\|f(\\boldsymbol{y}) -f(\\boldsymbol{x})\\| < \\epsilon. $$\n",
    "\n",
    "Vi unngår $f(\\boldsymbol{x}) = \\boldsymbol{0}$ $A \\boldsymbol{x} = \\boldsymbol{b}$ $\\boldsymbol{x} = A^{-1}\\boldsymbol{b}$\n",
    "\n",
    ">#### Eksempel:\n",
    "$f(\\boldsymbol{x}) = A\\boldsymbol{x}$\n",
    "\n",
    "### Matrisenormer\n",
    "\n",
    "\n",
    "\n",
    "\n",
    " $m\\times n$-matrise $A$ med komponenter $a_{ij}$ gi $\\boldsymbol{y} = A\\boldsymbol{x}$ hvor $\\boldsymbol{y} \\in \\mathbb{R}^m$\n",
    "\n",
    "$$ A = \\begin{bmatrix} a_{11} & a_{12} & \\dots & a_{1n} \\\\ a_{21} & a_{22} &  & a_{2n} \\\\ \\vdots & & \\ddots & \\vdots \\\\ a_{n1} & a_{n2} & \\dots & a_{nn} \\end{bmatrix} \\qquad \\|A\\|_{\\infty} = \\max_{1\\le i\\le m}\\sum_{j=1}^{n}|a_{ij}| \\qquad \\|A\\|_{1} = \\max_{1\\le j\\le n}\\sum_{i=1}^{m}|a_{ij}| $$\n",
    "\n",
    "[diagonaldominans](Jacobi.ipynb)\n",
    "\n",
    "**Merk**: Den euklidske matrisenormen $\\|A\\|_2$ er mer komplisert å beregne, og involverer noe som kalles *egenverdier* for matriser som vi ikke dekker her."
   ]
  },
  {
   "cell_type": "code",
   "execution_count": null,
   "id": "c001b986-98d3-45ea-8a24-7471e11dde58",
   "metadata": {},
   "outputs": [],
   "source": []
  },
  {
   "cell_type": "code",
   "execution_count": null,
   "id": "affbce7d-fcf6-4bd2-a089-1698fbf9fddf",
   "metadata": {},
   "outputs": [],
   "source": []
  }
 ],
 "metadata": {
  "kernelspec": {
   "display_name": "Python 3",
   "language": "python",
   "name": "python3"
  },
  "language_info": {
   "codemirror_mode": {
    "name": "ipython",
    "version": 3
   },
   "file_extension": ".py",
   "mimetype": "text/x-python",
   "name": "python",
   "nbconvert_exporter": "python",
   "pygments_lexer": "ipython3",
   "version": "3.8.8"
  }
 },
 "nbformat": 4,
 "nbformat_minor": 5
}
