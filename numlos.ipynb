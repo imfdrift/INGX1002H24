{
 "cells": [
  {
   "cell_type": "markdown",
   "id": "fcc8ab5d-ab50-4182-9b40-f19f42099fd3",
   "metadata": {
    "tags": []
   },
   "source": [
    "# Numerisk løsning av ligninger\n",
    "\n",
    "I matematikken er vi vant med å kunne løse likninger eksakt, som for eksempel å finne de verdier av $x$ som oppfyller $x^2 + 2x +1 = 1$.\n",
    "Imidlertid er det ofte verken mulig eller hensiktsmessig å løse likninger eksakt, og man ''nøyer seg'' derfor med en tilnærming (approksimasjon)."
   ]
  },
  {
   "cell_type": "markdown",
   "id": "d77a4728-6b6e-4f24-9d6f-fe05ac07a1b4",
   "metadata": {},
   "source": [
    "## Fikspunktiterasjon\n",
    "\n",
    "En ligning kan alltid skrives på formen $f(x)=0$, og å løse ligningen er det samme som å finne et nullpunkt eller en *rot* for funksjonen.\n",
    "\n",
    "> **Definisjon**: Funksjonen $f$ har en *rot* i $x=r$ dersom $f(r) = 0$.\n",
    "\n",
    "Èn måte å tilnærme røtter på er ved hjelp av såkalt **fikspunktiterasjon**, som baserer seg på *fikspunkter*.\n",
    "\n",
    "> **Definisjon**: Vi sier at $r$ er et *fikspunkt* for funksjonen $g$ dersom $g(r) = r$.\n",
    "\n",
    "Fra definisjonene ovenfor ser vi at et fikspunkt $r$ for en funksjon $g$ vil være en rot for funksjonen $f$ gitt ved $f(x) = x - g(x)$.\n",
    "\n",
    "Vi kan da også gå motsatt vei, gitt ligningen $f(x)=0$ kan vi skrive den om som et fikspunkt for en funksjon $g$: her kan vi legge til $x$ på begge sider og få $x = f(x) + x$, dermed er en rot for $f$ også et fikspunkt for funksjonen $g$ gitt ved $g(x) = f(x) + x$.\n",
    "\n",
    "---\n",
    "\n",
    "1. Velg en startverdi $x_0$.\n",
    "2. Iterér for å finne neste verdi, $x_{n+1} = g(x_n)$.\n",
    "\n",
    "---"
   ]
  },
  {
   "cell_type": "code",
   "execution_count": null,
   "id": "885d21d7-04f9-48b8-b81b-599e1c18f552",
   "metadata": {},
   "outputs": [],
   "source": []
  }
 ],
 "metadata": {
  "kernelspec": {
   "display_name": "Python 3",
   "language": "python",
   "name": "python3"
  },
  "language_info": {
   "codemirror_mode": {
    "name": "ipython",
    "version": 3
   },
   "file_extension": ".py",
   "mimetype": "text/x-python",
   "name": "python",
   "nbconvert_exporter": "python",
   "pygments_lexer": "ipython3",
   "version": "3.8.8"
  }
 },
 "nbformat": 4,
 "nbformat_minor": 5
}
