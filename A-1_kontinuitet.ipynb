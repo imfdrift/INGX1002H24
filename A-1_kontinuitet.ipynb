{
 "cells": [
  {
   "cell_type": "markdown",
   "id": "776cea49-e106-4d63-bb81-1a091a0ebea4",
   "metadata": {},
   "source": [
    "# Appendiks 1: Kontinuitet og skjæringssetningen\n",
    "\n",
    "## Funksjoner, definisjonsmengde, verdimengde\n",
    "Vi starter med å se på en skalar funksjon $f = f(x)$ av en skalar variabel $x$.\n",
    "Det vil si, for et reelt tall $x$ som argument til funksjonen $f$ vil den gi oss et reelt tall $f(x)$.\n",
    "Vi skriver $\\mathbb{R}$ for mengden av alle reelle tall, slik at $x$ ovenfor vil være et element i denne mengden, $x \\in \\mathbb{R}$.\n",
    "$f\\colon D_f \\to V_f$  $f\\colon \\mathbb{R} \\to \\mathbb{R}$\n",
    "\n",
    "Noen funksjoner er kun definert for visse verd... definisjonsmengde $D_f$, verdimengde $V_f$\n",
    "$$ f(x) = x^2, \\qquad D_f = \\mathbb{R}, \\qquad V_f = [0,\\infty) $$\n",
    "$$ f(x) = \\sqrt{x}, \\qquad D_f = V_f = [0,\\infty) $$\n",
    "$$ f(x) = \\sin(x), \\qquad D_f = \\mathbb{R}, \\qquad V_f = [-1, 1] $$\n",
    "\n",
    "### Inverse funksjoner\n",
    "For en funksjon $f$ $y = f(x)$ $x = f^{-1}(y)$\n",
    "Både $f(\\pm 2) = (\\pm2)^2 = 4$\n",
    "Dette er grunnen til at ligningen $x^2 = 4$ har to løsninger dersom vi tillater at $x$ kan være $x \\in \\mathbb{R}$, $x = \\pm\\sqrt{4} = \\pm 2$.\n",
    "Dersom vi i stedet begrenser oss til å lete etter løsninger slik at $x \\ge 0$\n",
    "\n",
    "$f^{-1}(f(x)) = x$, $f(f^{-1}(y)) = y$\n",
    "\n",
    "På samme vis kan en funksjon som ikke har en invers dersom ... ha en invers\n",
    "\n",
    "For sinusfunksjonen, $f(x) = \\sin(x)$, er det vanlig å velge $D_f$ til å være det sammenhengende intervallet hvor $\\sin(x)$ tar alle verdier i $[-1,1]$ og som inneholder null, nemlig $[-\\pi/2, \\pi/2]$\n",
    "$$ f(x) = \\arcsin(x), \\qquad D_f = [-1, 1], \\qquad V_f = \\left[-\\frac{\\pi}{2}, \\frac{\\pi}{2} \\right] $$"
   ]
  },
  {
   "cell_type": "markdown",
   "id": "b56c1e35-ef4a-4e9d-93b1-677891c965e1",
   "metadata": {},
   "source": [
    "## Kontinuitet\n",
    "\n",
    "> #### Definisjon (kontinuitet):\n",
    "En funksjon $f$ er kontinuerlig i punktet $x$ dersom vi gitt en vilkårlig $\\epsilon > 0$ kan finne $\\delta = \\delta(\\epsilon)$ slik at dersom $|y-x| < \\delta$ så er\n",
    "$$ |f(y) -f(x)| < \\epsilon. $$\n",
    "\n",
    "Her skriver vi $\\delta = \\delta(\\epsilon)$ for å understreke at denne typisk vil være avhengig av $\\epsilon$: dersom vi reduserer $\\epsilon$ er vi typisk også nødt til å redusere $\\delta$.\n",
    "\n",
    "Dette kan fremstå nokså abstrakt, men idéen er at for en kontinuerlig funksjon skal det være mulig vi kan gjøre avviket mellom funksjonsverdiene $f(y)$ og $f(x)$ så lite vi vil ved å velge avstanden mellom $y$ og $x$ liten nok.\n",
    "\n",
    "> #### Eksempel:\n",
    "La oss se på funksjonen $f(x) = x^2$\n",
    "$$ |f(y)-f(0)| = |y^2-0^2| = |y|^2 < \\epsilon \\implies \\delta(\\epsilon) = \\sqrt{\\epsilon} $$"
   ]
  },
  {
   "cell_type": "markdown",
   "id": "ad9e88a3-1ff0-4a21-b550-115cb4bcda15",
   "metadata": {},
   "source": [
    "## Skjæringssetningen"
   ]
  },
  {
   "cell_type": "markdown",
   "id": "f21e6a74-c687-4a03-8e2a-e8a55e946dd4",
   "metadata": {},
   "source": [
    "---\n",
    "> #### Teorem (Skjæringssetningen):\n",
    "La $f$ være en funksjon definert på intervallet $[a,b]$, som i endepunktene tar verdiene $f(a)$ og $f(b)$. Dersom $f(a) \\neq f(b)$ så må funksjonen ta alle verdier mellom $f(a)$ og $f(b)$. Altså, for enhver verdi $d$ mellom $f(a)$ og $f(b)$ må det finnes en $c \\in (a, b)$ sånn at $f(c) = d$.\n",
    "---\n",
    "\n",
    "For eksempel tar funksjonen $f(x) = x$ verdiene $f(\\pm 1)$ i punktene $\\pm 1$.\n",
    "Siden $f$ er kontinuerlig må den i intervallet $(-1,1)$ også ta alle verdiene mellom $-1$ og $1$, som vi vet at den gjør fordi funksjonsverdien $f(x)$ er lik argumentet $x$."
   ]
  },
  {
   "cell_type": "markdown",
   "id": "93cf29b6-98d2-411f-97eb-99ddd008d2db",
   "metadata": {},
   "source": [
    "## Flerdimensjonale\n",
    "\n",
    "$$ \\boldsymbol{x} = \\begin{bmatrix} x_1 \\\\ x_2 \\\\ \\vdots \\\\ x_m \\end{bmatrix}, \\qquad \\|\\boldsymbol{x}\\| = \\sqrt{x_1^2 + x_2^2 + \\dots + x_m^2} $$\n",
    "$\\boldsymbol{x} \\in \\mathbb{R}^m$\n",
    "$$ \\boldsymbol{f}\\colon \\mathbb{R}^m \\to \\mathbb{R}^n $$\n",
    "\n",
    "$$ \\max_{1 \\le i \\le m}|x_i| \\le $$\n",
    "$$ \\boldsymbol{x} = \\begin{bmatrix} 2 \\\\ 3 \\\\ 6 \\end{bmatrix}, \\quad \\|\\boldsymbol{x}\\|_\\infty = 6, \\quad \\|\\boldsymbol{x}\\|_2 = 7 \\quad \\|\\boldsymbol{x}\\|_1 = 11 $$\n",
    "\n",
    "Vi unngår $A \\boldsymbol{x} = \\boldsymbol{b}$ $\\boldsymbol{x} = A^{-1}\\boldsymbol{b}$"
   ]
  },
  {
   "cell_type": "code",
   "execution_count": null,
   "id": "c001b986-98d3-45ea-8a24-7471e11dde58",
   "metadata": {},
   "outputs": [],
   "source": []
  }
 ],
 "metadata": {
  "kernelspec": {
   "display_name": "Python 3",
   "language": "python",
   "name": "python3"
  },
  "language_info": {
   "codemirror_mode": {
    "name": "ipython",
    "version": 3
   },
   "file_extension": ".py",
   "mimetype": "text/x-python",
   "name": "python",
   "nbconvert_exporter": "python",
   "pygments_lexer": "ipython3",
   "version": "3.8.8"
  }
 },
 "nbformat": 4,
 "nbformat_minor": 5
}
